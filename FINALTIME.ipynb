{
 "cells": [
  {
   "cell_type": "code",
   "execution_count": 2,
   "id": "3522c649-df92-418b-9c54-adf3c0a80505",
   "metadata": {},
   "outputs": [
    {
     "name": "stdout",
     "output_type": "stream",
     "text": [
      "CUDA Available:  True\n",
      "GPU Name:  NVIDIA GeForce RTX 3060\n",
      "Current Device:  0\n"
     ]
    }
   ],
   "source": [
    "import torch\n",
    "\n",
    "# Check if CUDA is available\n",
    "print(\"CUDA Available: \", torch.cuda.is_available())\n",
    "\n",
    "# Get the name of the GPU\n",
    "if torch.cuda.is_available():\n",
    "    print(\"GPU Name: \", torch.cuda.get_device_name(0))\n",
    "\n",
    "# Check the current device being used (CPU or GPU)\n",
    "print(\"Current Device: \", torch.cuda.current_device())\n"
   ]
  },
  {
   "cell_type": "code",
   "execution_count": 1,
   "id": "d3f812ae-a557-4aa3-9843-e49edaed84da",
   "metadata": {},
   "outputs": [
    {
     "name": "stdout",
     "output_type": "stream",
     "text": [
      "Total Training Images: 311\n",
      "Total Testing Images: 174\n"
     ]
    }
   ],
   "source": [
    "import os\n",
    "import cv2\n",
    "import numpy as np\n",
    "import torch\n",
    "from torchvision import transforms\n",
    "from torch.utils.data import Dataset, DataLoader\n",
    "\n",
    "# Paths to your datasets\n",
    "TRAIN_GLAUCOMA_DIR = r\"D:\\ProjectML2 - Glaucoma\\FINALLLLLWORK\\RIM-ONE_DL_images\\partitioned_by_hospital\\training_set\\glaucoma\"\n",
    "TRAIN_NORMAL_DIR = r\"D:\\ProjectML2 - Glaucoma\\FINALLLLLWORK\\RIM-ONE_DL_images\\partitioned_by_hospital\\training_set\\normal\"\n",
    "TEST_GLAUCOMA_DIR = r\"D:\\ProjectML2 - Glaucoma\\FINALLLLLWORK\\RIM-ONE_DL_images\\partitioned_by_hospital\\test_set\\glaucoma\"\n",
    "TEST_NORMAL_DIR = r\"D:\\ProjectML2 - Glaucoma\\FINALLLLLWORK\\RIM-ONE_DL_images\\partitioned_by_hospital\\test_set\\normal\"\n",
    "\n",
    "# Image size for all CNN architectures (AlexNet, VGG16, ResNet50, Inception, EfficientNet)\n",
    "IMG_SIZE = 224\n",
    "\n",
    "# PyTorch transforms for preprocessing\n",
    "transform = transforms.Compose([\n",
    "    transforms.ToPILImage(),\n",
    "    transforms.Resize((IMG_SIZE, IMG_SIZE)),\n",
    "    transforms.ToTensor(),\n",
    "    transforms.Normalize(mean=[0.485, 0.456, 0.406], std=[0.229, 0.224, 0.225])\n",
    "])\n",
    "\n",
    "class GlaucomaDataset(Dataset):\n",
    "    def __init__(self, image_paths, labels, transform=None):\n",
    "        self.image_paths = image_paths\n",
    "        self.labels = labels\n",
    "        self.transform = transform\n",
    "\n",
    "    def __len__(self):\n",
    "        return len(self.image_paths)\n",
    "\n",
    "    def __getitem__(self, idx):\n",
    "        img_path = self.image_paths[idx]\n",
    "        image = cv2.imread(img_path)\n",
    "        image = cv2.cvtColor(image, cv2.COLOR_BGR2RGB)\n",
    "        \n",
    "        if self.transform:\n",
    "            image = self.transform(image)\n",
    "        \n",
    "        label = self.labels[idx]\n",
    "        return image, label\n",
    "\n",
    "def load_images_from_folder(folder, label):\n",
    "    images = []\n",
    "    labels = []\n",
    "    for filename in os.listdir(folder):\n",
    "        if filename.endswith(\".jpg\") or filename.endswith(\".png\"):\n",
    "            img_path = os.path.join(folder, filename)\n",
    "            images.append(img_path)\n",
    "            labels.append(label)\n",
    "    return images, labels\n",
    "\n",
    "# Load training data\n",
    "train_images_glaucoma, train_labels_glaucoma = load_images_from_folder(TRAIN_GLAUCOMA_DIR, 1)\n",
    "train_images_normal, train_labels_normal = load_images_from_folder(TRAIN_NORMAL_DIR, 0)\n",
    "\n",
    "train_images = train_images_glaucoma + train_images_normal\n",
    "train_labels = train_labels_glaucoma + train_labels_normal\n",
    "\n",
    "# Load testing data\n",
    "test_images_glaucoma, test_labels_glaucoma = load_images_from_folder(TEST_GLAUCOMA_DIR, 1)\n",
    "test_images_normal, test_labels_normal = load_images_from_folder(TEST_NORMAL_DIR, 0)\n",
    "\n",
    "test_images = test_images_glaucoma + test_images_normal\n",
    "test_labels = test_labels_glaucoma + test_labels_normal\n",
    "\n",
    "# Create Dataset objects\n",
    "train_dataset = GlaucomaDataset(train_images, train_labels, transform=transform)\n",
    "test_dataset = GlaucomaDataset(test_images, test_labels, transform=transform)\n",
    "\n",
    "# Create DataLoaders\n",
    "train_loader = DataLoader(train_dataset, batch_size=32, shuffle=True)\n",
    "test_loader = DataLoader(test_dataset, batch_size=32, shuffle=False)\n",
    "\n",
    "print(f\"Total Training Images: {len(train_dataset)}\")\n",
    "print(f\"Total Testing Images: {len(test_dataset)}\")\n"
   ]
  },
  {
   "cell_type": "code",
   "execution_count": 7,
   "id": "117a628c-329e-4e03-97c6-0a69c833b358",
   "metadata": {},
   "outputs": [
    {
     "name": "stderr",
     "output_type": "stream",
     "text": [
      "Extracting Features using AlexNet: 100%|███████| 10/10 [00:04<00:00,  2.48it/s]\n",
      "Extracting Features using VGG16: 100%|█████████| 10/10 [00:04<00:00,  2.01it/s]\n",
      "Extracting Features using ResNet50: 100%|██████| 10/10 [00:04<00:00,  2.26it/s]\n",
      "Extracting Features using InceptionV3: 100%|███| 10/10 [00:04<00:00,  2.02it/s]\n",
      "Extracting Features using EfficientNet-B0: 100%|█| 10/10 [00:04<00:00,  2.08it/\n",
      "Extracting Features using AlexNet: 100%|█████████| 6/6 [00:04<00:00,  1.45it/s]\n",
      "Extracting Features using VGG16: 100%|███████████| 6/6 [00:02<00:00,  2.73it/s]\n",
      "Extracting Features using ResNet50: 100%|████████| 6/6 [00:01<00:00,  3.20it/s]\n",
      "Extracting Features using InceptionV3: 100%|█████| 6/6 [00:01<00:00,  3.07it/s]\n",
      "Extracting Features using EfficientNet-B0: 100%|█| 6/6 [00:01<00:00,  3.34it/s]\n"
     ]
    },
    {
     "name": "stdout",
     "output_type": "stream",
     "text": [
      "✅ Feature extraction completed and saved successfully for all models.\n"
     ]
    }
   ],
   "source": [
    "import torch\n",
    "import torch.nn as nn\n",
    "import torchvision.models as models\n",
    "from tqdm import tqdm\n",
    "\n",
    "# Device configuration\n",
    "device = torch.device(\"cuda\" if torch.cuda.is_available() else \"cpu\")\n",
    "\n",
    "from torchvision.models import AlexNet_Weights, VGG16_Weights, ResNet50_Weights, Inception_V3_Weights, EfficientNet_B0_Weights\n",
    "\n",
    "# Dictionary to store models\n",
    "models_dict = {\n",
    "    \"AlexNet\": models.alexnet(weights=AlexNet_Weights.IMAGENET1K_V1),\n",
    "    \"VGG16\": models.vgg16(weights=VGG16_Weights.IMAGENET1K_V1),\n",
    "    \"ResNet50\": models.resnet50(weights=ResNet50_Weights.IMAGENET1K_V1),\n",
    "    \"InceptionV3\": models.inception_v3(weights=Inception_V3_Weights.IMAGENET1K_V1, aux_logits=True),\n",
    "    \"EfficientNet-B0\": models.efficientnet_b0(weights=EfficientNet_B0_Weights.IMAGENET1K_V1)\n",
    "}\n",
    "\n",
    "\n",
    "# Set all models to evaluation mode and move to device\n",
    "for model_name, model in models_dict.items():\n",
    "    model.eval()\n",
    "    model.to(device)\n",
    "\n",
    "# Feature extraction function\n",
    "# Feature extraction function (Updated)\n",
    "def extract_features(model, loader, model_name):\n",
    "    features = []\n",
    "    labels = []\n",
    "    \n",
    "    with torch.no_grad():\n",
    "        for images, lbls in tqdm(loader, desc=f\"Extracting Features using {model_name}\"):\n",
    "            images = images.to(device)\n",
    "            \n",
    "            if model_name == \"InceptionV3\":\n",
    "                images = nn.functional.interpolate(images, size=(299, 299))  # Resize for InceptionV3\n",
    "            \n",
    "            # Forward pass\n",
    "            if model_name in [\"AlexNet\", \"VGG16\"]:\n",
    "                outputs = model.features(images)\n",
    "                outputs = torch.flatten(outputs, 1)\n",
    "            \n",
    "            elif model_name in [\"ResNet50\", \"EfficientNet-B0\"]:\n",
    "                outputs = model(images)\n",
    "                if isinstance(outputs, torch.Tensor) and len(outputs.shape) == 4:\n",
    "                    outputs = model.avgpool(outputs)\n",
    "                    outputs = torch.flatten(outputs, 1)\n",
    "            \n",
    "            elif model_name == \"InceptionV3\":\n",
    "                outputs = model(images)\n",
    "                outputs = torch.flatten(outputs, 1)\n",
    "            \n",
    "            features.append(outputs.cpu())\n",
    "            labels.append(lbls)\n",
    "    \n",
    "    # Concatenate all extracted features and labels\n",
    "    features = torch.cat(features, dim=0)\n",
    "    labels = torch.cat(labels, dim=0)\n",
    "    \n",
    "    return features, labels\n",
    "\n",
    "\n",
    "# Extract features using all models for training set\n",
    "train_features_dict = {}\n",
    "train_labels_dict = {}\n",
    "\n",
    "for model_name, model in models_dict.items():\n",
    "    features, labels = extract_features(model, train_loader, model_name)\n",
    "    train_features_dict[model_name] = features\n",
    "    train_labels_dict[model_name] = labels\n",
    "\n",
    "# Extract features using all models for testing set\n",
    "test_features_dict = {}\n",
    "test_labels_dict = {}\n",
    "\n",
    "for model_name, model in models_dict.items():\n",
    "    features, labels = extract_features(model, test_loader, model_name)\n",
    "    test_features_dict[model_name] = features\n",
    "    test_labels_dict[model_name] = labels\n",
    "\n",
    "# Save extracted features for later use\n",
    "torch.save(train_features_dict, 'train_features_dict.pth')\n",
    "torch.save(train_labels_dict, 'train_labels_dict.pth')\n",
    "torch.save(test_features_dict, 'test_features_dict.pth')\n",
    "torch.save(test_labels_dict, 'test_labels_dict.pth')\n",
    "\n",
    "print(\"✅ Feature extraction completed and saved successfully for all models.\")\n"
   ]
  },
  {
   "cell_type": "code",
   "execution_count": 8,
   "id": "e7b76ec4-7a60-4a49-922c-70702d64d0ed",
   "metadata": {},
   "outputs": [
    {
     "name": "stdout",
     "output_type": "stream",
     "text": [
      "\n",
      "Training Random Forest for AlexNet...\n",
      "\n",
      "Results for AlexNet:\n",
      "Accuracy: 78.74%\n",
      "Precision: 0.85\n",
      "Recall: 0.41\n",
      "F1-Score: 0.55\n",
      "AUC-ROC: 0.83\n",
      "Confusion Matrix:\n",
      "[[114   4]\n",
      " [ 33  23]]\n",
      "\n",
      "Training Random Forest for VGG16...\n",
      "\n",
      "Results for VGG16:\n",
      "Accuracy: 77.01%\n",
      "Precision: 0.83\n",
      "Recall: 0.36\n",
      "F1-Score: 0.50\n",
      "AUC-ROC: 0.84\n",
      "Confusion Matrix:\n",
      "[[114   4]\n",
      " [ 36  20]]\n",
      "\n",
      "Training Random Forest for ResNet50...\n",
      "\n",
      "Results for ResNet50:\n",
      "Accuracy: 80.46%\n",
      "Precision: 0.76\n",
      "Recall: 0.57\n",
      "F1-Score: 0.65\n",
      "AUC-ROC: 0.82\n",
      "Confusion Matrix:\n",
      "[[108  10]\n",
      " [ 24  32]]\n",
      "\n",
      "Training Random Forest for InceptionV3...\n",
      "\n",
      "Results for InceptionV3:\n",
      "Accuracy: 72.41%\n",
      "Precision: 0.58\n",
      "Recall: 0.50\n",
      "F1-Score: 0.54\n",
      "AUC-ROC: 0.71\n",
      "Confusion Matrix:\n",
      "[[98 20]\n",
      " [28 28]]\n",
      "\n",
      "Training Random Forest for EfficientNet-B0...\n",
      "\n",
      "Results for EfficientNet-B0:\n",
      "Accuracy: 78.74%\n",
      "Precision: 0.77\n",
      "Recall: 0.48\n",
      "F1-Score: 0.59\n",
      "AUC-ROC: 0.84\n",
      "Confusion Matrix:\n",
      "[[110   8]\n",
      " [ 29  27]]\n",
      "\n",
      "✅ All results have been successfully saved to D:\\ProjectML2 - Glaucoma\\FINALLLLLWORK.\n"
     ]
    }
   ],
   "source": [
    "import os\n",
    "from sklearn.ensemble import RandomForestClassifier\n",
    "from sklearn.metrics import accuracy_score, precision_score, recall_score, f1_score, roc_auc_score, confusion_matrix\n",
    "import torch\n",
    "\n",
    "# Path to save results\n",
    "save_path = r\"D:\\ProjectML2 - Glaucoma\\FINALLLLLWORK\"\n",
    "\n",
    "# Load extracted features\n",
    "train_features_dict = torch.load('train_features_dict.pth')\n",
    "train_labels_dict = torch.load('train_labels_dict.pth')\n",
    "test_features_dict = torch.load('test_features_dict.pth')\n",
    "test_labels_dict = torch.load('test_labels_dict.pth')\n",
    "\n",
    "# Models to evaluate\n",
    "model_names = [\"AlexNet\", \"VGG16\", \"ResNet50\", \"InceptionV3\", \"EfficientNet-B0\"]\n",
    "\n",
    "# Initialize results dictionary\n",
    "results = {}\n",
    "\n",
    "for model_name in model_names:\n",
    "    print(f\"\\nTraining Random Forest for {model_name}...\")\n",
    "\n",
    "    # Extract training and testing features and labels\n",
    "    X_train = train_features_dict[model_name].numpy()\n",
    "    y_train = train_labels_dict[model_name].numpy()\n",
    "    X_test = test_features_dict[model_name].numpy()\n",
    "    y_test = test_labels_dict[model_name].numpy()\n",
    "    \n",
    "    # Train Random Forest Classifier\n",
    "    rf_classifier = RandomForestClassifier(n_estimators=100, random_state=42)\n",
    "    rf_classifier.fit(X_train, y_train)\n",
    "    \n",
    "    # Make predictions\n",
    "    y_pred = rf_classifier.predict(X_test)\n",
    "    y_pred_proba = rf_classifier.predict_proba(X_test)[:, 1]\n",
    "    \n",
    "    # Evaluate performance\n",
    "    accuracy = accuracy_score(y_test, y_pred)\n",
    "    precision = precision_score(y_test, y_pred)\n",
    "    recall = recall_score(y_test, y_pred)\n",
    "    f1 = f1_score(y_test, y_pred)\n",
    "    auc = roc_auc_score(y_test, y_pred_proba)\n",
    "    conf_matrix = confusion_matrix(y_test, y_pred)\n",
    "    \n",
    "    # Store results\n",
    "    results[model_name] = {\n",
    "        \"Accuracy\": accuracy,\n",
    "        \"Precision\": precision,\n",
    "        \"Recall\": recall,\n",
    "        \"F1-Score\": f1,\n",
    "        \"AUC-ROC\": auc,\n",
    "        \"Confusion Matrix\": conf_matrix\n",
    "    }\n",
    "\n",
    "    # Display results\n",
    "    print(f\"\\nResults for {model_name}:\")\n",
    "    print(f\"Accuracy: {accuracy * 100:.2f}%\")\n",
    "    print(f\"Precision: {precision:.2f}\")\n",
    "    print(f\"Recall: {recall:.2f}\")\n",
    "    print(f\"F1-Score: {f1:.2f}\")\n",
    "    print(f\"AUC-ROC: {auc:.2f}\")\n",
    "    print(f\"Confusion Matrix:\\n{conf_matrix}\")\n",
    "\n",
    "# Save results for later analysis\n",
    "torch.save(results, os.path.join(save_path, 'model_comparison_results.pth'))\n",
    "\n",
    "print(\"\\n✅ All results have been successfully saved to D:\\\\ProjectML2 - Glaucoma\\\\FINALLLLLWORK.\")\n"
   ]
  },
  {
   "cell_type": "code",
   "execution_count": 32,
   "id": "0eaf2532-f3b9-451e-8b42-c0f484726ea2",
   "metadata": {},
   "outputs": [
    {
     "name": "stdout",
     "output_type": "stream",
     "text": [
      "Error: Missing 'y_pred_proba' or 'y_test' in results for AlexNet. Skipping ROC Curve.\n",
      "Error: Missing 'y_pred_proba' or 'y_test' in results for VGG16. Skipping ROC Curve.\n",
      "Error: Missing 'y_pred_proba' or 'y_test' in results for ResNet50. Skipping ROC Curve.\n",
      "Error: Missing 'y_pred_proba' or 'y_test' in results for InceptionV3. Skipping ROC Curve.\n",
      "Error: Missing 'y_pred_proba' or 'y_test' in results for EfficientNet-B0. Skipping ROC Curve.\n"
     ]
    },
    {
     "name": "stderr",
     "output_type": "stream",
     "text": [
      "C:\\Users\\ASUS\\AppData\\Local\\Temp\\ipykernel_26920\\3920474671.py:37: UserWarning: No artists with labels found to put in legend.  Note that artists whose label start with an underscore are ignored when legend() is called with no argument.\n",
      "  plt.legend(loc='lower right')\n"
     ]
    },
    {
     "data": {
      "image/png": "[encoded data removed]",
      "text/plain": [
       "<Figure size 1200x800 with 1 Axes>"
      ]
     },
     "metadata": {},
     "output_type": "display_data"
    },
    {
     "data": {
      "image/png": "[encoded data removed]",
      "text/plain": [
       "<Figure size 600x600 with 2 Axes>"
      ]
     },
     "metadata": {},
     "output_type": "display_data"
    },
    {
     "data": {
      "image/png": "[encoded data removed]",
      "text/plain": [
       "<Figure size 600x600 with 2 Axes>"
      ]
     },
     "metadata": {},
     "output_type": "display_data"
    },
    {
     "data": {
      "image/png": "[encoded data removed]",
      "text/plain": [
       "<Figure size 600x600 with 2 Axes>"
      ]
     },
     "metadata": {},
     "output_type": "display_data"
    },
    {
     "data": {
      "image/png": "[encoded data removed]",
      "text/plain": [
       "<Figure size 600x600 with 2 Axes>"
      ]
     },
     "metadata": {},
     "output_type": "display_data"
    },
    {
     "data": {
      "image/png": "[encoded data removed]",
      "text/plain": [
       "<Figure size 600x600 with 2 Axes>"
      ]
     },
     "metadata": {},
     "output_type": "display_data"
    }
   ],
   "source": [
    "import matplotlib.pyplot as plt\n",
    "from sklearn.metrics import roc_curve, auc, confusion_matrix, ConfusionMatrixDisplay\n",
    "import torch\n",
    "import numpy as np\n",
    "\n",
    "# Load results with weights_only=False to avoid the error\n",
    "results = torch.load(\n",
    "    r\"D:\\ProjectML2 - Glaucoma\\FINALLLLLWORK\\model_comparison_results.pth\", \n",
    "    weights_only=False\n",
    ")\n",
    "\n",
    "# List of model names to visualize\n",
    "model_names = list(results.keys())\n",
    "\n",
    "# Plot ROC Curves for all models\n",
    "plt.figure(figsize=(12, 8))\n",
    "\n",
    "for model_name in model_names:\n",
    "    try:\n",
    "        # Extract probability predictions and true labels from the results\n",
    "        y_pred_proba = results[model_name][\"y_pred_proba\"]  # Probabilities for positive class (Glaucoma)\n",
    "        y_test = results[model_name][\"y_test\"]  # Actual labels\n",
    "        \n",
    "        # Generate ROC curve\n",
    "        fpr, tpr, _ = roc_curve(y_test, y_pred_proba)\n",
    "        roc_auc = auc(fpr, tpr)\n",
    "        \n",
    "        plt.plot(fpr, tpr, label=f'{model_name} (AUC = {roc_auc:.2f})')\n",
    "        \n",
    "    except KeyError:\n",
    "        print(f\"Error: Missing 'y_pred_proba' or 'y_test' in results for {model_name}. Skipping ROC Curve.\")\n",
    "\n",
    "plt.plot([0, 1], [0, 1], 'k--')  # Diagonal line for random guessing\n",
    "plt.title('ROC Curves for Different Models')\n",
    "plt.xlabel('False Positive Rate')\n",
    "plt.ylabel('True Positive Rate')\n",
    "plt.legend(loc='lower right')\n",
    "plt.show()\n",
    "\n",
    "# Plot Confusion Matrices for all models\n",
    "for model_name in model_names:\n",
    "    cm = results[model_name][\"Confusion Matrix\"]\n",
    "    disp = ConfusionMatrixDisplay(confusion_matrix=cm, display_labels=[\"Normal\", \"Glaucoma\"])\n",
    "    \n",
    "    fig, ax = plt.subplots(figsize=(6, 6))\n",
    "    disp.plot(ax=ax)\n",
    "    plt.title(f'Confusion Matrix for {model_name}')\n",
    "    plt.show()\n"
   ]
  },
  {
   "cell_type": "code",
   "execution_count": 9,
   "id": "339bdb7a-5244-4e9d-b7ee-4785a47dc1b7",
   "metadata": {},
   "outputs": [
    {
     "name": "stdout",
     "output_type": "stream",
     "text": [
      "\n",
      "Processing AlexNet with PCA & Hyperparameter Tuning...\n",
      "Fitting 3 folds for each of 216 candidates, totalling 648 fits\n",
      "\n",
      "Results for AlexNet:\n",
      "Best Hyperparameters: {'bootstrap': False, 'max_depth': 10, 'min_samples_leaf': 1, 'min_samples_split': 10, 'n_estimators': 100}\n",
      "Accuracy: 75.86%\n",
      "Precision: 0.75\n",
      "Recall: 0.38\n",
      "F1-Score: 0.50\n",
      "AUC-ROC: 0.78\n",
      "Confusion Matrix:\n",
      "[[111   7]\n",
      " [ 35  21]]\n",
      "\n",
      "Processing VGG16 with PCA & Hyperparameter Tuning...\n",
      "Fitting 3 folds for each of 216 candidates, totalling 648 fits\n",
      "\n",
      "Results for VGG16:\n",
      "Best Hyperparameters: {'bootstrap': False, 'max_depth': 10, 'min_samples_leaf': 1, 'min_samples_split': 10, 'n_estimators': 100}\n",
      "Accuracy: 74.14%\n",
      "Precision: 0.79\n",
      "Recall: 0.27\n",
      "F1-Score: 0.40\n",
      "AUC-ROC: 0.78\n",
      "Confusion Matrix:\n",
      "[[114   4]\n",
      " [ 41  15]]\n",
      "\n",
      "Processing ResNet50 with PCA & Hyperparameter Tuning...\n",
      "Fitting 3 folds for each of 216 candidates, totalling 648 fits\n",
      "\n",
      "Results for ResNet50:\n",
      "Best Hyperparameters: {'bootstrap': False, 'max_depth': None, 'min_samples_leaf': 2, 'min_samples_split': 2, 'n_estimators': 100}\n",
      "Accuracy: 78.16%\n",
      "Precision: 0.67\n",
      "Recall: 0.62\n",
      "F1-Score: 0.65\n",
      "AUC-ROC: 0.81\n",
      "Confusion Matrix:\n",
      "[[101  17]\n",
      " [ 21  35]]\n",
      "\n",
      "Processing InceptionV3 with PCA & Hyperparameter Tuning...\n",
      "Fitting 3 folds for each of 216 candidates, totalling 648 fits\n",
      "\n",
      "Results for InceptionV3:\n",
      "Best Hyperparameters: {'bootstrap': False, 'max_depth': None, 'min_samples_leaf': 2, 'min_samples_split': 2, 'n_estimators': 200}\n",
      "Accuracy: 70.69%\n",
      "Precision: 0.58\n",
      "Recall: 0.34\n",
      "F1-Score: 0.43\n",
      "AUC-ROC: 0.68\n",
      "Confusion Matrix:\n",
      "[[104  14]\n",
      " [ 37  19]]\n",
      "\n",
      "Processing EfficientNet-B0 with PCA & Hyperparameter Tuning...\n",
      "Fitting 3 folds for each of 216 candidates, totalling 648 fits\n",
      "\n",
      "Results for EfficientNet-B0:\n",
      "Best Hyperparameters: {'bootstrap': False, 'max_depth': None, 'min_samples_leaf': 1, 'min_samples_split': 2, 'n_estimators': 100}\n",
      "Accuracy: 78.16%\n",
      "Precision: 0.80\n",
      "Recall: 0.43\n",
      "F1-Score: 0.56\n",
      "AUC-ROC: 0.83\n",
      "Confusion Matrix:\n",
      "[[112   6]\n",
      " [ 32  24]]\n",
      "\n",
      "✅ Improved model results have been successfully saved to D:\\ProjectML2 - Glaucoma\\FINALLLLLWORK.\n"
     ]
    }
   ],
   "source": [
    "from sklearn.ensemble import RandomForestClassifier\n",
    "from sklearn.metrics import accuracy_score, precision_score, recall_score, f1_score, roc_auc_score, confusion_matrix\n",
    "from sklearn.decomposition import PCA\n",
    "from sklearn.model_selection import GridSearchCV\n",
    "import torch\n",
    "import numpy as np\n",
    "import os\n",
    "\n",
    "# Path to save improved results\n",
    "save_path = r\"D:\\ProjectML2 - Glaucoma\\FINALLLLLWORK\"\n",
    "\n",
    "# Load extracted features\n",
    "train_features_dict = torch.load('train_features_dict.pth')\n",
    "train_labels_dict = torch.load('train_labels_dict.pth')\n",
    "test_features_dict = torch.load('test_features_dict.pth')\n",
    "test_labels_dict = torch.load('test_labels_dict.pth')\n",
    "\n",
    "# Models to evaluate\n",
    "model_names = [\"AlexNet\", \"VGG16\", \"ResNet50\", \"InceptionV3\", \"EfficientNet-B0\"]\n",
    "\n",
    "# Initialize results dictionary\n",
    "improved_results = {}\n",
    "\n",
    "# Hyperparameter grid for tuning\n",
    "param_grid = {\n",
    "    'n_estimators': [100, 200, 300],\n",
    "    'max_depth': [None, 10, 20, 30],\n",
    "    'min_samples_split': [2, 5, 10],\n",
    "    'min_samples_leaf': [1, 2, 4],\n",
    "    'bootstrap': [True, False]\n",
    "}\n",
    "\n",
    "for model_name in model_names:\n",
    "    print(f\"\\nProcessing {model_name} with PCA & Hyperparameter Tuning...\")\n",
    "\n",
    "    # Extract training and testing features and labels\n",
    "    X_train = train_features_dict[model_name].numpy()\n",
    "    y_train = train_labels_dict[model_name].numpy()\n",
    "    X_test = test_features_dict[model_name].numpy()\n",
    "    y_test = test_labels_dict[model_name].numpy()\n",
    "    \n",
    "    # Apply PCA for Feature Reduction\n",
    "    pca = PCA(n_components=0.95)  # Retain 95% of variance\n",
    "    X_train_pca = pca.fit_transform(X_train)\n",
    "    X_test_pca = pca.transform(X_test)\n",
    "    \n",
    "    # Initialize Random Forest Classifier\n",
    "    rf_classifier = RandomForestClassifier(random_state=42)\n",
    "    \n",
    "    # Grid Search for Hyperparameter Tuning\n",
    "    grid_search = GridSearchCV(estimator=rf_classifier, param_grid=param_grid, \n",
    "                               scoring='f1', cv=3, verbose=2, n_jobs=-1)\n",
    "    grid_search.fit(X_train_pca, y_train)\n",
    "    \n",
    "    # Best model after tuning\n",
    "    best_rf = grid_search.best_estimator_\n",
    "    \n",
    "    # Make predictions\n",
    "    y_pred = best_rf.predict(X_test_pca)\n",
    "    y_pred_proba = best_rf.predict_proba(X_test_pca)[:, 1]\n",
    "    \n",
    "    # Evaluate performance\n",
    "    accuracy = accuracy_score(y_test, y_pred)\n",
    "    precision = precision_score(y_test, y_pred)\n",
    "    recall = recall_score(y_test, y_pred)\n",
    "    f1 = f1_score(y_test, y_pred)\n",
    "    auc = roc_auc_score(y_test, y_pred_proba)\n",
    "    conf_matrix = confusion_matrix(y_test, y_pred)\n",
    "    \n",
    "    # Store results\n",
    "    improved_results[model_name] = {\n",
    "        \"Best Hyperparameters\": grid_search.best_params_,\n",
    "        \"Accuracy\": accuracy,\n",
    "        \"Precision\": precision,\n",
    "        \"Recall\": recall,\n",
    "        \"F1-Score\": f1,\n",
    "        \"AUC-ROC\": auc,\n",
    "        \"Confusion Matrix\": conf_matrix\n",
    "    }\n",
    "\n",
    "    # Display results\n",
    "    print(f\"\\nResults for {model_name}:\")\n",
    "    print(f\"Best Hyperparameters: {grid_search.best_params_}\")\n",
    "    print(f\"Accuracy: {accuracy * 100:.2f}%\")\n",
    "    print(f\"Precision: {precision:.2f}\")\n",
    "    print(f\"Recall: {recall:.2f}\")\n",
    "    print(f\"F1-Score: {f1:.2f}\")\n",
    "    print(f\"AUC-ROC: {auc:.2f}\")\n",
    "    print(f\"Confusion Matrix:\\n{conf_matrix}\")\n",
    "\n",
    "# Save improved results for later analysis\n",
    "torch.save(improved_results, os.path.join(save_path, 'improved_model_results.pth'))\n",
    "\n",
    "print(\"\\n✅ Improved model results have been successfully saved to D:\\\\ProjectML2 - Glaucoma\\\\FINALLLLLWORK.\")\n"
   ]
  },
  {
   "cell_type": "code",
   "execution_count": 10,
   "id": "eeb20d12-38b8-4ec9-b87e-89caaf86856e",
   "metadata": {
    "scrolled": true
   },
   "outputs": [
    {
     "name": "stdout",
     "output_type": "stream",
     "text": [
      "✅ Data Augmentation Applied and Augmented DataLoader Saved Successfully.\n"
     ]
    }
   ],
   "source": [
    "import torchvision.transforms as transforms\n",
    "from torch.utils.data import DataLoader\n",
    "import torch\n",
    "import os\n",
    "\n",
    "# Augmentation transforms to apply\n",
    "augmentation_transform = transforms.Compose([\n",
    "    transforms.ToPILImage(),\n",
    "    transforms.Resize((224, 224)),\n",
    "    transforms.RandomHorizontalFlip(p=0.5),\n",
    "    transforms.RandomRotation(degrees=(-30, 30)),\n",
    "    transforms.ColorJitter(brightness=0.2, contrast=0.2, saturation=0.2),\n",
    "    transforms.RandomAffine(degrees=0, scale=(0.8, 1.2)),\n",
    "    transforms.ToTensor(),\n",
    "    transforms.Normalize(mean=[0.485, 0.456, 0.406], std=[0.229, 0.224, 0.225])\n",
    "])\n",
    "\n",
    "class AugmentedGlaucomaDataset(Dataset):\n",
    "    def __init__(self, image_paths, labels, transform=None):\n",
    "        self.image_paths = image_paths\n",
    "        self.labels = labels\n",
    "        self.transform = transform\n",
    "\n",
    "    def __len__(self):\n",
    "        return len(self.image_paths)\n",
    "\n",
    "    def __getitem__(self, idx):\n",
    "        img_path = self.image_paths[idx]\n",
    "        image = cv2.imread(img_path)\n",
    "        image = cv2.cvtColor(image, cv2.COLOR_BGR2RGB)\n",
    "        \n",
    "        if self.transform:\n",
    "            image = self.transform(image)\n",
    "        \n",
    "        label = self.labels[idx]\n",
    "        return image, label\n",
    "\n",
    "# Load training data with augmentation\n",
    "train_dataset_augmented = AugmentedGlaucomaDataset(train_images, train_labels, transform=augmentation_transform)\n",
    "train_loader_augmented = DataLoader(train_dataset_augmented, batch_size=32, shuffle=True)\n",
    "\n",
    "# Save augmented loader for feature extraction\n",
    "torch.save(train_loader_augmented, os.path.join(save_path, 'train_loader_augmented.pth'))\n",
    "\n",
    "print(\"✅ Data Augmentation Applied and Augmented DataLoader Saved Successfully.\")\n"
   ]
  },
  {
   "cell_type": "code",
   "execution_count": 17,
   "id": "01ca1036-b8ba-42ef-ad08-9ae317cbfc1b",
   "metadata": {},
   "outputs": [
    {
     "name": "stdout",
     "output_type": "stream",
     "text": [
      "✅ Successfully saved image paths and labels for augmented data.\n",
      "✅ DataLoader created successfully with augmented training data.\n"
     ]
    },
    {
     "name": "stderr",
     "output_type": "stream",
     "text": [
      "Extracting Features using AlexNet: 100%|███████| 10/10 [00:05<00:00,  1.96it/s]\n"
     ]
    },
    {
     "name": "stdout",
     "output_type": "stream",
     "text": [
      "✅ Successfully extracted features for AlexNet\n"
     ]
    },
    {
     "name": "stderr",
     "output_type": "stream",
     "text": [
      "Extracting Features using VGG16: 100%|█████████| 10/10 [00:05<00:00,  1.76it/s]\n"
     ]
    },
    {
     "name": "stdout",
     "output_type": "stream",
     "text": [
      "✅ Successfully extracted features for VGG16\n"
     ]
    },
    {
     "name": "stderr",
     "output_type": "stream",
     "text": [
      "Extracting Features using ResNet50: 100%|██████| 10/10 [00:05<00:00,  1.90it/s]\n"
     ]
    },
    {
     "name": "stdout",
     "output_type": "stream",
     "text": [
      "✅ Successfully extracted features for ResNet50\n"
     ]
    },
    {
     "name": "stderr",
     "output_type": "stream",
     "text": [
      "Extracting Features using InceptionV3: 100%|███| 10/10 [00:05<00:00,  1.82it/s]\n"
     ]
    },
    {
     "name": "stdout",
     "output_type": "stream",
     "text": [
      "✅ Successfully extracted features for InceptionV3\n"
     ]
    },
    {
     "name": "stderr",
     "output_type": "stream",
     "text": [
      "Extracting Features using EfficientNet-B0: 100%|█| 10/10 [00:05<00:00,  1.90it/"
     ]
    },
    {
     "name": "stdout",
     "output_type": "stream",
     "text": [
      "✅ Successfully extracted features for EfficientNet-B0\n",
      "✅ Feature extraction completed and saved successfully for all models with augmented data.\n"
     ]
    },
    {
     "name": "stderr",
     "output_type": "stream",
     "text": [
      "\n"
     ]
    }
   ],
   "source": [
    "import os\n",
    "import torch\n",
    "import torchvision.transforms as transforms\n",
    "import torchvision.models as models\n",
    "import torch.nn as nn\n",
    "from torch.utils.data import Dataset, DataLoader\n",
    "import cv2\n",
    "from tqdm import tqdm\n",
    "\n",
    "# [Your existing path definitions remain unchanged]\n",
    "save_path = r\"D:\\ProjectML2 - Glaucoma\\FINALLLLLWORK\"\n",
    "train_glaucoma = r\"D:\\ProjectML2 - Glaucoma\\FINALLLLLWORK\\RIM-ONE_DL_images\\partitioned_by_hospital\\training_set\\glaucoma\"\n",
    "train_normal = r\"D:\\ProjectML2 - Glaucoma\\FINALLLLLWORK\\RIM-ONE_DL_images\\partitioned_by_hospital\\training_set\\normal\"\n",
    "test_glaucoma = r\"D:\\ProjectML2 - Glaucoma\\FINALLLLLWORK\\RIM-ONE_DL_images\\partitioned_by_hospital\\test_set\\glaucoma\"\n",
    "test_normal = r\"D:\\ProjectML2 - Glaucoma\\FINALLLLLWORK\\RIM-ONE_DL_images\\partitioned_by_hospital\\test_set\\normal\"\n",
    "\n",
    "# [Your load_image_paths_and_labels function remains unchanged]\n",
    "def load_image_paths_and_labels(glaucoma_path, normal_path, label_glaucoma=1, label_normal=0):\n",
    "    image_paths = []\n",
    "    labels = []\n",
    "    \n",
    "    for img_name in os.listdir(glaucoma_path):\n",
    "        image_paths.append(os.path.join(glaucoma_path, img_name))\n",
    "        labels.append(label_glaucoma)\n",
    "    \n",
    "    for img_name in os.listdir(normal_path):\n",
    "        image_paths.append(os.path.join(normal_path, img_name))\n",
    "        labels.append(label_normal)\n",
    "    \n",
    "    return image_paths, labels\n",
    "\n",
    "train_images, train_labels = load_image_paths_and_labels(train_glaucoma, train_normal)\n",
    "test_images, test_labels = load_image_paths_and_labels(test_glaucoma, test_normal)\n",
    "\n",
    "augmented_data = {\n",
    "    \"train_images\": train_images,\n",
    "    \"train_labels\": train_labels,\n",
    "    \"test_images\": test_images,\n",
    "    \"test_labels\": test_labels\n",
    "}\n",
    "torch.save(augmented_data, os.path.join(save_path, 'augmented_data.pth'))\n",
    "print(\"✅ Successfully saved image paths and labels for augmented data.\")\n",
    "\n",
    "# [Your augmentation_transform remains unchanged]\n",
    "augmentation_transform = transforms.Compose([\n",
    "    transforms.ToPILImage(),\n",
    "    transforms.Resize((224, 224)),\n",
    "    transforms.RandomHorizontalFlip(p=0.5),\n",
    "    transforms.RandomRotation(degrees=(-30, 30)),\n",
    "    transforms.ColorJitter(brightness=0.2, contrast=0.2, saturation=0.2),\n",
    "    transforms.RandomAffine(degrees=0, scale=(0.8, 1.2)),\n",
    "    transforms.ToTensor(),\n",
    "    transforms.Normalize(mean=[0.485, 0.456, 0.406], std=[0.229, 0.224, 0.225])\n",
    "])\n",
    "\n",
    "# [Your AugmentedGlaucomaDataset remains unchanged]\n",
    "class AugmentedGlaucomaDataset(Dataset):\n",
    "    def __init__(self, image_paths, labels, transform=None):\n",
    "        self.image_paths = image_paths\n",
    "        self.labels = labels\n",
    "        self.transform = transform\n",
    "\n",
    "    def __len__(self):\n",
    "        return len(self.image_paths)\n",
    "\n",
    "    def __getitem__(self, idx):\n",
    "        img_path = self.image_paths[idx]\n",
    "        image = cv2.imread(img_path)\n",
    "        image = cv2.cvtColor(image, cv2.COLOR_BGR2RGB)\n",
    "        \n",
    "        if self.transform:\n",
    "            image = self.transform(image)\n",
    "        \n",
    "        label = self.labels[idx]\n",
    "        return image, label\n",
    "\n",
    "train_dataset_augmented = AugmentedGlaucomaDataset(train_images, train_labels, transform=augmentation_transform)\n",
    "train_loader_augmented = DataLoader(train_dataset_augmented, batch_size=32, shuffle=True)\n",
    "print(\"✅ DataLoader created successfully with augmented training data.\")\n",
    "\n",
    "device = torch.device(\"cuda\" if torch.cuda.is_available() else \"cpu\")\n",
    "\n",
    "# Load Pre-trained Models (unchanged)\n",
    "models_dict = {\n",
    "    \"AlexNet\": models.alexnet(weights='IMAGENET1K_V1').to(device),\n",
    "    \"VGG16\": models.vgg16(weights='IMAGENET1K_V1').to(device),\n",
    "    \"ResNet50\": models.resnet50(weights='IMAGENET1K_V1').to(device),\n",
    "    \"InceptionV3\": models.inception_v3(weights='IMAGENET1K_V1', aux_logits=True).to(device),\n",
    "    \"EfficientNet-B0\": models.efficientnet_b0(weights='IMAGENET1K_V1').to(device)\n",
    "}\n",
    "\n",
    "for model in models_dict.values():\n",
    "    model.eval()\n",
    "\n",
    "# Revised Feature Extraction Function\n",
    "def extract_features(model, loader, model_name):\n",
    "    features = []\n",
    "    labels = []\n",
    "    \n",
    "    with torch.no_grad():\n",
    "        for images, lbls in tqdm(loader, desc=f\"Extracting Features using {model_name}\"):\n",
    "            # Ensure images are a 4D tensor (batch_size, channels, height, width)\n",
    "            if not isinstance(images, torch.Tensor):\n",
    "                print(f\"❌ Error: Expected torch.Tensor, got {type(images)}\")\n",
    "                continue\n",
    "            \n",
    "            if images.ndim != 4:\n",
    "                print(f\"❌ Error: Expected 4D tensor, got shape {images.shape}\")\n",
    "                continue\n",
    "            \n",
    "            if images.size(1) != 3:\n",
    "                print(f\"❌ Error: Expected 3 channels, got {images.size(1)}\")\n",
    "                continue\n",
    "\n",
    "            images = images.to(device)\n",
    "            \n",
    "            # Resize for InceptionV3 specifically\n",
    "            if model_name == \"InceptionV3\":\n",
    "                images = nn.functional.interpolate(images, size=(299, 299), mode='bilinear', align_corners=False)\n",
    "            \n",
    "            try:\n",
    "                # Handle different model architectures\n",
    "                if model_name in [\"AlexNet\", \"VGG16\"]:\n",
    "                    outputs = model.features(images)\n",
    "                    outputs = model.avgpool(outputs) if hasattr(model, 'avgpool') else torch.nn.functional.adaptive_avg_pool2d(outputs, (1, 1))\n",
    "                elif model_name == \"InceptionV3\":\n",
    "                    outputs = model(images)  # InceptionV3 returns a tuple if aux_logits=True\n",
    "                    if isinstance(outputs, tuple):\n",
    "                        outputs = outputs[0]  # Take the main output, ignore auxiliary\n",
    "                else:  # ResNet50, EfficientNet-B0\n",
    "                    outputs = model(images)\n",
    "                \n",
    "                # Flatten the output\n",
    "                outputs = torch.flatten(outputs, 1)\n",
    "                \n",
    "                features.append(outputs.cpu())\n",
    "                labels.append(lbls)\n",
    "            except Exception as e:\n",
    "                print(f\"❌ Error during feature extraction with {model_name}: {e}\")\n",
    "                continue\n",
    "    \n",
    "    if len(features) == 0:\n",
    "        raise RuntimeError(f\"❌ No valid features extracted for {model_name}. Check your DataLoader or input processing.\")\n",
    "    \n",
    "    features = torch.cat(features, dim=0)\n",
    "    labels = torch.cat(labels, dim=0)\n",
    "    return features, labels\n",
    "\n",
    "# Extract and Save Features\n",
    "train_features_dict_augmented = {}\n",
    "train_labels_dict_augmented = {}\n",
    "\n",
    "for model_name, model in models_dict.items():\n",
    "    try:\n",
    "        features, labels = extract_features(model, train_loader_augmented, model_name)\n",
    "        train_features_dict_augmented[model_name] = features\n",
    "        train_labels_dict_augmented[model_name] = labels\n",
    "        print(f\"✅ Successfully extracted features for {model_name}\")\n",
    "    except Exception as e:\n",
    "        print(f\"❌ Failed to extract features for {model_name}: {e}\")\n",
    "\n",
    "torch.save(train_features_dict_augmented, os.path.join(save_path, 'train_features_dict_augmented.pth'))\n",
    "torch.save(train_labels_dict_augmented, os.path.join(save_path, 'train_labels_dict_augmented.pth'))\n",
    "print(\"✅ Feature extraction completed and saved successfully for all models with augmented data.\")"
   ]
  },
  {
   "cell_type": "code",
   "execution_count": 18,
   "id": "0519c441-302b-419c-b48e-ecc4c74d15dc",
   "metadata": {},
   "outputs": [
    {
     "name": "stdout",
     "output_type": "stream",
     "text": [
      "\n",
      "Applying PCA for AlexNet...\n",
      "✅ PCA applied successfully for AlexNet. Reduced to 100 components.\n",
      "\n",
      "Applying PCA for VGG16...\n",
      "✅ PCA applied successfully for VGG16. Reduced to 100 components.\n",
      "\n",
      "Applying PCA for ResNet50...\n",
      "✅ PCA applied successfully for ResNet50. Reduced to 100 components.\n",
      "\n",
      "Applying PCA for InceptionV3...\n",
      "✅ PCA applied successfully for InceptionV3. Reduced to 100 components.\n",
      "\n",
      "Applying PCA for EfficientNet-B0...\n",
      "✅ PCA applied successfully for EfficientNet-B0. Reduced to 100 components.\n"
     ]
    }
   ],
   "source": [
    "from sklearn.decomposition import PCA\n",
    "import numpy as np\n",
    "\n",
    "# Define number of principal components (tuneable)\n",
    "n_components = 100  # You can adjust this based on performance\n",
    "\n",
    "# Dictionary to store PCA-transformed features\n",
    "pca_features_dict = {}\n",
    "\n",
    "for model_name, features in train_features_dict_augmented.items():\n",
    "    print(f\"\\nApplying PCA for {model_name}...\")\n",
    "    \n",
    "    features = features.numpy()\n",
    "    \n",
    "    # Applying PCA\n",
    "    pca = PCA(n_components=n_components)\n",
    "    features_pca = pca.fit_transform(features)\n",
    "    \n",
    "    # Save the PCA-transformed features\n",
    "    pca_features_dict[model_name] = features_pca\n",
    "    print(f\"✅ PCA applied successfully for {model_name}. Reduced to {n_components} components.\")\n"
   ]
  },
  {
   "cell_type": "code",
   "execution_count": 21,
   "id": "e418616b-9668-402b-810d-e23c7de909ff",
   "metadata": {
    "scrolled": true
   },
   "outputs": [
    {
     "name": "stdout",
     "output_type": "stream",
     "text": [
      "\n",
      "Applying PCA for AlexNet...\n",
      "✅ PCA applied successfully for AlexNet. Reduced to 100 components.\n",
      "\n",
      "Applying PCA for VGG16...\n",
      "✅ PCA applied successfully for VGG16. Reduced to 100 components.\n",
      "\n",
      "Applying PCA for ResNet50...\n",
      "✅ PCA applied successfully for ResNet50. Reduced to 100 components.\n",
      "\n",
      "Applying PCA for InceptionV3...\n",
      "✅ PCA applied successfully for InceptionV3. Reduced to 100 components.\n",
      "\n",
      "Applying PCA for EfficientNet-B0...\n",
      "✅ PCA applied successfully for EfficientNet-B0. Reduced to 100 components.\n",
      "\n",
      "Processing AlexNet with PCA & Hyperparameter Tuning...\n",
      "Fitting 3 folds for each of 108 candidates, totalling 324 fits\n",
      "✅ Best hyperparameters for AlexNet: {'bootstrap': False, 'max_depth': 10, 'min_samples_leaf': 2, 'min_samples_split': 5, 'n_estimators': 100}\n",
      "\n",
      "Processing VGG16 with PCA & Hyperparameter Tuning...\n",
      "Fitting 3 folds for each of 108 candidates, totalling 324 fits\n",
      "✅ Best hyperparameters for VGG16: {'bootstrap': True, 'max_depth': None, 'min_samples_leaf': 2, 'min_samples_split': 5, 'n_estimators': 100}\n",
      "\n",
      "Processing ResNet50 with PCA & Hyperparameter Tuning...\n",
      "Fitting 3 folds for each of 108 candidates, totalling 324 fits\n",
      "✅ Best hyperparameters for ResNet50: {'bootstrap': False, 'max_depth': 10, 'min_samples_leaf': 2, 'min_samples_split': 10, 'n_estimators': 200}\n",
      "\n",
      "Processing InceptionV3 with PCA & Hyperparameter Tuning...\n",
      "Fitting 3 folds for each of 108 candidates, totalling 324 fits\n",
      "✅ Best hyperparameters for InceptionV3: {'bootstrap': False, 'max_depth': 10, 'min_samples_leaf': 2, 'min_samples_split': 10, 'n_estimators': 200}\n",
      "\n",
      "Processing EfficientNet-B0 with PCA & Hyperparameter Tuning...\n",
      "Fitting 3 folds for each of 108 candidates, totalling 324 fits\n",
      "✅ Best hyperparameters for EfficientNet-B0: {'bootstrap': False, 'max_depth': None, 'min_samples_leaf': 1, 'min_samples_split': 5, 'n_estimators': 200}\n",
      "\n",
      "Evaluating AlexNet...\n",
      "✅ Results for AlexNet:\n",
      "Accuracy: 69.84%\n",
      "Precision: 1.00\n",
      "Recall: 0.17\n",
      "F1-Score: 0.30\n",
      "AUC-ROC: 0.90\n",
      "Confusion Matrix:\n",
      "[[40  0]\n",
      " [19  4]]\n",
      "\n",
      "Evaluating VGG16...\n",
      "✅ Results for VGG16:\n",
      "Accuracy: 68.25%\n",
      "Precision: 0.88\n",
      "Recall: 0.27\n",
      "F1-Score: 0.41\n",
      "AUC-ROC: 0.72\n",
      "Confusion Matrix:\n",
      "[[36  1]\n",
      " [19  7]]\n",
      "\n",
      "Evaluating ResNet50...\n",
      "✅ Results for ResNet50:\n",
      "Accuracy: 65.08%\n",
      "Precision: 0.67\n",
      "Recall: 0.24\n",
      "F1-Score: 0.35\n",
      "AUC-ROC: 0.74\n",
      "Confusion Matrix:\n",
      "[[35  3]\n",
      " [19  6]]\n",
      "\n",
      "Evaluating InceptionV3...\n",
      "✅ Results for InceptionV3:\n",
      "Accuracy: 68.25%\n",
      "Precision: 0.67\n",
      "Recall: 0.26\n",
      "F1-Score: 0.38\n",
      "AUC-ROC: 0.74\n",
      "Confusion Matrix:\n",
      "[[37  3]\n",
      " [17  6]]\n",
      "\n",
      "Evaluating EfficientNet-B0...\n",
      "✅ Results for EfficientNet-B0:\n",
      "Accuracy: 77.78%\n",
      "Precision: 0.93\n",
      "Recall: 0.50\n",
      "F1-Score: 0.65\n",
      "AUC-ROC: 0.89\n",
      "Confusion Matrix:\n",
      "[[36  1]\n",
      " [13 13]]\n"
     ]
    }
   ],
   "source": [
    "from sklearn.decomposition import PCA\n",
    "from sklearn.model_selection import train_test_split, GridSearchCV\n",
    "from sklearn.ensemble import RandomForestClassifier\n",
    "from sklearn.metrics import accuracy_score, precision_score, recall_score, f1_score, roc_auc_score, confusion_matrix\n",
    "import torch\n",
    "import os\n",
    "\n",
    "# Define number of principal components (tuneable)\n",
    "n_components = 100  # You can adjust this based on performance\n",
    "\n",
    "# Load extracted features\n",
    "save_path = r\"D:\\ProjectML2 - Glaucoma\\FINALLLLLWORK\"\n",
    "train_features_dict_augmented = torch.load(os.path.join(save_path, 'train_features_dict_augmented.pth'))\n",
    "train_labels_dict_augmented = torch.load(os.path.join(save_path, 'train_labels_dict_augmented.pth'))\n",
    "\n",
    "# Dictionary to store PCA-transformed features\n",
    "pca_features_dict = {}\n",
    "\n",
    "for model_name, features in train_features_dict_augmented.items():\n",
    "    print(f\"\\nApplying PCA for {model_name}...\")\n",
    "    \n",
    "    features = features.numpy()\n",
    "    \n",
    "    # Applying PCA\n",
    "    pca = PCA(n_components=n_components)\n",
    "    features_pca = pca.fit_transform(features)\n",
    "    \n",
    "    # Save the PCA-transformed features\n",
    "    pca_features_dict[model_name] = features_pca\n",
    "    print(f\"✅ PCA applied successfully for {model_name}. Reduced to {n_components} components.\")\n",
    "\n",
    "# Hyperparameter grid for Random Forest\n",
    "param_grid = {\n",
    "    'n_estimators': [100, 200],\n",
    "    'max_depth': [None, 10, 20],\n",
    "    'min_samples_split': [2, 5, 10],\n",
    "    'min_samples_leaf': [1, 2, 4],\n",
    "    'bootstrap': [True, False]\n",
    "}\n",
    "\n",
    "# Dictionary to store the best trained models\n",
    "best_models = {}\n",
    "\n",
    "for model_name, features_pca in pca_features_dict.items():\n",
    "    print(f\"\\nProcessing {model_name} with PCA & Hyperparameter Tuning...\")\n",
    "    \n",
    "    labels = train_labels_dict_augmented[model_name].numpy()\n",
    "    \n",
    "    # Split data into training and validation sets\n",
    "    X_train, X_val, y_train, y_val = train_test_split(features_pca, labels, test_size=0.2, random_state=42)\n",
    "    \n",
    "    # Initialize Random Forest Classifier\n",
    "    clf = RandomForestClassifier(random_state=42)\n",
    "    \n",
    "    # Initialize GridSearchCV\n",
    "    grid_search = GridSearchCV(estimator=clf, param_grid=param_grid,\n",
    "                               cv=3, n_jobs=-1, verbose=2, scoring='accuracy')\n",
    "    \n",
    "    # Fit GridSearchCV to find the best model\n",
    "    grid_search.fit(X_train, y_train)\n",
    "    best_model = grid_search.best_estimator_\n",
    "    \n",
    "    # Save the best model\n",
    "    best_models[model_name] = best_model\n",
    "    \n",
    "    print(f\"✅ Best hyperparameters for {model_name}: {grid_search.best_params_}\")\n",
    "\n",
    "# Dictionary to store evaluation metrics\n",
    "results_after_improvement = {}\n",
    "\n",
    "for model_name, best_model in best_models.items():\n",
    "    print(f\"\\nEvaluating {model_name}...\")\n",
    "    \n",
    "    # Load PCA-transformed features and labels\n",
    "    features_pca = pca_features_dict[model_name]\n",
    "    labels = train_labels_dict_augmented[model_name].numpy()\n",
    "    \n",
    "    # Split data into training and validation sets\n",
    "    X_train, X_val, y_train, y_val = train_test_split(features_pca, labels, test_size=0.2, random_state=42)\n",
    "    \n",
    "    # Make predictions\n",
    "    y_pred = best_model.predict(X_val)\n",
    "    y_prob = best_model.predict_proba(X_val)[:, 1]\n",
    "    \n",
    "    # Calculate metrics\n",
    "    accuracy = accuracy_score(y_val, y_pred) * 100\n",
    "    precision = precision_score(y_val, y_pred)\n",
    "    recall = recall_score(y_val, y_pred)\n",
    "    f1 = f1_score(y_val, y_pred)\n",
    "    roc_auc = roc_auc_score(y_val, y_prob)\n",
    "    cm = confusion_matrix(y_val, y_pred)\n",
    "    \n",
    "    # Store results\n",
    "    results_after_improvement[model_name] = {\n",
    "        \"Accuracy\": accuracy,\n",
    "        \"Precision\": precision,\n",
    "        \"Recall\": recall,\n",
    "        \"F1-Score\": f1,\n",
    "        \"AUC-ROC\": roc_auc,\n",
    "        \"Confusion Matrix\": cm\n",
    "    }\n",
    "    \n",
    "    # Print results\n",
    "    print(f\"✅ Results for {model_name}:\")\n",
    "    print(f\"Accuracy: {accuracy:.2f}%\")\n",
    "    print(f\"Precision: {precision:.2f}\")\n",
    "    print(f\"Recall: {recall:.2f}\")\n",
    "    print(f\"F1-Score: {f1:.2f}\")\n",
    "    print(f\"AUC-ROC: {roc_auc:.2f}\")\n",
    "    print(f\"Confusion Matrix:\\n{cm}\")\n"
   ]
  },
  {
   "cell_type": "code",
   "execution_count": null,
   "id": "37766777-452e-47b8-9b8b-c2519f19528e",
   "metadata": {},
   "outputs": [],
   "source": []
  },
  {
   "cell_type": "code",
   "execution_count": null,
   "id": "a3c33cff-2adb-471d-8889-bfd8f8716fe6",
   "metadata": {},
   "outputs": [],
   "source": []
  },
  {
   "cell_type": "code",
   "execution_count": null,
   "id": "67441e2f-d0c5-4433-b8d6-7fdf64a047b4",
   "metadata": {},
   "outputs": [],
   "source": []
  },
  {
   "cell_type": "code",
   "execution_count": 23,
   "id": "9286efa2-18c8-44b7-b3c2-ef5effd6cff7",
   "metadata": {},
   "outputs": [
    {
     "name": "stdout",
     "output_type": "stream",
     "text": [
      "\n",
      "Applying PCA for AlexNet...\n",
      "✅ PCA applied successfully for AlexNet. Reduced to 150 components.\n",
      "\n",
      "Applying PCA for VGG16...\n",
      "✅ PCA applied successfully for VGG16. Reduced to 150 components.\n",
      "\n",
      "Applying PCA for ResNet50...\n",
      "✅ PCA applied successfully for ResNet50. Reduced to 150 components.\n",
      "\n",
      "Applying PCA for InceptionV3...\n",
      "✅ PCA applied successfully for InceptionV3. Reduced to 150 components.\n",
      "\n",
      "Applying PCA for EfficientNet-B0...\n",
      "✅ PCA applied successfully for EfficientNet-B0. Reduced to 150 components.\n"
     ]
    }
   ],
   "source": [
    "from sklearn.decomposition import PCA\n",
    "\n",
    "# Define number of principal components (tuneable)\n",
    "# Use a smaller value to avoid error\n",
    "n_components = 150  # Try 150 or even 100\n",
    "\n",
    "# Dictionary to store PCA-transformed features\n",
    "pca_features_dict = {}\n",
    "\n",
    "for model_name, features in train_features_dict_augmented.items():\n",
    "    print(f\"\\nApplying PCA for {model_name}...\")\n",
    "    \n",
    "    features = features.numpy()\n",
    "    \n",
    "    # Applying PCA\n",
    "    pca = PCA(n_components=n_components)\n",
    "    features_pca = pca.fit_transform(features)\n",
    "    \n",
    "    # Save the PCA-transformed features\n",
    "    pca_features_dict[model_name] = features_pca\n",
    "    print(f\"✅ PCA applied successfully for {model_name}. Reduced to {n_components} components.\")\n"
   ]
  },
  {
   "cell_type": "code",
   "execution_count": 24,
   "id": "5bd588c7-de83-4394-9358-f30864ade44a",
   "metadata": {},
   "outputs": [
    {
     "name": "stdout",
     "output_type": "stream",
     "text": [
      "\n",
      "Processing AlexNet with Improved Hyperparameter Tuning...\n",
      "Fitting 3 folds for each of 96 candidates, totalling 288 fits\n",
      "✅ Best hyperparameters for AlexNet: {'bootstrap': False, 'max_depth': 10, 'min_samples_leaf': 1, 'min_samples_split': 2, 'n_estimators': 150}\n",
      "\n",
      "Processing VGG16 with Improved Hyperparameter Tuning...\n",
      "Fitting 3 folds for each of 96 candidates, totalling 288 fits\n",
      "✅ Best hyperparameters for VGG16: {'bootstrap': False, 'max_depth': None, 'min_samples_leaf': 1, 'min_samples_split': 5, 'n_estimators': 150}\n",
      "\n",
      "Processing ResNet50 with Improved Hyperparameter Tuning...\n",
      "Fitting 3 folds for each of 96 candidates, totalling 288 fits\n",
      "✅ Best hyperparameters for ResNet50: {'bootstrap': False, 'max_depth': None, 'min_samples_leaf': 2, 'min_samples_split': 2, 'n_estimators': 150}\n",
      "\n",
      "Processing InceptionV3 with Improved Hyperparameter Tuning...\n",
      "Fitting 3 folds for each of 96 candidates, totalling 288 fits\n",
      "✅ Best hyperparameters for InceptionV3: {'bootstrap': False, 'max_depth': None, 'min_samples_leaf': 1, 'min_samples_split': 2, 'n_estimators': 200}\n",
      "\n",
      "Processing EfficientNet-B0 with Improved Hyperparameter Tuning...\n",
      "Fitting 3 folds for each of 96 candidates, totalling 288 fits\n",
      "✅ Best hyperparameters for EfficientNet-B0: {'bootstrap': False, 'max_depth': None, 'min_samples_leaf': 1, 'min_samples_split': 5, 'n_estimators': 150}\n"
     ]
    }
   ],
   "source": [
    "from sklearn.ensemble import RandomForestClassifier\n",
    "from sklearn.model_selection import GridSearchCV, train_test_split\n",
    "\n",
    "# Improved hyperparameter grid for Random Forest\n",
    "param_grid = {\n",
    "    'n_estimators': [150, 200, 250],\n",
    "    'max_depth': [None, 10, 20, 30],\n",
    "    'min_samples_split': [2, 5],\n",
    "    'min_samples_leaf': [1, 2],\n",
    "    'bootstrap': [True, False]\n",
    "}\n",
    "\n",
    "# Dictionary to store the best trained models\n",
    "best_models = {}\n",
    "\n",
    "for model_name, features_pca in pca_features_dict.items():\n",
    "    print(f\"\\nProcessing {model_name} with Improved Hyperparameter Tuning...\")\n",
    "    \n",
    "    labels = train_labels_dict_augmented[model_name].numpy()\n",
    "    \n",
    "    # Split data into training and validation sets\n",
    "    X_train, X_val, y_train, y_val = train_test_split(features_pca, labels, test_size=0.2, random_state=42)\n",
    "    \n",
    "    # Initialize Random Forest Classifier\n",
    "    clf = RandomForestClassifier(random_state=42)\n",
    "    \n",
    "    # Initialize GridSearchCV with a refined grid\n",
    "    grid_search = GridSearchCV(estimator=clf, param_grid=param_grid,\n",
    "                               cv=3, n_jobs=-1, verbose=2, scoring='accuracy')\n",
    "    \n",
    "    # Fit GridSearchCV to find the best model\n",
    "    grid_search.fit(X_train, y_train)\n",
    "    best_model = grid_search.best_estimator_\n",
    "    \n",
    "    # Save the best model\n",
    "    best_models[model_name] = best_model\n",
    "    \n",
    "    print(f\"✅ Best hyperparameters for {model_name}: {grid_search.best_params_}\")\n"
   ]
  },
  {
   "cell_type": "code",
   "execution_count": 25,
   "id": "b87025db-00b8-456d-a739-fb14963a00b4",
   "metadata": {},
   "outputs": [
    {
     "name": "stdout",
     "output_type": "stream",
     "text": [
      "\n",
      "Evaluating AlexNet...\n",
      "✅ Results for AlexNet:\n",
      "Accuracy: 66.67%\n",
      "Precision: 0.62\n",
      "Recall: 0.22\n",
      "F1-Score: 0.32\n",
      "AUC-ROC: 0.87\n",
      "Confusion Matrix:\n",
      "[[37  3]\n",
      " [18  5]]\n",
      "\n",
      "Evaluating VGG16...\n",
      "✅ Results for VGG16:\n",
      "Accuracy: 61.90%\n",
      "Precision: 0.62\n",
      "Recall: 0.19\n",
      "F1-Score: 0.29\n",
      "AUC-ROC: 0.71\n",
      "Confusion Matrix:\n",
      "[[34  3]\n",
      " [21  5]]\n",
      "\n",
      "Evaluating ResNet50...\n",
      "✅ Results for ResNet50:\n",
      "Accuracy: 63.49%\n",
      "Precision: 0.62\n",
      "Recall: 0.20\n",
      "F1-Score: 0.30\n",
      "AUC-ROC: 0.73\n",
      "Confusion Matrix:\n",
      "[[35  3]\n",
      " [20  5]]\n",
      "\n",
      "Evaluating InceptionV3...\n",
      "✅ Results for InceptionV3:\n",
      "Accuracy: 68.25%\n",
      "Precision: 0.71\n",
      "Recall: 0.22\n",
      "F1-Score: 0.33\n",
      "AUC-ROC: 0.68\n",
      "Confusion Matrix:\n",
      "[[38  2]\n",
      " [18  5]]\n",
      "\n",
      "Evaluating EfficientNet-B0...\n",
      "✅ Results for EfficientNet-B0:\n",
      "Accuracy: 71.43%\n",
      "Precision: 0.90\n",
      "Recall: 0.35\n",
      "F1-Score: 0.50\n",
      "AUC-ROC: 0.88\n",
      "Confusion Matrix:\n",
      "[[36  1]\n",
      " [17  9]]\n"
     ]
    }
   ],
   "source": [
    "from sklearn.metrics import accuracy_score, precision_score, recall_score, f1_score, roc_auc_score, confusion_matrix\n",
    "\n",
    "# Dictionary to store evaluation metrics\n",
    "results_after_improvement = {}\n",
    "\n",
    "for model_name, best_model in best_models.items():\n",
    "    print(f\"\\nEvaluating {model_name}...\")\n",
    "    \n",
    "    # Load PCA-transformed features and labels\n",
    "    features_pca = pca_features_dict[model_name]\n",
    "    labels = train_labels_dict_augmented[model_name].numpy()\n",
    "    \n",
    "    # Split data into training and validation sets\n",
    "    X_train, X_val, y_train, y_val = train_test_split(features_pca, labels, test_size=0.2, random_state=42)\n",
    "    \n",
    "    # Make predictions\n",
    "    y_pred = best_model.predict(X_val)\n",
    "    y_prob = best_model.predict_proba(X_val)[:, 1]\n",
    "    \n",
    "    # Calculate metrics\n",
    "    accuracy = accuracy_score(y_val, y_pred) * 100\n",
    "    precision = precision_score(y_val, y_pred)\n",
    "    recall = recall_score(y_val, y_pred)\n",
    "    f1 = f1_score(y_val, y_pred)\n",
    "    roc_auc = roc_auc_score(y_val, y_prob)\n",
    "    cm = confusion_matrix(y_val, y_pred)\n",
    "    \n",
    "    # Store results\n",
    "    results_after_improvement[model_name] = {\n",
    "        \"Accuracy\": accuracy,\n",
    "        \"Precision\": precision,\n",
    "        \"Recall\": recall,\n",
    "        \"F1-Score\": f1,\n",
    "        \"AUC-ROC\": roc_auc,\n",
    "        \"Confusion Matrix\": cm\n",
    "    }\n",
    "    \n",
    "    # Print results\n",
    "    print(f\"✅ Results for {model_name}:\")\n",
    "    print(f\"Accuracy: {accuracy:.2f}%\")\n",
    "    print(f\"Precision: {precision:.2f}\")\n",
    "    print(f\"Recall: {recall:.2f}\")\n",
    "    print(f\"F1-Score: {f1:.2f}\")\n",
    "    print(f\"AUC-ROC: {roc_auc:.2f}\")\n",
    "    print(f\"Confusion Matrix:\\n{cm}\")\n"
   ]
  },
  {
   "cell_type": "code",
   "execution_count": 29,
   "id": "25827092-2058-4c4a-9111-1b018508dba9",
   "metadata": {},
   "outputs": [
    {
     "name": "stdout",
     "output_type": "stream",
     "text": [
      "✅ DataLoader created successfully with augmented training data.\n"
     ]
    },
    {
     "name": "stderr",
     "output_type": "stream",
     "text": [
      "Training AlexNet - Epoch 1/5: 100%|████████████| 10/10 [00:06<00:00,  1.58it/s]\n"
     ]
    },
    {
     "name": "stdout",
     "output_type": "stream",
     "text": [
      "Epoch [1/5], Loss: 6.0124\n"
     ]
    },
    {
     "name": "stderr",
     "output_type": "stream",
     "text": [
      "Training AlexNet - Epoch 2/5: 100%|████████████| 10/10 [00:06<00:00,  1.61it/s]\n"
     ]
    },
    {
     "name": "stdout",
     "output_type": "stream",
     "text": [
      "Epoch [2/5], Loss: 1.4323\n"
     ]
    },
    {
     "name": "stderr",
     "output_type": "stream",
     "text": [
      "Training AlexNet - Epoch 3/5: 100%|████████████| 10/10 [00:06<00:00,  1.60it/s]\n"
     ]
    },
    {
     "name": "stdout",
     "output_type": "stream",
     "text": [
      "Epoch [3/5], Loss: 0.7495\n"
     ]
    },
    {
     "name": "stderr",
     "output_type": "stream",
     "text": [
      "Training AlexNet - Epoch 4/5: 100%|████████████| 10/10 [00:06<00:00,  1.60it/s]\n"
     ]
    },
    {
     "name": "stdout",
     "output_type": "stream",
     "text": [
      "Epoch [4/5], Loss: 0.6733\n"
     ]
    },
    {
     "name": "stderr",
     "output_type": "stream",
     "text": [
      "Training AlexNet - Epoch 5/5: 100%|████████████| 10/10 [00:06<00:00,  1.61it/s]\n"
     ]
    },
    {
     "name": "stdout",
     "output_type": "stream",
     "text": [
      "Epoch [5/5], Loss: 0.6780\n",
      "✅ Successfully Fine-Tuned and Saved AlexNet!\n"
     ]
    },
    {
     "name": "stderr",
     "output_type": "stream",
     "text": [
      "Training VGG16 - Epoch 1/5: 100%|██████████████| 10/10 [00:11<00:00,  1.15s/it]\n"
     ]
    },
    {
     "name": "stdout",
     "output_type": "stream",
     "text": [
      "Epoch [1/5], Loss: 6.1551\n"
     ]
    },
    {
     "name": "stderr",
     "output_type": "stream",
     "text": [
      "Training VGG16 - Epoch 2/5: 100%|██████████████| 10/10 [00:11<00:00,  1.13s/it]\n"
     ]
    },
    {
     "name": "stdout",
     "output_type": "stream",
     "text": [
      "Epoch [2/5], Loss: 0.8637\n"
     ]
    },
    {
     "name": "stderr",
     "output_type": "stream",
     "text": [
      "Training VGG16 - Epoch 3/5: 100%|██████████████| 10/10 [00:11<00:00,  1.13s/it]\n"
     ]
    },
    {
     "name": "stdout",
     "output_type": "stream",
     "text": [
      "Epoch [3/5], Loss: 0.7426\n"
     ]
    },
    {
     "name": "stderr",
     "output_type": "stream",
     "text": [
      "Training VGG16 - Epoch 4/5: 100%|██████████████| 10/10 [00:11<00:00,  1.11s/it]\n"
     ]
    },
    {
     "name": "stdout",
     "output_type": "stream",
     "text": [
      "Epoch [4/5], Loss: 0.7560\n"
     ]
    },
    {
     "name": "stderr",
     "output_type": "stream",
     "text": [
      "Training VGG16 - Epoch 5/5: 100%|██████████████| 10/10 [00:11<00:00,  1.13s/it]\n"
     ]
    },
    {
     "name": "stdout",
     "output_type": "stream",
     "text": [
      "Epoch [5/5], Loss: 0.8655\n",
      "✅ Successfully Fine-Tuned and Saved VGG16!\n"
     ]
    },
    {
     "name": "stderr",
     "output_type": "stream",
     "text": [
      "Training ResNet50 - Epoch 1/5: 100%|███████████| 10/10 [00:08<00:00,  1.12it/s]\n"
     ]
    },
    {
     "name": "stdout",
     "output_type": "stream",
     "text": [
      "Epoch [1/5], Loss: 2.6418\n"
     ]
    },
    {
     "name": "stderr",
     "output_type": "stream",
     "text": [
      "Training ResNet50 - Epoch 2/5: 100%|███████████| 10/10 [00:08<00:00,  1.18it/s]\n"
     ]
    },
    {
     "name": "stdout",
     "output_type": "stream",
     "text": [
      "Epoch [2/5], Loss: 0.4769\n"
     ]
    },
    {
     "name": "stderr",
     "output_type": "stream",
     "text": [
      "Training ResNet50 - Epoch 3/5: 100%|███████████| 10/10 [00:08<00:00,  1.22it/s]\n"
     ]
    },
    {
     "name": "stdout",
     "output_type": "stream",
     "text": [
      "Epoch [3/5], Loss: 0.5056\n"
     ]
    },
    {
     "name": "stderr",
     "output_type": "stream",
     "text": [
      "Training ResNet50 - Epoch 4/5: 100%|███████████| 10/10 [00:08<00:00,  1.20it/s]\n"
     ]
    },
    {
     "name": "stdout",
     "output_type": "stream",
     "text": [
      "Epoch [4/5], Loss: 0.4511\n"
     ]
    },
    {
     "name": "stderr",
     "output_type": "stream",
     "text": [
      "Training ResNet50 - Epoch 5/5: 100%|███████████| 10/10 [00:08<00:00,  1.19it/s]\n"
     ]
    },
    {
     "name": "stdout",
     "output_type": "stream",
     "text": [
      "Epoch [5/5], Loss: 0.3407\n",
      "✅ Successfully Fine-Tuned and Saved ResNet50!\n"
     ]
    },
    {
     "name": "stderr",
     "output_type": "stream",
     "text": [
      "Training InceptionV3 - Epoch 1/5: 100%|████████| 10/10 [00:08<00:00,  1.25it/s]\n"
     ]
    },
    {
     "name": "stdout",
     "output_type": "stream",
     "text": [
      "Epoch [1/5], Loss: 2.5821\n"
     ]
    },
    {
     "name": "stderr",
     "output_type": "stream",
     "text": [
      "Training InceptionV3 - Epoch 2/5: 100%|████████| 10/10 [00:07<00:00,  1.29it/s]\n"
     ]
    },
    {
     "name": "stdout",
     "output_type": "stream",
     "text": [
      "Epoch [2/5], Loss: 0.3555\n"
     ]
    },
    {
     "name": "stderr",
     "output_type": "stream",
     "text": [
      "Training InceptionV3 - Epoch 3/5: 100%|████████| 10/10 [00:07<00:00,  1.27it/s]\n"
     ]
    },
    {
     "name": "stdout",
     "output_type": "stream",
     "text": [
      "Epoch [3/5], Loss: 0.3126\n"
     ]
    },
    {
     "name": "stderr",
     "output_type": "stream",
     "text": [
      "Training InceptionV3 - Epoch 4/5: 100%|████████| 10/10 [00:07<00:00,  1.31it/s]\n"
     ]
    },
    {
     "name": "stdout",
     "output_type": "stream",
     "text": [
      "Epoch [4/5], Loss: 0.2220\n"
     ]
    },
    {
     "name": "stderr",
     "output_type": "stream",
     "text": [
      "Training InceptionV3 - Epoch 5/5: 100%|████████| 10/10 [00:07<00:00,  1.29it/s]\n"
     ]
    },
    {
     "name": "stdout",
     "output_type": "stream",
     "text": [
      "Epoch [5/5], Loss: 0.1953\n",
      "✅ Successfully Fine-Tuned and Saved InceptionV3!\n"
     ]
    },
    {
     "name": "stderr",
     "output_type": "stream",
     "text": [
      "Training EfficientNet-B0 - Epoch 1/5: 100%|████| 10/10 [00:07<00:00,  1.34it/s]\n"
     ]
    },
    {
     "name": "stdout",
     "output_type": "stream",
     "text": [
      "Epoch [1/5], Loss: 2.5903\n"
     ]
    },
    {
     "name": "stderr",
     "output_type": "stream",
     "text": [
      "Training EfficientNet-B0 - Epoch 2/5: 100%|████| 10/10 [00:07<00:00,  1.41it/s]\n"
     ]
    },
    {
     "name": "stdout",
     "output_type": "stream",
     "text": [
      "Epoch [2/5], Loss: 0.4816\n"
     ]
    },
    {
     "name": "stderr",
     "output_type": "stream",
     "text": [
      "Training EfficientNet-B0 - Epoch 3/5: 100%|████| 10/10 [00:06<00:00,  1.45it/s]\n"
     ]
    },
    {
     "name": "stdout",
     "output_type": "stream",
     "text": [
      "Epoch [3/5], Loss: 0.2871\n"
     ]
    },
    {
     "name": "stderr",
     "output_type": "stream",
     "text": [
      "Training EfficientNet-B0 - Epoch 4/5: 100%|████| 10/10 [00:06<00:00,  1.44it/s]\n"
     ]
    },
    {
     "name": "stdout",
     "output_type": "stream",
     "text": [
      "Epoch [4/5], Loss: 0.1574\n"
     ]
    },
    {
     "name": "stderr",
     "output_type": "stream",
     "text": [
      "Training EfficientNet-B0 - Epoch 5/5: 100%|████| 10/10 [00:06<00:00,  1.48it/s]"
     ]
    },
    {
     "name": "stdout",
     "output_type": "stream",
     "text": [
      "Epoch [5/5], Loss: 0.1746\n",
      "✅ Successfully Fine-Tuned and Saved EfficientNet-B0!\n"
     ]
    },
    {
     "name": "stderr",
     "output_type": "stream",
     "text": [
      "\n"
     ]
    }
   ],
   "source": [
    "import os\n",
    "import torch\n",
    "import torchvision.transforms as transforms\n",
    "import torchvision.models as models\n",
    "import torch.nn as nn\n",
    "from torch.utils.data import Dataset, DataLoader\n",
    "import cv2\n",
    "from tqdm import tqdm\n",
    "import torch.optim as optim\n",
    "\n",
    "# Paths\n",
    "save_path = r\"D:\\ProjectML2 - Glaucoma\\FINALLLLLWORK\"\n",
    "train_glaucoma = r\"D:\\ProjectML2 - Glaucoma\\FINALLLLLWORK\\RIM-ONE_DL_images\\partitioned_by_hospital\\training_set\\glaucoma\"\n",
    "train_normal = r\"D:\\ProjectML2 - Glaucoma\\FINALLLLLWORK\\RIM-ONE_DL_images\\partitioned_by_hospital\\training_set\\normal\"\n",
    "\n",
    "# Load Image Paths and Labels\n",
    "def load_image_paths_and_labels(glaucoma_path, normal_path, label_glaucoma=1, label_normal=0):\n",
    "    image_paths = []\n",
    "    labels = []\n",
    "    \n",
    "    for img_name in os.listdir(glaucoma_path):\n",
    "        image_paths.append(os.path.join(glaucoma_path, img_name))\n",
    "        labels.append(label_glaucoma)\n",
    "    \n",
    "    for img_name in os.listdir(normal_path):\n",
    "        image_paths.append(os.path.join(normal_path, img_name))\n",
    "        labels.append(label_normal)\n",
    "    \n",
    "    return image_paths, labels\n",
    "\n",
    "train_images, train_labels = load_image_paths_and_labels(train_glaucoma, train_normal)\n",
    "\n",
    "# Data Augmentation & Preprocessing\n",
    "augmentation_transform = transforms.Compose([\n",
    "    transforms.ToPILImage(),\n",
    "    transforms.Resize((299, 299)),  # Adjusted for InceptionV3\n",
    "    transforms.RandomHorizontalFlip(p=0.5),\n",
    "    transforms.RandomRotation(degrees=(-30, 30)),\n",
    "    transforms.ColorJitter(brightness=0.2, contrast=0.2, saturation=0.2),\n",
    "    transforms.RandomAffine(degrees=0, scale=(0.8, 1.2)),\n",
    "    transforms.ToTensor(),\n",
    "    transforms.Normalize(mean=[0.485, 0.456, 0.406], std=[0.229, 0.224, 0.225])\n",
    "])\n",
    "\n",
    "# Custom Dataset Class\n",
    "class AugmentedGlaucomaDataset(Dataset):\n",
    "    def __init__(self, image_paths, labels, transform=None):\n",
    "        self.image_paths = image_paths\n",
    "        self.labels = labels\n",
    "        self.transform = transform\n",
    "\n",
    "    def __len__(self):\n",
    "        return len(self.image_paths)\n",
    "\n",
    "    def __getitem__(self, idx):\n",
    "        img_path = self.image_paths[idx]\n",
    "        image = cv2.imread(img_path)\n",
    "        image = cv2.cvtColor(image, cv2.COLOR_BGR2RGB)\n",
    "        \n",
    "        if self.transform:\n",
    "            image = self.transform(image)\n",
    "        \n",
    "        label = self.labels[idx]\n",
    "        return image, label\n",
    "\n",
    "train_dataset_augmented = AugmentedGlaucomaDataset(train_images, train_labels, transform=augmentation_transform)\n",
    "train_loader_augmented = DataLoader(train_dataset_augmented, batch_size=32, shuffle=True)\n",
    "print(\"✅ DataLoader created successfully with augmented training data.\")\n",
    "\n",
    "device = torch.device(\"cuda\" if torch.cuda.is_available() else \"cpu\")\n",
    "\n",
    "# Load Pre-trained Models\n",
    "models_dict = {\n",
    "    \"AlexNet\": models.alexnet(weights='IMAGENET1K_V1').to(device),\n",
    "    \"VGG16\": models.vgg16(weights='IMAGENET1K_V1').to(device),\n",
    "    \"ResNet50\": models.resnet50(weights='IMAGENET1K_V1').to(device),\n",
    "    \"InceptionV3\": models.inception_v3(weights='IMAGENET1K_V1', aux_logits=True).to(device),\n",
    "    \"EfficientNet-B0\": models.efficientnet_b0(weights='IMAGENET1K_V1').to(device)\n",
    "}\n",
    "\n",
    "# Set all models to training mode\n",
    "for model in models_dict.values():\n",
    "    model.train()\n",
    "\n",
    "# Fine-Tune Function\n",
    "def fine_tune_model(model, model_name, train_loader, num_epochs=5, learning_rate=0.001):\n",
    "    criterion = nn.CrossEntropyLoss()\n",
    "    optimizer = optim.Adam(model.parameters(), lr=learning_rate)\n",
    "\n",
    "    for epoch in range(num_epochs):\n",
    "        running_loss = 0.0\n",
    "        for images, labels in tqdm(train_loader, desc=f\"Training {model_name} - Epoch {epoch+1}/{num_epochs}\"):\n",
    "            images, labels = images.to(device), labels.to(device)\n",
    "            \n",
    "            # Resize images specifically for InceptionV3\n",
    "            if model_name == \"InceptionV3\":\n",
    "                images = nn.functional.interpolate(images, size=(299, 299), mode='bilinear', align_corners=False)\n",
    "            \n",
    "            optimizer.zero_grad()\n",
    "            \n",
    "            outputs = model(images)\n",
    "            \n",
    "            # InceptionV3 returns a tuple if aux_logits=True\n",
    "            if model_name == \"InceptionV3\" and isinstance(outputs, tuple):\n",
    "                outputs = outputs[0]\n",
    "            \n",
    "            loss = criterion(outputs, labels)\n",
    "            loss.backward()\n",
    "            optimizer.step()\n",
    "            \n",
    "            running_loss += loss.item()\n",
    "        \n",
    "        print(f\"Epoch [{epoch+1}/{num_epochs}], Loss: {running_loss/len(train_loader):.4f}\")\n",
    "    \n",
    "    # Save the fine-tuned model\n",
    "    torch.save(model.state_dict(), os.path.join(save_path, f\"{model_name}_fine_tuned.pth\"))\n",
    "    print(f\"✅ Successfully Fine-Tuned and Saved {model_name}!\")\n",
    "\n",
    "# Fine-Tune All Models\n",
    "for model_name, model in models_dict.items():\n",
    "    try:\n",
    "        fine_tune_model(model, model_name, train_loader_augmented)\n",
    "    except Exception as e:\n",
    "        print(f\"❌ Error during fine-tuning of {model_name}: {e}\")\n"
   ]
  },
  {
   "cell_type": "code",
   "execution_count": 32,
   "id": "ef2fca91-a0ea-41d0-9a08-e075ff4d6756",
   "metadata": {},
   "outputs": [
    {
     "name": "stdout",
     "output_type": "stream",
     "text": [
      "['.ipynb_checkpoints', 'AlexNet_finetuned.pth', 'AlexNet_fine_tuned.pth', 'augmented_data.json', 'augmented_data.pth', 'EfficientNet-B0_fine_tuned.pth', 'FINALTIME.ipynb', 'improved_model_results.pth', 'InceptionV3_fine_tuned.pth', 'model_comparison_results.pth', 'ResNet50_finetuned.pth', 'ResNet50_fine_tuned.pth', 'RIM-ONE_DL_images', 'test_features_dict.pth', 'test_labels_dict.pth', 'train_features_dict.pth', 'train_features_dict_augmented.pth', 'train_labels_dict.pth', 'train_labels_dict_augmented.pth', 'train_loader_augmented.pth', 'VGG16_finetuned.pth', 'VGG16_fine_tuned.pth']\n"
     ]
    }
   ],
   "source": [
    "import os\n",
    "\n",
    "model_dir = r\"D:\\ProjectML2 - Glaucoma\\FINALLLLLWORK\"\n",
    "files = os.listdir(model_dir)\n",
    "print(files)\n"
   ]
  },
  {
   "cell_type": "code",
   "execution_count": 35,
   "id": "24df5f25-8a48-47c4-8329-6a035ac4d51f",
   "metadata": {},
   "outputs": [
    {
     "name": "stdout",
     "output_type": "stream",
     "text": [
      "Evaluating AlexNet...\n"
     ]
    },
    {
     "name": "stderr",
     "output_type": "stream",
     "text": [
      "Evaluating Model: 100%|██████████████████████████| 6/6 [00:01<00:00,  3.05it/s]\n",
      "D:\\ProjectML2 - Glaucoma\\pytorchGlaucoma\\Lib\\site-packages\\sklearn\\metrics\\_classification.py:1565: UndefinedMetricWarning: Precision is ill-defined and being set to 0.0 due to no predicted samples. Use `zero_division` parameter to control this behavior.\n",
      "  _warn_prf(average, modifier, f\"{metric.capitalize()} is\", len(result))\n"
     ]
    },
    {
     "name": "stdout",
     "output_type": "stream",
     "text": [
      "✅ Results for AlexNet:\n",
      "Accuracy: 67.82%\n",
      "Precision: 0.00\n",
      "Recall: 0.00\n",
      "F1-Score: 0.00\n",
      "AUC-ROC: 0.50\n",
      "Confusion Matrix:\n",
      "[[118, 0], [56, 0]]\n",
      "\n",
      "Evaluating VGG16...\n"
     ]
    },
    {
     "name": "stderr",
     "output_type": "stream",
     "text": [
      "Evaluating Model: 100%|██████████████████████████| 6/6 [00:02<00:00,  2.65it/s]\n",
      "D:\\ProjectML2 - Glaucoma\\pytorchGlaucoma\\Lib\\site-packages\\sklearn\\metrics\\_classification.py:1565: UndefinedMetricWarning: Precision is ill-defined and being set to 0.0 due to no predicted samples. Use `zero_division` parameter to control this behavior.\n",
      "  _warn_prf(average, modifier, f\"{metric.capitalize()} is\", len(result))\n"
     ]
    },
    {
     "name": "stdout",
     "output_type": "stream",
     "text": [
      "✅ Results for VGG16:\n",
      "Accuracy: 67.82%\n",
      "Precision: 0.00\n",
      "Recall: 0.00\n",
      "F1-Score: 0.00\n",
      "AUC-ROC: 0.50\n",
      "Confusion Matrix:\n",
      "[[118, 0], [56, 0]]\n",
      "\n",
      "Evaluating ResNet50...\n"
     ]
    },
    {
     "name": "stderr",
     "output_type": "stream",
     "text": [
      "Evaluating Model: 100%|██████████████████████████| 6/6 [00:01<00:00,  3.35it/s]\n"
     ]
    },
    {
     "name": "stdout",
     "output_type": "stream",
     "text": [
      "✅ Results for ResNet50:\n",
      "Accuracy: 71.84%\n",
      "Precision: 0.54\n",
      "Recall: 0.80\n",
      "F1-Score: 0.65\n",
      "AUC-ROC: 0.74\n",
      "Confusion Matrix:\n",
      "[[80, 38], [11, 45]]\n",
      "\n",
      "Evaluating InceptionV3...\n"
     ]
    },
    {
     "name": "stderr",
     "output_type": "stream",
     "text": [
      "Evaluating Model: 100%|██████████████████████████| 6/6 [00:01<00:00,  3.25it/s]\n"
     ]
    },
    {
     "name": "stdout",
     "output_type": "stream",
     "text": [
      "✅ Results for InceptionV3:\n",
      "Accuracy: 67.24%\n",
      "Precision: 0.50\n",
      "Recall: 0.91\n",
      "F1-Score: 0.64\n",
      "AUC-ROC: 0.74\n",
      "Confusion Matrix:\n",
      "[[66, 52], [5, 51]]\n",
      "\n",
      "Evaluating EfficientNet-B0...\n"
     ]
    },
    {
     "name": "stderr",
     "output_type": "stream",
     "text": [
      "Evaluating Model: 100%|██████████████████████████| 6/6 [00:01<00:00,  3.78it/s]"
     ]
    },
    {
     "name": "stdout",
     "output_type": "stream",
     "text": [
      "✅ Results for EfficientNet-B0:\n",
      "Accuracy: 87.93%\n",
      "Precision: 0.80\n",
      "Recall: 0.84\n",
      "F1-Score: 0.82\n",
      "AUC-ROC: 0.87\n",
      "Confusion Matrix:\n",
      "[[106, 12], [9, 47]]\n",
      "\n",
      "✅ Successfully evaluated all models and saved results to 'model_evaluation_results.json'.\n"
     ]
    },
    {
     "name": "stderr",
     "output_type": "stream",
     "text": [
      "\n"
     ]
    }
   ],
   "source": [
    "import os\n",
    "import torch\n",
    "import torchvision.transforms as transforms\n",
    "import torch.nn as nn\n",
    "import cv2\n",
    "import numpy as np\n",
    "from torch.utils.data import Dataset, DataLoader\n",
    "from sklearn.metrics import accuracy_score, precision_score, recall_score, f1_score, roc_auc_score, confusion_matrix\n",
    "import json\n",
    "from tqdm import tqdm\n",
    "from torchvision import models\n",
    "\n",
    "# Define the device\n",
    "device = torch.device(\"cuda\" if torch.cuda.is_available() else \"cpu\")\n",
    "\n",
    "# Define Test Image Paths\n",
    "test_glaucoma = r\"D:\\ProjectML2 - Glaucoma\\FINALLLLLWORK\\RIM-ONE_DL_images\\partitioned_by_hospital\\test_set\\glaucoma\"\n",
    "test_normal = r\"D:\\ProjectML2 - Glaucoma\\FINALLLLLWORK\\RIM-ONE_DL_images\\partitioned_by_hospital\\test_set\\normal\"\n",
    "\n",
    "# Initialize Models (before loading state_dict)\n",
    "models_dict = {\n",
    "    \"AlexNet\": models.alexnet(weights='IMAGENET1K_V1').to(device),\n",
    "    \"VGG16\": models.vgg16(weights='IMAGENET1K_V1').to(device),\n",
    "    \"ResNet50\": models.resnet50(weights='IMAGENET1K_V1').to(device),\n",
    "    \"InceptionV3\": models.inception_v3(weights='IMAGENET1K_V1').to(device),\n",
    "    \"EfficientNet-B0\": models.efficientnet_b0(weights='IMAGENET1K_V1').to(device)\n",
    "}\n",
    "\n",
    "# Load Fine-Tuned Weights into Models\n",
    "models_dict[\"AlexNet\"].load_state_dict(torch.load(r\"D:\\ProjectML2 - Glaucoma\\FINALLLLLWORK\\AlexNet_fine_tuned.pth\", map_location=device))\n",
    "models_dict[\"VGG16\"].load_state_dict(torch.load(r\"D:\\ProjectML2 - Glaucoma\\FINALLLLLWORK\\VGG16_fine_tuned.pth\", map_location=device))\n",
    "models_dict[\"ResNet50\"].load_state_dict(torch.load(r\"D:\\ProjectML2 - Glaucoma\\FINALLLLLWORK\\ResNet50_fine_tuned.pth\", map_location=device))\n",
    "models_dict[\"InceptionV3\"].load_state_dict(torch.load(r\"D:\\ProjectML2 - Glaucoma\\FINALLLLLWORK\\InceptionV3_fine_tuned.pth\", map_location=device))\n",
    "models_dict[\"EfficientNet-B0\"].load_state_dict(torch.load(r\"D:\\ProjectML2 - Glaucoma\\FINALLLLLWORK\\EfficientNet-B0_fine_tuned.pth\", map_location=device))\n",
    "\n",
    "# Set all models to evaluation mode\n",
    "for model in models_dict.values():\n",
    "    model.eval()\n",
    "\n",
    "# Define Transformations for Test Data\n",
    "test_transform = transforms.Compose([\n",
    "    transforms.Resize((224, 224)),\n",
    "    transforms.ToTensor(),\n",
    "    transforms.Normalize(mean=[0.485, 0.456, 0.406], std=[0.229, 0.224, 0.225])\n",
    "])\n",
    "\n",
    "from PIL import Image\n",
    "\n",
    "# Dataset Class for Test Data\n",
    "class GlaucomaTestDataset(Dataset):\n",
    "    def __init__(self, image_paths, labels, transform=None):\n",
    "        self.image_paths = image_paths\n",
    "        self.labels = labels\n",
    "        self.transform = transform\n",
    "\n",
    "    def __len__(self):\n",
    "        return len(self.image_paths)\n",
    "\n",
    "    def __getitem__(self, idx):\n",
    "        img_path = self.image_paths[idx]\n",
    "        image = cv2.imread(img_path)\n",
    "        image = cv2.cvtColor(image, cv2.COLOR_BGR2RGB)\n",
    "        \n",
    "        # Convert the image from NumPy array to PIL Image\n",
    "        image = Image.fromarray(image)\n",
    "        \n",
    "        if self.transform:\n",
    "            image = self.transform(image)\n",
    "        \n",
    "        label = self.labels[idx]\n",
    "        return image, label\n",
    "\n",
    "\n",
    "# Load Test Image Paths and Labels\n",
    "def load_image_paths_and_labels(glaucoma_path, normal_path, label_glaucoma=1, label_normal=0):\n",
    "    image_paths = []\n",
    "    labels = []\n",
    "\n",
    "    for img_name in os.listdir(glaucoma_path):\n",
    "        image_paths.append(os.path.join(glaucoma_path, img_name))\n",
    "        labels.append(label_glaucoma)\n",
    "    \n",
    "    for img_name in os.listdir(normal_path):\n",
    "        image_paths.append(os.path.join(normal_path, img_name))\n",
    "        labels.append(label_normal)\n",
    "    \n",
    "    return image_paths, labels\n",
    "\n",
    "# Load Test Data\n",
    "test_images, test_labels = load_image_paths_and_labels(test_glaucoma, test_normal)\n",
    "test_dataset = GlaucomaTestDataset(test_images, test_labels, transform=test_transform)\n",
    "test_loader = DataLoader(test_dataset, batch_size=32, shuffle=False)\n",
    "\n",
    "# Evaluation Function\n",
    "def evaluate_model(model, loader):\n",
    "    all_preds = []\n",
    "    all_labels = []\n",
    "\n",
    "    with torch.no_grad():\n",
    "        for images, labels in tqdm(loader, desc=\"Evaluating Model\"):\n",
    "            images = images.to(device)\n",
    "            labels = labels.to(device)\n",
    "            outputs = model(images)\n",
    "            _, preds = torch.max(outputs, 1)\n",
    "            \n",
    "            all_preds.extend(preds.cpu().numpy())\n",
    "            all_labels.extend(labels.cpu().numpy())\n",
    "\n",
    "    accuracy = accuracy_score(all_labels, all_preds) * 100\n",
    "    precision = precision_score(all_labels, all_preds)\n",
    "    recall = recall_score(all_labels, all_preds)\n",
    "    f1 = f1_score(all_labels, all_preds)\n",
    "    auc = roc_auc_score(all_labels, all_preds)\n",
    "    cm = confusion_matrix(all_labels, all_preds)\n",
    "\n",
    "    results = {\n",
    "        \"Accuracy\": accuracy,\n",
    "        \"Precision\": precision,\n",
    "        \"Recall\": recall,\n",
    "        \"F1-Score\": f1,\n",
    "        \"AUC-ROC\": auc,\n",
    "        \"Confusion Matrix\": cm.tolist()\n",
    "    }\n",
    "    \n",
    "    return results\n",
    "\n",
    "# Evaluate All Models\n",
    "model_results = {}\n",
    "\n",
    "for model_name, model in models_dict.items():\n",
    "    print(f\"Evaluating {model_name}...\")\n",
    "    results = evaluate_model(model, test_loader)\n",
    "    model_results[model_name] = results\n",
    "    print(f\"✅ Results for {model_name}:\")\n",
    "    print(f\"Accuracy: {results['Accuracy']:.2f}%\")\n",
    "    print(f\"Precision: {results['Precision']:.2f}\")\n",
    "    print(f\"Recall: {results['Recall']:.2f}\")\n",
    "    print(f\"F1-Score: {results['F1-Score']:.2f}\")\n",
    "    print(f\"AUC-ROC: {results['AUC-ROC']:.2f}\")\n",
    "    print(f\"Confusion Matrix:\\n{results['Confusion Matrix']}\\n\")\n",
    "\n",
    "# Save Results to a File\n",
    "results_path = os.path.join(r\"D:\\ProjectML2 - Glaucoma\\FINALLLLLWORK\", 'model_evaluation_results.json')\n",
    "with open(results_path, 'w') as f:\n",
    "    json.dump(model_results, f, indent=4)\n",
    "\n",
    "print(\"✅ Successfully evaluated all models and saved results to 'model_evaluation_results.json'.\")\n"
   ]
  },
  {
   "cell_type": "code",
   "execution_count": 37,
   "id": "fb6fb0c2-8b91-444f-bc4c-582bf9344ede",
   "metadata": {
    "scrolled": true
   },
   "outputs": [
    {
     "name": "stdout",
     "output_type": "stream",
     "text": [
      "✅ Successfully loaded the augmented DataLoader.\n"
     ]
    },
    {
     "name": "stderr",
     "output_type": "stream",
     "text": [
      "Training AlexNet - Epoch 1/10: 100%|███████████| 10/10 [00:05<00:00,  1.70it/s]\n"
     ]
    },
    {
     "name": "stdout",
     "output_type": "stream",
     "text": [
      "Epoch [1/10], Loss: 5.2427\n"
     ]
    },
    {
     "name": "stderr",
     "output_type": "stream",
     "text": [
      "Training AlexNet - Epoch 2/10: 100%|███████████| 10/10 [00:05<00:00,  1.87it/s]\n"
     ]
    },
    {
     "name": "stdout",
     "output_type": "stream",
     "text": [
      "Epoch [2/10], Loss: 1.3492\n"
     ]
    },
    {
     "name": "stderr",
     "output_type": "stream",
     "text": [
      "Training AlexNet - Epoch 3/10: 100%|███████████| 10/10 [00:05<00:00,  1.87it/s]\n"
     ]
    },
    {
     "name": "stdout",
     "output_type": "stream",
     "text": [
      "Epoch [3/10], Loss: 0.2483\n"
     ]
    },
    {
     "name": "stderr",
     "output_type": "stream",
     "text": [
      "Training AlexNet - Epoch 4/10: 100%|███████████| 10/10 [00:05<00:00,  1.87it/s]\n"
     ]
    },
    {
     "name": "stdout",
     "output_type": "stream",
     "text": [
      "Epoch [4/10], Loss: 0.1651\n"
     ]
    },
    {
     "name": "stderr",
     "output_type": "stream",
     "text": [
      "Training AlexNet - Epoch 5/10: 100%|███████████| 10/10 [00:05<00:00,  1.81it/s]\n"
     ]
    },
    {
     "name": "stdout",
     "output_type": "stream",
     "text": [
      "Epoch [5/10], Loss: 0.0961\n"
     ]
    },
    {
     "name": "stderr",
     "output_type": "stream",
     "text": [
      "Training AlexNet - Epoch 6/10: 100%|███████████| 10/10 [00:05<00:00,  1.95it/s]\n"
     ]
    },
    {
     "name": "stdout",
     "output_type": "stream",
     "text": [
      "Epoch [6/10], Loss: 0.0945\n"
     ]
    },
    {
     "name": "stderr",
     "output_type": "stream",
     "text": [
      "Training AlexNet - Epoch 7/10: 100%|███████████| 10/10 [00:05<00:00,  1.94it/s]\n"
     ]
    },
    {
     "name": "stdout",
     "output_type": "stream",
     "text": [
      "Epoch [7/10], Loss: 0.0594\n"
     ]
    },
    {
     "name": "stderr",
     "output_type": "stream",
     "text": [
      "Training AlexNet - Epoch 8/10: 100%|███████████| 10/10 [00:05<00:00,  1.91it/s]\n"
     ]
    },
    {
     "name": "stdout",
     "output_type": "stream",
     "text": [
      "Epoch [8/10], Loss: 0.0684\n"
     ]
    },
    {
     "name": "stderr",
     "output_type": "stream",
     "text": [
      "Training AlexNet - Epoch 9/10: 100%|███████████| 10/10 [00:05<00:00,  1.90it/s]\n"
     ]
    },
    {
     "name": "stdout",
     "output_type": "stream",
     "text": [
      "Epoch [9/10], Loss: 0.0411\n"
     ]
    },
    {
     "name": "stderr",
     "output_type": "stream",
     "text": [
      "Training AlexNet - Epoch 10/10: 100%|██████████| 10/10 [00:05<00:00,  1.97it/s]\n"
     ]
    },
    {
     "name": "stdout",
     "output_type": "stream",
     "text": [
      "Epoch [10/10], Loss: 0.0433\n",
      "✅ Successfully Fine-Tuned and Saved AlexNet!\n"
     ]
    },
    {
     "name": "stderr",
     "output_type": "stream",
     "text": [
      "Training VGG16 - Epoch 1/10: 100%|█████████████| 10/10 [00:08<00:00,  1.21it/s]\n"
     ]
    },
    {
     "name": "stdout",
     "output_type": "stream",
     "text": [
      "Epoch [1/10], Loss: 0.2111\n"
     ]
    },
    {
     "name": "stderr",
     "output_type": "stream",
     "text": [
      "Training VGG16 - Epoch 2/10: 100%|█████████████| 10/10 [00:08<00:00,  1.24it/s]\n"
     ]
    },
    {
     "name": "stdout",
     "output_type": "stream",
     "text": [
      "Epoch [2/10], Loss: 0.1214\n"
     ]
    },
    {
     "name": "stderr",
     "output_type": "stream",
     "text": [
      "Training VGG16 - Epoch 3/10: 100%|█████████████| 10/10 [00:08<00:00,  1.22it/s]\n"
     ]
    },
    {
     "name": "stdout",
     "output_type": "stream",
     "text": [
      "Epoch [3/10], Loss: 0.0565\n"
     ]
    },
    {
     "name": "stderr",
     "output_type": "stream",
     "text": [
      "Training VGG16 - Epoch 4/10: 100%|█████████████| 10/10 [00:08<00:00,  1.20it/s]\n"
     ]
    },
    {
     "name": "stdout",
     "output_type": "stream",
     "text": [
      "Epoch [4/10], Loss: 0.0512\n"
     ]
    },
    {
     "name": "stderr",
     "output_type": "stream",
     "text": [
      "Training VGG16 - Epoch 5/10: 100%|█████████████| 10/10 [00:08<00:00,  1.21it/s]\n"
     ]
    },
    {
     "name": "stdout",
     "output_type": "stream",
     "text": [
      "Epoch [5/10], Loss: 0.0428\n"
     ]
    },
    {
     "name": "stderr",
     "output_type": "stream",
     "text": [
      "Training VGG16 - Epoch 6/10: 100%|█████████████| 10/10 [00:08<00:00,  1.19it/s]\n"
     ]
    },
    {
     "name": "stdout",
     "output_type": "stream",
     "text": [
      "Epoch [6/10], Loss: 0.0656\n"
     ]
    },
    {
     "name": "stderr",
     "output_type": "stream",
     "text": [
      "Training VGG16 - Epoch 7/10: 100%|█████████████| 10/10 [00:08<00:00,  1.21it/s]\n"
     ]
    },
    {
     "name": "stdout",
     "output_type": "stream",
     "text": [
      "Epoch [7/10], Loss: 0.0228\n"
     ]
    },
    {
     "name": "stderr",
     "output_type": "stream",
     "text": [
      "Training VGG16 - Epoch 8/10: 100%|█████████████| 10/10 [00:08<00:00,  1.19it/s]\n"
     ]
    },
    {
     "name": "stdout",
     "output_type": "stream",
     "text": [
      "Epoch [8/10], Loss: 0.0181\n"
     ]
    },
    {
     "name": "stderr",
     "output_type": "stream",
     "text": [
      "Training VGG16 - Epoch 9/10: 100%|█████████████| 10/10 [00:08<00:00,  1.20it/s]\n"
     ]
    },
    {
     "name": "stdout",
     "output_type": "stream",
     "text": [
      "Epoch [9/10], Loss: 0.0138\n"
     ]
    },
    {
     "name": "stderr",
     "output_type": "stream",
     "text": [
      "Training VGG16 - Epoch 10/10: 100%|████████████| 10/10 [00:08<00:00,  1.24it/s]\n"
     ]
    },
    {
     "name": "stdout",
     "output_type": "stream",
     "text": [
      "Epoch [10/10], Loss: 0.0058\n",
      "✅ Successfully Fine-Tuned and Saved VGG16!\n"
     ]
    }
   ],
   "source": [
    "import torch\n",
    "import os\n",
    "from torch.utils.data import DataLoader\n",
    "import torchvision.transforms as transforms\n",
    "import json\n",
    "import torchvision.models as models\n",
    "import torch.nn as nn\n",
    "import torch.optim as optim\n",
    "from tqdm import tqdm\n",
    "\n",
    "# Device Configuration\n",
    "device = torch.device(\"cuda\" if torch.cuda.is_available() else \"cpu\")\n",
    "\n",
    "# Save Path for Models\n",
    "save_path = r\"D:\\ProjectML2 - Glaucoma\\FINALLLLLWORK\"\n",
    "\n",
    "# Fixing DataLoader Loading Error\n",
    "try:\n",
    "    train_loader_augmented = torch.load(os.path.join(save_path, 'train_loader_augmented.pth'), weights_only=False)\n",
    "    print(\"✅ Successfully loaded the augmented DataLoader.\")\n",
    "except Exception as e:\n",
    "    print(f\"❌ Failed to load DataLoader: {e}\")\n",
    "\n",
    "# Define Focal Loss\n",
    "class FocalLoss(nn.Module):\n",
    "    def __init__(self, alpha=1, gamma=2):\n",
    "        super(FocalLoss, self).__init__()\n",
    "        self.alpha = alpha\n",
    "        self.gamma = gamma\n",
    "        self.ce_loss = nn.CrossEntropyLoss()\n",
    "\n",
    "    def forward(self, inputs, targets):\n",
    "        ce_loss = self.ce_loss(inputs, targets)\n",
    "        pt = torch.exp(-ce_loss)\n",
    "        loss = self.alpha * (1 - pt) ** self.gamma * ce_loss\n",
    "        return loss.mean()\n",
    "\n",
    "# Define Model Training Function\n",
    "def train_model(model, model_name, train_loader, num_epochs=10, learning_rate=1e-4):\n",
    "    criterion = FocalLoss().to(device)\n",
    "    optimizer = optim.Adam(model.parameters(), lr=learning_rate)\n",
    "\n",
    "    model.train()\n",
    "    for epoch in range(num_epochs):\n",
    "        running_loss = 0.0\n",
    "        for images, labels in tqdm(train_loader, desc=f\"Training {model_name} - Epoch {epoch+1}/{num_epochs}\"):\n",
    "            images, labels = images.to(device), labels.to(device)\n",
    "\n",
    "            optimizer.zero_grad()\n",
    "            outputs = model(images)\n",
    "            loss = criterion(outputs, labels)\n",
    "            loss.backward()\n",
    "            optimizer.step()\n",
    "\n",
    "            running_loss += loss.item() * images.size(0)\n",
    "\n",
    "        epoch_loss = running_loss / len(train_loader.dataset)\n",
    "        print(f\"Epoch [{epoch+1}/{num_epochs}], Loss: {epoch_loss:.4f}\")\n",
    "\n",
    "    torch.save(model.state_dict(), os.path.join(save_path, f'{model_name}_improved.pth'))\n",
    "    print(f\"✅ Successfully Fine-Tuned and Saved {model_name}!\")\n",
    "\n",
    "# Load Models with Dropout Layers\n",
    "alexnet = models.alexnet(weights='IMAGENET1K_V1')\n",
    "vgg16 = models.vgg16(weights='IMAGENET1K_V1')\n",
    "\n",
    "# Adding Dropout Layers\n",
    "alexnet.classifier[2] = nn.Dropout(0.5)\n",
    "alexnet.classifier[5] = nn.Dropout(0.5)\n",
    "alexnet.classifier[6] = nn.Linear(4096, 2)\n",
    "\n",
    "vgg16.classifier[3] = nn.Dropout(0.5)\n",
    "vgg16.classifier[6] = nn.Linear(4096, 2)\n",
    "\n",
    "models_dict = {\n",
    "    \"AlexNet\": alexnet.to(device),\n",
    "    \"VGG16\": vgg16.to(device),\n",
    "}\n",
    "\n",
    "# Set models to train mode\n",
    "for model in models_dict.values():\n",
    "    model.train()\n",
    "\n",
    "# Fine-tune Models with Improvements\n",
    "for model_name, model in models_dict.items():\n",
    "    train_model(model, model_name, train_loader_augmented, num_epochs=10, learning_rate=1e-4)\n"
   ]
  },
  {
   "cell_type": "code",
   "execution_count": 41,
   "id": "5c7cd1a9-a83a-4e71-ab3c-42f0410e5c44",
   "metadata": {},
   "outputs": [
    {
     "name": "stdout",
     "output_type": "stream",
     "text": [
      "Evaluating AlexNet...\n"
     ]
    },
    {
     "name": "stderr",
     "output_type": "stream",
     "text": [
      "Evaluating Model: 100%|██████████████████████████| 6/6 [00:01<00:00,  3.69it/s]\n"
     ]
    },
    {
     "name": "stdout",
     "output_type": "stream",
     "text": [
      "✅ Results for AlexNet:\n",
      "Accuracy: 71.84%\n",
      "Precision: 0.56\n",
      "Recall: 0.55\n",
      "F1-Score: 0.56\n",
      "AUC-ROC: 0.68\n",
      "Confusion Matrix:\n",
      "[[94, 24], [25, 31]]\n",
      "\n",
      "Evaluating VGG16...\n"
     ]
    },
    {
     "name": "stderr",
     "output_type": "stream",
     "text": [
      "Evaluating Model: 100%|██████████████████████████| 6/6 [00:02<00:00,  2.39it/s]"
     ]
    },
    {
     "name": "stdout",
     "output_type": "stream",
     "text": [
      "✅ Results for VGG16:\n",
      "Accuracy: 71.26%\n",
      "Precision: 0.56\n",
      "Recall: 0.52\n",
      "F1-Score: 0.54\n",
      "AUC-ROC: 0.66\n",
      "Confusion Matrix:\n",
      "[[95, 23], [27, 29]]\n",
      "\n",
      "✅ Successfully evaluated all models and saved results to 'improved_model_evaluation_results.json'.\n"
     ]
    },
    {
     "name": "stderr",
     "output_type": "stream",
     "text": [
      "\n"
     ]
    }
   ],
   "source": [
    "import torch\n",
    "import os\n",
    "import json\n",
    "import torchvision.transforms as transforms\n",
    "from torch.utils.data import DataLoader, Dataset\n",
    "from sklearn.metrics import accuracy_score, precision_score, recall_score, f1_score, roc_auc_score, confusion_matrix\n",
    "from tqdm import tqdm\n",
    "import cv2\n",
    "import numpy as np\n",
    "import torchvision.models as models\n",
    "import torch.nn as nn\n",
    "\n",
    "# Device Configuration\n",
    "device = torch.device(\"cuda\" if torch.cuda.is_available() else \"cpu\")\n",
    "\n",
    "# Load Fine-Tuned Models with Proper Architecture\n",
    "save_path = r\"D:\\ProjectML2 - Glaucoma\\FINALLLLLWORK\"\n",
    "\n",
    "# Load Models with Correct Architecture Definitions\n",
    "alexnet = models.alexnet(weights='IMAGENET1K_V1')\n",
    "vgg16 = models.vgg16(weights='IMAGENET1K_V1')\n",
    "\n",
    "# Modify the final layers to match your training setup\n",
    "alexnet.classifier[6] = nn.Linear(4096, 2)\n",
    "vgg16.classifier[6] = nn.Linear(4096, 2)\n",
    "\n",
    "# Load the fine-tuned weights properly using state_dict()\n",
    "alexnet.load_state_dict(torch.load(os.path.join(save_path, 'AlexNet_improved.pth')))\n",
    "vgg16.load_state_dict(torch.load(os.path.join(save_path, 'VGG16_improved.pth')), strict=False)\n",
    "\n",
    "\n",
    "# Move models to the device\n",
    "alexnet.to(device)\n",
    "vgg16.to(device)\n",
    "\n",
    "# Add models to the dictionary\n",
    "models_dict = {\n",
    "    \"AlexNet\": alexnet,\n",
    "    \"VGG16\": vgg16\n",
    "}\n",
    "\n",
    "# Set all models to evaluation mode\n",
    "for model in models_dict.values():\n",
    "    model.eval()\n",
    "\n",
    "# Define Transformations for Test Data\n",
    "test_transform = transforms.Compose([\n",
    "    transforms.ToPILImage(),\n",
    "    transforms.Resize((224, 224)),\n",
    "    transforms.ToTensor(),\n",
    "    transforms.Normalize(mean=[0.485, 0.456, 0.406], std=[0.229, 0.224, 0.225])\n",
    "])\n",
    "\n",
    "# Custom Dataset Class for Test Data\n",
    "class GlaucomaTestDataset(Dataset):\n",
    "    def __init__(self, image_paths, labels, transform=None):\n",
    "        self.image_paths = image_paths\n",
    "        self.labels = labels\n",
    "        self.transform = transform\n",
    "\n",
    "    def __len__(self):\n",
    "        return len(self.image_paths)\n",
    "\n",
    "    def __getitem__(self, idx):\n",
    "        img_path = self.image_paths[idx]\n",
    "        image = cv2.imread(img_path)\n",
    "        image = cv2.cvtColor(image, cv2.COLOR_BGR2RGB)\n",
    "\n",
    "        if self.transform:\n",
    "            image = self.transform(image)\n",
    "\n",
    "        label = self.labels[idx]\n",
    "        return image, label\n",
    "\n",
    "# Load Test Data Paths and Labels\n",
    "def load_image_paths_and_labels(glaucoma_path, normal_path, label_glaucoma=1, label_normal=0):\n",
    "    image_paths = []\n",
    "    labels = []\n",
    "\n",
    "    for img_name in os.listdir(glaucoma_path):\n",
    "        image_paths.append(os.path.join(glaucoma_path, img_name))\n",
    "        labels.append(label_glaucoma)\n",
    "    \n",
    "    for img_name in os.listdir(normal_path):\n",
    "        image_paths.append(os.path.join(normal_path, img_name))\n",
    "        labels.append(label_normal)\n",
    "    \n",
    "    return image_paths, labels\n",
    "\n",
    "# Define Test Image Paths\n",
    "test_glaucoma = r\"D:\\ProjectML2 - Glaucoma\\FINALLLLLWORK\\RIM-ONE_DL_images\\partitioned_by_hospital\\test_set\\glaucoma\"\n",
    "test_normal = r\"D:\\ProjectML2 - Glaucoma\\FINALLLLLWORK\\RIM-ONE_DL_images\\partitioned_by_hospital\\test_set\\normal\"\n",
    "\n",
    "test_images, test_labels = load_image_paths_and_labels(test_glaucoma, test_normal)\n",
    "test_dataset = GlaucomaTestDataset(test_images, test_labels, transform=test_transform)\n",
    "test_loader = DataLoader(test_dataset, batch_size=32, shuffle=False)\n",
    "\n",
    "# Evaluation Function\n",
    "def evaluate_model(model, loader):\n",
    "    all_preds = []\n",
    "    all_labels = []\n",
    "\n",
    "    with torch.no_grad():\n",
    "        for images, labels in tqdm(loader, desc=\"Evaluating Model\"):\n",
    "            images = images.to(device)\n",
    "            labels = labels.to(device)\n",
    "            outputs = model(images)\n",
    "            _, preds = torch.max(outputs, 1)\n",
    "            \n",
    "            all_preds.extend(preds.cpu().numpy())\n",
    "            all_labels.extend(labels.cpu().numpy())\n",
    "\n",
    "    accuracy = accuracy_score(all_labels, all_preds) * 100\n",
    "    precision = precision_score(all_labels, all_preds, zero_division=1)\n",
    "    recall = recall_score(all_labels, all_preds, zero_division=1)\n",
    "    f1 = f1_score(all_labels, all_preds, zero_division=1)\n",
    "    auc = roc_auc_score(all_labels, all_preds)\n",
    "    cm = confusion_matrix(all_labels, all_preds)\n",
    "\n",
    "    results = {\n",
    "        \"Accuracy\": accuracy,\n",
    "        \"Precision\": precision,\n",
    "        \"Recall\": recall,\n",
    "        \"F1-Score\": f1,\n",
    "        \"AUC-ROC\": auc,\n",
    "        \"Confusion Matrix\": cm.tolist()\n",
    "    }\n",
    "    \n",
    "    return results\n",
    "\n",
    "# Evaluate All Models\n",
    "model_results = {}\n",
    "\n",
    "for model_name, model in models_dict.items():\n",
    "    print(f\"Evaluating {model_name}...\")\n",
    "    results = evaluate_model(model, test_loader)\n",
    "    model_results[model_name] = results\n",
    "    print(f\"✅ Results for {model_name}:\")\n",
    "    print(f\"Accuracy: {results['Accuracy']:.2f}%\")\n",
    "    print(f\"Precision: {results['Precision']:.2f}\")\n",
    "    print(f\"Recall: {results['Recall']:.2f}\")\n",
    "    print(f\"F1-Score: {results['F1-Score']:.2f}\")\n",
    "    print(f\"AUC-ROC: {results['AUC-ROC']:.2f}\")\n",
    "    print(f\"Confusion Matrix:\\n{results['Confusion Matrix']}\\n\")\n",
    "\n",
    "# Save Results to a File\n",
    "results_path = os.path.join(save_path, 'improved_model_evaluation_results.json')\n",
    "with open(results_path, 'w') as f:\n",
    "    json.dump(model_results, f, indent=4)\n",
    "\n",
    "print(\"✅ Successfully evaluated all models and saved results to 'improved_model_evaluation_results.json'.\")\n"
   ]
  },
  {
   "cell_type": "code",
   "execution_count": 44,
   "id": "7c538886-a2aa-41b4-abdc-d87f3ababe52",
   "metadata": {},
   "outputs": [
    {
     "name": "stdout",
     "output_type": "stream",
     "text": [
      "['.ipynb_checkpoints', 'AlexNet_finetuned.pth', 'AlexNet_fine_tuned.pth', 'AlexNet_improved.pth', 'augmented_data.json', 'augmented_data.pth', 'EfficientNet-B0_fine_tuned.pth', 'FINALTIME.ipynb', 'improved_model_evaluation_results.json', 'improved_model_results.pth', 'InceptionV3_fine_tuned.pth', 'model_comparison_results.pth', 'model_evaluation_results.json', 'ResNet50_finetuned.pth', 'ResNet50_fine_tuned.pth', 'RIM-ONE_DL_images', 'test_features_dict.pth', 'test_labels_dict.pth', 'train_features_dict.pth', 'train_features_dict_augmented.pth', 'train_labels_dict.pth', 'train_labels_dict_augmented.pth', 'train_loader_augmented.pth', 'VGG16_finetuned.pth', 'VGG16_fine_tuned.pth', 'VGG16_improved.pth']\n"
     ]
    }
   ],
   "source": [
    "import os\n",
    "print(os.listdir(r\"D:\\ProjectML2 - Glaucoma\\FINALLLLLWORK\"))\n"
   ]
  },
  {
   "cell_type": "code",
   "execution_count": 45,
   "id": "f9c1c5c0-c1b1-42df-9879-a3c2aae8842a",
   "metadata": {},
   "outputs": [],
   "source": [
    "torch.save(resnet50.state_dict(), os.path.join(save_path, 'ResNet50_improved.pth'))\n",
    "torch.save(efficientnet_b0.state_dict(), os.path.join(save_path, 'EfficientNet-B0_improved.pth'))\n",
    "torch.save(inceptionv3.state_dict(), os.path.join(save_path, 'InceptionV3_improved.pth'))\n"
   ]
  },
  {
   "cell_type": "code",
   "execution_count": 48,
   "id": "788d4548-d1ff-49cd-b73d-6cfb259912aa",
   "metadata": {},
   "outputs": [
    {
     "name": "stdout",
     "output_type": "stream",
     "text": [
      "Evaluating AlexNet...\n"
     ]
    },
    {
     "name": "stderr",
     "output_type": "stream",
     "text": [
      "Evaluating Model: 100%|██████████████████████████| 6/6 [00:01<00:00,  3.66it/s]\n"
     ]
    },
    {
     "name": "stdout",
     "output_type": "stream",
     "text": [
      "✅ Results for AlexNet:\n",
      "Accuracy: 32.18%\n",
      "Precision: 0.32\n",
      "Recall: 1.00\n",
      "F1-Score: 0.49\n",
      "AUC-ROC: 0.50\n",
      "Confusion Matrix:\n",
      "[[0, 118], [0, 56]]\n",
      "\n",
      "Evaluating VGG16...\n"
     ]
    },
    {
     "name": "stderr",
     "output_type": "stream",
     "text": [
      "Evaluating Model: 100%|██████████████████████████| 6/6 [00:02<00:00,  2.71it/s]\n"
     ]
    },
    {
     "name": "stdout",
     "output_type": "stream",
     "text": [
      "✅ Results for VGG16:\n",
      "Accuracy: 67.82%\n",
      "Precision: 1.00\n",
      "Recall: 0.00\n",
      "F1-Score: 0.00\n",
      "AUC-ROC: 0.50\n",
      "Confusion Matrix:\n",
      "[[118, 0], [56, 0]]\n",
      "\n",
      "Evaluating ResNet50...\n"
     ]
    },
    {
     "name": "stderr",
     "output_type": "stream",
     "text": [
      "Evaluating Model: 100%|██████████████████████████| 6/6 [00:01<00:00,  3.03it/s]\n"
     ]
    },
    {
     "name": "stdout",
     "output_type": "stream",
     "text": [
      "✅ Results for ResNet50:\n",
      "Accuracy: 74.14%\n",
      "Precision: 0.59\n",
      "Recall: 0.66\n",
      "F1-Score: 0.62\n",
      "AUC-ROC: 0.72\n",
      "Confusion Matrix:\n",
      "[[92, 26], [19, 37]]\n",
      "\n",
      "Evaluating InceptionV3...\n"
     ]
    },
    {
     "name": "stderr",
     "output_type": "stream",
     "text": [
      "Evaluating Model: 100%|██████████████████████████| 6/6 [00:01<00:00,  3.09it/s]\n"
     ]
    },
    {
     "name": "stdout",
     "output_type": "stream",
     "text": [
      "✅ Results for InceptionV3:\n",
      "Accuracy: 66.67%\n",
      "Precision: 0.48\n",
      "Recall: 0.57\n",
      "F1-Score: 0.52\n",
      "AUC-ROC: 0.64\n",
      "Confusion Matrix:\n",
      "[[84, 34], [24, 32]]\n",
      "\n",
      "Evaluating EfficientNet-B0...\n"
     ]
    },
    {
     "name": "stderr",
     "output_type": "stream",
     "text": [
      "Evaluating Model: 100%|██████████████████████████| 6/6 [00:01<00:00,  3.28it/s]"
     ]
    },
    {
     "name": "stdout",
     "output_type": "stream",
     "text": [
      "✅ Results for EfficientNet-B0:\n",
      "Accuracy: 67.24%\n",
      "Precision: 0.47\n",
      "Recall: 0.16\n",
      "F1-Score: 0.24\n",
      "AUC-ROC: 0.54\n",
      "Confusion Matrix:\n",
      "[[108, 10], [47, 9]]\n",
      "\n",
      "✅ Successfully evaluated all models and saved results to 'improved_model_evaluation_results.json'.\n"
     ]
    },
    {
     "name": "stderr",
     "output_type": "stream",
     "text": [
      "\n"
     ]
    }
   ],
   "source": [
    "import os\n",
    "import torch\n",
    "import torchvision.transforms as transforms\n",
    "import torch.nn as nn\n",
    "import cv2\n",
    "import numpy as np\n",
    "from torch.utils.data import Dataset, DataLoader\n",
    "from sklearn.metrics import accuracy_score, precision_score, recall_score, f1_score, roc_auc_score, confusion_matrix\n",
    "import json\n",
    "from tqdm import tqdm\n",
    "from torchvision import models\n",
    "from PIL import Image\n",
    "\n",
    "# Define the device\n",
    "device = torch.device(\"cuda\" if torch.cuda.is_available() else \"cpu\")\n",
    "\n",
    "# Define Test Image Paths\n",
    "test_glaucoma = r\"D:\\ProjectML2 - Glaucoma\\FINALLLLLWORK\\RIM-ONE_DL_images\\partitioned_by_hospital\\test_set\\glaucoma\"\n",
    "test_normal = r\"D:\\ProjectML2 - Glaucoma\\FINALLLLLWORK\\RIM-ONE_DL_images\\partitioned_by_hospital\\test_set\\normal\"\n",
    "\n",
    "# Save path\n",
    "save_path = r\"D:\\ProjectML2 - Glaucoma\\FINALLLLLWORK\"\n",
    "\n",
    "# Load Models with Correct Architecture Definitions\n",
    "alexnet = models.alexnet(weights='IMAGENET1K_V1')\n",
    "vgg16 = models.vgg16(weights='IMAGENET1K_V1')\n",
    "resnet50 = models.resnet50(weights='IMAGENET1K_V1')\n",
    "inceptionv3 = models.inception_v3(weights='IMAGENET1K_V1')\n",
    "efficientnet_b0 = models.efficientnet_b0(weights='IMAGENET1K_V1')\n",
    "\n",
    "# Load Fine-Tuned Weights (BEFORE modifying final layers)\n",
    "alexnet.load_state_dict(torch.load(os.path.join(save_path, 'AlexNet_fine_tuned.pth')))\n",
    "vgg16.load_state_dict(torch.load(os.path.join(save_path, 'VGG16_fine_tuned.pth')))\n",
    "resnet50.load_state_dict(torch.load(os.path.join(save_path, 'ResNet50_fine_tuned.pth')))\n",
    "inceptionv3.load_state_dict(torch.load(os.path.join(save_path, 'InceptionV3_fine_tuned.pth')))\n",
    "efficientnet_b0.load_state_dict(torch.load(os.path.join(save_path, 'EfficientNet-B0_fine_tuned.pth')))\n",
    "\n",
    "# Modify the final layers AFTER loading weights\n",
    "alexnet.classifier[6] = nn.Linear(4096, 2)\n",
    "vgg16.classifier[6] = nn.Linear(4096, 2)\n",
    "resnet50.fc = nn.Linear(resnet50.fc.in_features, 2)\n",
    "inceptionv3.fc = nn.Linear(inceptionv3.fc.in_features, 2)\n",
    "efficientnet_b0.classifier[1] = nn.Linear(efficientnet_b0.classifier[1].in_features, 2)\n",
    "\n",
    "# Move models to the device\n",
    "alexnet.to(device)\n",
    "vgg16.to(device)\n",
    "resnet50.to(device)\n",
    "inceptionv3.to(device)\n",
    "efficientnet_b0.to(device)\n",
    "\n",
    "# Add models to the dictionary\n",
    "models_dict = {\n",
    "    \"AlexNet\": alexnet,\n",
    "    \"VGG16\": vgg16,\n",
    "    \"ResNet50\": resnet50,\n",
    "    \"InceptionV3\": inceptionv3,\n",
    "    \"EfficientNet-B0\": efficientnet_b0\n",
    "}\n",
    "\n",
    "# Set all models to evaluation mode\n",
    "for model in models_dict.values():\n",
    "    model.eval()\n",
    "\n",
    "# Define Transformations for Test Data\n",
    "test_transform = transforms.Compose([\n",
    "    transforms.Resize((224, 224)),\n",
    "    transforms.ToTensor(),\n",
    "    transforms.Normalize(mean=[0.485, 0.456, 0.406], std=[0.229, 0.224, 0.225])\n",
    "])\n",
    "\n",
    "# Custom Dataset Class for Test Data\n",
    "class GlaucomaTestDataset(Dataset):\n",
    "    def __init__(self, image_paths, labels, transform=None):\n",
    "        self.image_paths = image_paths\n",
    "        self.labels = labels\n",
    "        self.transform = transform\n",
    "\n",
    "    def __len__(self):\n",
    "        return len(self.image_paths)\n",
    "\n",
    "    def __getitem__(self, idx):\n",
    "        img_path = self.image_paths[idx]\n",
    "        image = cv2.imread(img_path)\n",
    "        image = cv2.cvtColor(image, cv2.COLOR_BGR2RGB)\n",
    "        \n",
    "        # Convert the image from NumPy array to PIL Image\n",
    "        image = Image.fromarray(image)\n",
    "        \n",
    "        if self.transform:\n",
    "            image = self.transform(image)\n",
    "        \n",
    "        label = self.labels[idx]\n",
    "        return image, label\n",
    "\n",
    "# Load Test Image Paths and Labels\n",
    "def load_image_paths_and_labels(glaucoma_path, normal_path, label_glaucoma=1, label_normal=0):\n",
    "    image_paths = []\n",
    "    labels = []\n",
    "\n",
    "    for img_name in os.listdir(glaucoma_path):\n",
    "        image_paths.append(os.path.join(glaucoma_path, img_name))\n",
    "        labels.append(label_glaucoma)\n",
    "    \n",
    "    for img_name in os.listdir(normal_path):\n",
    "        image_paths.append(os.path.join(normal_path, img_name))\n",
    "        labels.append(label_normal)\n",
    "    \n",
    "    return image_paths, labels\n",
    "\n",
    "# Load Test Data\n",
    "test_images, test_labels = load_image_paths_and_labels(test_glaucoma, test_normal)\n",
    "test_dataset = GlaucomaTestDataset(test_images, test_labels, transform=test_transform)\n",
    "test_loader = DataLoader(test_dataset, batch_size=32, shuffle=False)\n",
    "\n",
    "# Evaluation Function\n",
    "def evaluate_model(model, loader):\n",
    "    all_preds = []\n",
    "    all_labels = []\n",
    "\n",
    "    with torch.no_grad():\n",
    "        for images, labels in tqdm(loader, desc=\"Evaluating Model\"):\n",
    "            images = images.to(device)\n",
    "            labels = labels.to(device)\n",
    "            outputs = model(images)\n",
    "            _, preds = torch.max(outputs, 1)\n",
    "            \n",
    "            all_preds.extend(preds.cpu().numpy())\n",
    "            all_labels.extend(labels.cpu().numpy())\n",
    "\n",
    "    accuracy = accuracy_score(all_labels, all_preds) * 100\n",
    "    precision = precision_score(all_labels, all_preds, zero_division=1)\n",
    "    recall = recall_score(all_labels, all_preds, zero_division=1)\n",
    "    f1 = f1_score(all_labels, all_preds, zero_division=1)\n",
    "    auc = roc_auc_score(all_labels, all_preds)\n",
    "    cm = confusion_matrix(all_labels, all_preds)\n",
    "\n",
    "    results = {\n",
    "        \"Accuracy\": accuracy,\n",
    "        \"Precision\": precision,\n",
    "        \"Recall\": recall,\n",
    "        \"F1-Score\": f1,\n",
    "        \"AUC-ROC\": auc,\n",
    "        \"Confusion Matrix\": cm.tolist()\n",
    "    }\n",
    "    \n",
    "    return results\n",
    "\n",
    "# Evaluate All Models\n",
    "model_results = {}\n",
    "\n",
    "for model_name, model in models_dict.items():\n",
    "    print(f\"Evaluating {model_name}...\")\n",
    "    results = evaluate_model(model, test_loader)\n",
    "    model_results[model_name] = results\n",
    "    print(f\"✅ Results for {model_name}:\")\n",
    "    print(f\"Accuracy: {results['Accuracy']:.2f}%\")\n",
    "    print(f\"Precision: {results['Precision']:.2f}\")\n",
    "    print(f\"Recall: {results['Recall']:.2f}\")\n",
    "    print(f\"F1-Score: {results['F1-Score']:.2f}\")\n",
    "    print(f\"AUC-ROC: {results['AUC-ROC']:.2f}\")\n",
    "    print(f\"Confusion Matrix:\\n{results['Confusion Matrix']}\\n\")\n",
    "\n",
    "# Save Results to a File\n",
    "results_path = os.path.join(save_path, 'improved_model_evaluation_results.json')\n",
    "with open(results_path, 'w') as f:\n",
    "    json.dump(model_results, f, indent=4)\n",
    "\n",
    "print(\"✅ Successfully evaluated all models and saved results to 'improved_model_evaluation_results.json'.\")\n"
   ]
  },
  {
   "cell_type": "code",
   "execution_count": 49,
   "id": "ee248451-f340-4ff7-9e53-e47de0b3a169",
   "metadata": {},
   "outputs": [
    {
     "name": "stderr",
     "output_type": "stream",
     "text": [
      "D:\\ProjectML2 - Glaucoma\\pytorchGlaucoma\\Lib\\site-packages\\torchvision\\models\\_utils.py:208: UserWarning: The parameter 'pretrained' is deprecated since 0.13 and may be removed in the future, please use 'weights' instead.\n",
      "  warnings.warn(\n",
      "D:\\ProjectML2 - Glaucoma\\pytorchGlaucoma\\Lib\\site-packages\\torchvision\\models\\_utils.py:223: UserWarning: Arguments other than a weight enum or `None` for 'weights' are deprecated since 0.13 and may be removed in the future. The current behavior is equivalent to passing `weights=ResNet50_Weights.IMAGENET1K_V1`. You can also use `weights=ResNet50_Weights.DEFAULT` to get the most up-to-date weights.\n",
      "  warnings.warn(msg)\n",
      "Training Epoch 1/10: 100%|███████████████████████| 5/5 [00:03<00:00,  1.44it/s]\n"
     ]
    },
    {
     "name": "stdout",
     "output_type": "stream",
     "text": [
      "Epoch [1/10], Loss: 0.6948\n"
     ]
    },
    {
     "name": "stderr",
     "output_type": "stream",
     "text": [
      "Training Epoch 2/10: 100%|███████████████████████| 5/5 [00:02<00:00,  1.89it/s]\n"
     ]
    },
    {
     "name": "stdout",
     "output_type": "stream",
     "text": [
      "Epoch [2/10], Loss: 0.6185\n"
     ]
    },
    {
     "name": "stderr",
     "output_type": "stream",
     "text": [
      "Training Epoch 3/10: 100%|███████████████████████| 5/5 [00:02<00:00,  1.89it/s]\n"
     ]
    },
    {
     "name": "stdout",
     "output_type": "stream",
     "text": [
      "Epoch [3/10], Loss: 0.5911\n"
     ]
    },
    {
     "name": "stderr",
     "output_type": "stream",
     "text": [
      "Training Epoch 4/10: 100%|███████████████████████| 5/5 [00:02<00:00,  1.84it/s]\n"
     ]
    },
    {
     "name": "stdout",
     "output_type": "stream",
     "text": [
      "Epoch [4/10], Loss: 0.5843\n"
     ]
    },
    {
     "name": "stderr",
     "output_type": "stream",
     "text": [
      "Training Epoch 5/10: 100%|███████████████████████| 5/5 [00:02<00:00,  1.82it/s]\n"
     ]
    },
    {
     "name": "stdout",
     "output_type": "stream",
     "text": [
      "Epoch [5/10], Loss: 0.5477\n"
     ]
    },
    {
     "name": "stderr",
     "output_type": "stream",
     "text": [
      "Training Epoch 6/10: 100%|███████████████████████| 5/5 [00:02<00:00,  1.85it/s]\n"
     ]
    },
    {
     "name": "stdout",
     "output_type": "stream",
     "text": [
      "Epoch [6/10], Loss: 0.4817\n"
     ]
    },
    {
     "name": "stderr",
     "output_type": "stream",
     "text": [
      "Training Epoch 7/10: 100%|███████████████████████| 5/5 [00:02<00:00,  1.92it/s]\n"
     ]
    },
    {
     "name": "stdout",
     "output_type": "stream",
     "text": [
      "Epoch [7/10], Loss: 0.4917\n"
     ]
    },
    {
     "name": "stderr",
     "output_type": "stream",
     "text": [
      "Training Epoch 8/10: 100%|███████████████████████| 5/5 [00:02<00:00,  1.96it/s]\n"
     ]
    },
    {
     "name": "stdout",
     "output_type": "stream",
     "text": [
      "Epoch [8/10], Loss: 0.4908\n"
     ]
    },
    {
     "name": "stderr",
     "output_type": "stream",
     "text": [
      "Training Epoch 9/10: 100%|███████████████████████| 5/5 [00:02<00:00,  1.88it/s]\n"
     ]
    },
    {
     "name": "stdout",
     "output_type": "stream",
     "text": [
      "Epoch [9/10], Loss: 0.4636\n"
     ]
    },
    {
     "name": "stderr",
     "output_type": "stream",
     "text": [
      "Training Epoch 10/10: 100%|██████████████████████| 5/5 [00:02<00:00,  1.82it/s]"
     ]
    },
    {
     "name": "stdout",
     "output_type": "stream",
     "text": [
      "Epoch [10/10], Loss: 0.3969\n",
      "✅ Training Complete and Model Saved Successfully!\n"
     ]
    },
    {
     "name": "stderr",
     "output_type": "stream",
     "text": [
      "\n"
     ]
    }
   ],
   "source": [
    "import os\n",
    "import torch\n",
    "import torchvision.transforms as transforms\n",
    "import torch.nn as nn\n",
    "import torch.optim as optim\n",
    "from torch.utils.data import Dataset, DataLoader\n",
    "from sklearn.metrics import accuracy_score, precision_score, recall_score, f1_score, roc_auc_score, confusion_matrix\n",
    "from sklearn.model_selection import train_test_split\n",
    "from tqdm import tqdm\n",
    "import json\n",
    "import cv2\n",
    "import numpy as np\n",
    "from torchvision import models\n",
    "from PIL import Image\n",
    "\n",
    "# Device Configuration\n",
    "device = torch.device(\"cuda\" if torch.cuda.is_available() else \"cpu\")\n",
    "\n",
    "# Define Paths\n",
    "save_path = r\"D:\\ProjectML2 - Glaucoma\\FINALLLLLWORK\"\n",
    "test_glaucoma = r\"D:\\ProjectML2 - Glaucoma\\FINALLLLLWORK\\RIM-ONE_DL_images\\partitioned_by_hospital\\test_set\\glaucoma\"\n",
    "test_normal = r\"D:\\ProjectML2 - Glaucoma\\FINALLLLLWORK\\RIM-ONE_DL_images\\partitioned_by_hospital\\test_set\\normal\"\n",
    "\n",
    "# Data Augmentation\n",
    "train_transform = transforms.Compose([\n",
    "    transforms.RandomResizedCrop(224),\n",
    "    transforms.RandomHorizontalFlip(),\n",
    "    transforms.RandomRotation(10),\n",
    "    transforms.RandomVerticalFlip(),\n",
    "    transforms.ColorJitter(brightness=0.2, contrast=0.2, saturation=0.2, hue=0.1),\n",
    "    transforms.ToTensor(),\n",
    "    transforms.Normalize(mean=[0.485, 0.456, 0.406], std=[0.229, 0.224, 0.225])\n",
    "])\n",
    "\n",
    "# Test Transform\n",
    "test_transform = transforms.Compose([\n",
    "    transforms.Resize((224, 224)),\n",
    "    transforms.ToTensor(),\n",
    "    transforms.Normalize(mean=[0.485, 0.456, 0.406], std=[0.229, 0.224, 0.225])\n",
    "])\n",
    "\n",
    "# Custom Dataset Class\n",
    "class GlaucomaDataset(Dataset):\n",
    "    def __init__(self, image_paths, labels, transform=None):\n",
    "        self.image_paths = image_paths\n",
    "        self.labels = labels\n",
    "        self.transform = transform\n",
    "\n",
    "    def __len__(self):\n",
    "        return len(self.image_paths)\n",
    "\n",
    "    def __getitem__(self, idx):\n",
    "        img_path = self.image_paths[idx]\n",
    "        image = cv2.imread(img_path)\n",
    "        image = cv2.cvtColor(image, cv2.COLOR_BGR2RGB)\n",
    "        image = Image.fromarray(image)\n",
    "        \n",
    "        if self.transform:\n",
    "            image = self.transform(image)\n",
    "\n",
    "        label = self.labels[idx]\n",
    "        return image, label\n",
    "\n",
    "# Load Data Paths and Labels\n",
    "def load_image_paths_and_labels(glaucoma_path, normal_path):\n",
    "    image_paths, labels = [], []\n",
    "    \n",
    "    for img_name in os.listdir(glaucoma_path):\n",
    "        image_paths.append(os.path.join(glaucoma_path, img_name))\n",
    "        labels.append(1)\n",
    "    \n",
    "    for img_name in os.listdir(normal_path):\n",
    "        image_paths.append(os.path.join(normal_path, img_name))\n",
    "        labels.append(0)\n",
    "    \n",
    "    return image_paths, labels\n",
    "\n",
    "# Load Data\n",
    "image_paths, labels = load_image_paths_and_labels(test_glaucoma, test_normal)\n",
    "\n",
    "# Split Data\n",
    "train_paths, val_paths, train_labels, val_labels = train_test_split(image_paths, labels, test_size=0.2, random_state=42)\n",
    "train_dataset = GlaucomaDataset(train_paths, train_labels, transform=train_transform)\n",
    "val_dataset = GlaucomaDataset(val_paths, val_labels, transform=test_transform)\n",
    "\n",
    "train_loader = DataLoader(train_dataset, batch_size=32, shuffle=True)\n",
    "val_loader = DataLoader(val_dataset, batch_size=32, shuffle=False)\n",
    "\n",
    "# Define Model\n",
    "model = models.resnet50(pretrained=True)\n",
    "model.fc = nn.Linear(model.fc.in_features, 2)\n",
    "model.to(device)\n",
    "\n",
    "# Define Loss & Optimizer\n",
    "criterion = nn.CrossEntropyLoss(weight=torch.tensor([1.0, 2.0]).to(device))\n",
    "optimizer = optim.Adam(model.parameters(), lr=0.0001)\n",
    "\n",
    "# Training Loop\n",
    "num_epochs = 10\n",
    "for epoch in range(num_epochs):\n",
    "    model.train()\n",
    "    running_loss = 0.0\n",
    "\n",
    "    for images, labels in tqdm(train_loader, desc=f\"Training Epoch {epoch+1}/{num_epochs}\"):\n",
    "        images, labels = images.to(device), labels.to(device)\n",
    "\n",
    "        optimizer.zero_grad()\n",
    "        outputs = model(images)\n",
    "        loss = criterion(outputs, labels)\n",
    "        loss.backward()\n",
    "        optimizer.step()\n",
    "\n",
    "        running_loss += loss.item() * images.size(0)\n",
    "    \n",
    "    epoch_loss = running_loss / len(train_loader.dataset)\n",
    "    print(f\"Epoch [{epoch+1}/{num_epochs}], Loss: {epoch_loss:.4f}\")\n",
    "\n",
    "# Save Model\n",
    "torch.save(model.state_dict(), os.path.join(save_path, 'ResNet50_augmented.pth'))\n",
    "\n",
    "print(\"✅ Training Complete and Model Saved Successfully!\")\n"
   ]
  },
  {
   "cell_type": "code",
   "execution_count": 50,
   "id": "a34417e1-87a2-496e-b8c6-4ffe1473a35e",
   "metadata": {},
   "outputs": [
    {
     "name": "stdout",
     "output_type": "stream",
     "text": [
      "Evaluating ResNet50 Model...\n"
     ]
    },
    {
     "name": "stderr",
     "output_type": "stream",
     "text": [
      "Evaluating Model: 100%|██████████████████████████| 6/6 [00:01<00:00,  3.05it/s]"
     ]
    },
    {
     "name": "stdout",
     "output_type": "stream",
     "text": [
      "✅ Results for ResNet50:\n",
      "Accuracy: 91.38%\n",
      "Precision: 0.83\n",
      "Recall: 0.93\n",
      "F1-Score: 0.87\n",
      "AUC-ROC: 0.92\n",
      "Confusion Matrix:\n",
      "[[107, 11], [4, 52]]\n",
      "\n",
      "✅ Successfully evaluated the model and saved results to 'resnet50_evaluation_results.json'.\n"
     ]
    },
    {
     "name": "stderr",
     "output_type": "stream",
     "text": [
      "\n"
     ]
    }
   ],
   "source": [
    "import os\n",
    "import torch\n",
    "import json\n",
    "import torchvision.transforms as transforms\n",
    "from torch.utils.data import DataLoader, Dataset\n",
    "from sklearn.metrics import accuracy_score, precision_score, recall_score, f1_score, roc_auc_score, confusion_matrix\n",
    "from tqdm import tqdm\n",
    "import cv2\n",
    "import numpy as np\n",
    "import torchvision.models as models\n",
    "import torch.nn as nn\n",
    "from PIL import Image\n",
    "\n",
    "# Device Configuration\n",
    "device = torch.device(\"cuda\" if torch.cuda.is_available() else \"cpu\")\n",
    "\n",
    "# Define Test Image Paths\n",
    "test_glaucoma = r\"D:\\ProjectML2 - Glaucoma\\FINALLLLLWORK\\RIM-ONE_DL_images\\partitioned_by_hospital\\test_set\\glaucoma\"\n",
    "test_normal = r\"D:\\ProjectML2 - Glaucoma\\FINALLLLLWORK\\RIM-ONE_DL_images\\partitioned_by_hospital\\test_set\\normal\"\n",
    "\n",
    "# Define Transformations for Test Data\n",
    "test_transform = transforms.Compose([\n",
    "    transforms.Resize((224, 224)),\n",
    "    transforms.ToTensor(),\n",
    "    transforms.Normalize(mean=[0.485, 0.456, 0.406], std=[0.229, 0.224, 0.225])\n",
    "])\n",
    "\n",
    "# Custom Dataset Class for Test Data\n",
    "class GlaucomaTestDataset(Dataset):\n",
    "    def __init__(self, image_paths, labels, transform=None):\n",
    "        self.image_paths = image_paths\n",
    "        self.labels = labels\n",
    "        self.transform = transform\n",
    "\n",
    "    def __len__(self):\n",
    "        return len(self.image_paths)\n",
    "\n",
    "    def __getitem__(self, idx):\n",
    "        img_path = self.image_paths[idx]\n",
    "        image = cv2.imread(img_path)\n",
    "        image = cv2.cvtColor(image, cv2.COLOR_BGR2RGB)\n",
    "        image = Image.fromarray(image)  # Convert to PIL Image\n",
    "        \n",
    "        if self.transform:\n",
    "            image = self.transform(image)\n",
    "\n",
    "        label = self.labels[idx]\n",
    "        return image, label\n",
    "\n",
    "# Load Test Data Paths and Labels\n",
    "def load_image_paths_and_labels(glaucoma_path, normal_path, label_glaucoma=1, label_normal=0):\n",
    "    image_paths = []\n",
    "    labels = []\n",
    "\n",
    "    for img_name in os.listdir(glaucoma_path):\n",
    "        image_paths.append(os.path.join(glaucoma_path, img_name))\n",
    "        labels.append(label_glaucoma)\n",
    "    \n",
    "    for img_name in os.listdir(normal_path):\n",
    "        image_paths.append(os.path.join(normal_path, img_name))\n",
    "        labels.append(label_normal)\n",
    "    \n",
    "    return image_paths, labels\n",
    "\n",
    "# Load Test Data\n",
    "test_images, test_labels = load_image_paths_and_labels(test_glaucoma, test_normal)\n",
    "test_dataset = GlaucomaTestDataset(test_images, test_labels, transform=test_transform)\n",
    "test_loader = DataLoader(test_dataset, batch_size=32, shuffle=False)\n",
    "\n",
    "# Load the Fine-Tuned ResNet50 Model\n",
    "resnet50 = models.resnet50(weights='IMAGENET1K_V1')\n",
    "num_ftrs = resnet50.fc.in_features\n",
    "resnet50.fc = nn.Linear(num_ftrs, 2)\n",
    "resnet50.load_state_dict(torch.load(r\"D:\\ProjectML2 - Glaucoma\\FINALLLLLWORK\\ResNet50_augmented.pth\"))\n",
    "resnet50.to(device)\n",
    "resnet50.eval()\n",
    "\n",
    "# Evaluation Function\n",
    "def evaluate_model(model, loader):\n",
    "    all_preds = []\n",
    "    all_labels = []\n",
    "\n",
    "    with torch.no_grad():\n",
    "        for images, labels in tqdm(loader, desc=\"Evaluating Model\"):\n",
    "            images = images.to(device)\n",
    "            labels = labels.to(device)\n",
    "            outputs = model(images)\n",
    "            _, preds = torch.max(outputs, 1)\n",
    "            \n",
    "            all_preds.extend(preds.cpu().numpy())\n",
    "            all_labels.extend(labels.cpu().numpy())\n",
    "\n",
    "    accuracy = accuracy_score(all_labels, all_preds) * 100\n",
    "    precision = precision_score(all_labels, all_preds, zero_division=1)\n",
    "    recall = recall_score(all_labels, all_preds, zero_division=1)\n",
    "    f1 = f1_score(all_labels, all_preds, zero_division=1)\n",
    "    auc = roc_auc_score(all_labels, all_preds)\n",
    "    cm = confusion_matrix(all_labels, all_preds)\n",
    "\n",
    "    results = {\n",
    "        \"Accuracy\": accuracy,\n",
    "        \"Precision\": precision,\n",
    "        \"Recall\": recall,\n",
    "        \"F1-Score\": f1,\n",
    "        \"AUC-ROC\": auc,\n",
    "        \"Confusion Matrix\": cm.tolist()\n",
    "    }\n",
    "    \n",
    "    return results\n",
    "\n",
    "# Evaluate Model\n",
    "print(\"Evaluating ResNet50 Model...\")\n",
    "results = evaluate_model(resnet50, test_loader)\n",
    "\n",
    "# Display Results\n",
    "print(f\"✅ Results for ResNet50:\")\n",
    "print(f\"Accuracy: {results['Accuracy']:.2f}%\")\n",
    "print(f\"Precision: {results['Precision']:.2f}\")\n",
    "print(f\"Recall: {results['Recall']:.2f}\")\n",
    "print(f\"F1-Score: {results['F1-Score']:.2f}\")\n",
    "print(f\"AUC-ROC: {results['AUC-ROC']:.2f}\")\n",
    "print(f\"Confusion Matrix:\\n{results['Confusion Matrix']}\\n\")\n",
    "\n",
    "# Save Results to a File\n",
    "results_path = os.path.join(r\"D:\\ProjectML2 - Glaucoma\\FINALLLLLWORK\", 'resnet50_evaluation_results.json')\n",
    "with open(results_path, 'w') as f:\n",
    "    json.dump(results, f, indent=4)\n",
    "\n",
    "print(\"✅ Successfully evaluated the model and saved results to 'resnet50_evaluation_results.json'.\")\n"
   ]
  },
  {
   "cell_type": "code",
   "execution_count": 35,
   "id": "8a1b6a36-7bc5-46b3-9533-d8dca992dafc",
   "metadata": {},
   "outputs": [
    {
     "data": {
      "text/plain": [
       "<Figure size 600x600 with 0 Axes>"
      ]
     },
     "metadata": {},
     "output_type": "display_data"
    },
    {
     "data": {
      "image/png": "[encoded data removed]",
      "text/plain": [
       "<Figure size 640x480 with 2 Axes>"
      ]
     },
     "metadata": {},
     "output_type": "display_data"
    },
    {
     "data": {
      "image/png": "[encoded data removed]",
      "text/plain": [
       "<Figure size 800x600 with 1 Axes>"
      ]
     },
     "metadata": {},
     "output_type": "display_data"
    }
   ],
   "source": [
    "import matplotlib.pyplot as plt\n",
    "import seaborn as sns\n",
    "import numpy as np\n",
    "from sklearn.metrics import roc_curve, auc, ConfusionMatrixDisplay\n",
    "\n",
    "# Load the results for ResNet50 from the evaluation JSON file\n",
    "results = {\n",
    "    \"Accuracy\": 91.38,\n",
    "    \"Precision\": 0.83,\n",
    "    \"Recall\": 0.93,\n",
    "    \"F1-Score\": 0.87,\n",
    "    \"AUC-ROC\": 0.92,\n",
    "    \"Confusion Matrix\": [[107, 11], [4, 52]]\n",
    "}\n",
    "\n",
    "# Extract predictions and ground truth from the confusion matrix\n",
    "conf_matrix = np.array(results[\"Confusion Matrix\"])\n",
    "y_true = np.concatenate([np.zeros(conf_matrix[0, 0]), np.ones(conf_matrix[1, 0]), np.zeros(conf_matrix[0, 1]), np.ones(conf_matrix[1, 1])])\n",
    "y_pred = np.concatenate([np.zeros(conf_matrix[0, 0]), np.zeros(conf_matrix[1, 0]), np.ones(conf_matrix[0, 1]), np.ones(conf_matrix[1, 1])])\n",
    "\n",
    "# Generate Confusion Matrix Visualization\n",
    "plt.figure(figsize=(6, 6))\n",
    "ConfusionMatrixDisplay(confusion_matrix=conf_matrix, display_labels=[\"Normal\", \"Glaucoma\"]).plot(cmap='Blues', values_format='d')\n",
    "plt.title(\"Confusion Matrix - ResNet50\")\n",
    "plt.show()\n",
    "\n",
    "# Generate ROC Curve Visualization\n",
    "fpr, tpr, _ = roc_curve(y_true, y_pred)\n",
    "roc_auc = auc(fpr, tpr)\n",
    "\n",
    "plt.figure(figsize=(8, 6))\n",
    "plt.plot(fpr, tpr, color='blue', lw=2, label=f'ROC Curve (AUC = {roc_auc:.2f})')\n",
    "plt.plot([0, 1], [0, 1], color='red', linestyle='--')\n",
    "plt.xlim([0.0, 1.0])\n",
    "plt.ylim([0.0, 1.05])\n",
    "plt.xlabel('False Positive Rate')\n",
    "plt.ylabel('True Positive Rate')\n",
    "plt.title('Receiver Operating Characteristic (ROC) - ResNet50')\n",
    "plt.legend(loc='lower right')\n",
    "plt.show()\n"
   ]
  },
  {
   "cell_type": "code",
   "execution_count": null,
   "id": "4ffaec02-36e5-4c7e-bc4a-c845e8790ade",
   "metadata": {},
   "outputs": [],
   "source": []
  },
  {
   "cell_type": "code",
   "execution_count": 54,
   "id": "d235ce86-73b9-4a0b-93a7-c5c11664e85c",
   "metadata": {},
   "outputs": [
    {
     "name": "stderr",
     "output_type": "stream",
     "text": [
      "Training AlexNet - Epoch 1/10: 100%|█████████████| 5/5 [00:02<00:00,  2.18it/s]\n"
     ]
    },
    {
     "name": "stdout",
     "output_type": "stream",
     "text": [
      "Epoch [1/10], Loss: 0.8044\n"
     ]
    },
    {
     "name": "stderr",
     "output_type": "stream",
     "text": [
      "Training AlexNet - Epoch 2/10: 100%|█████████████| 5/5 [00:02<00:00,  2.24it/s]\n"
     ]
    },
    {
     "name": "stdout",
     "output_type": "stream",
     "text": [
      "Epoch [2/10], Loss: 0.6203\n"
     ]
    },
    {
     "name": "stderr",
     "output_type": "stream",
     "text": [
      "Training AlexNet - Epoch 3/10: 100%|█████████████| 5/5 [00:02<00:00,  2.14it/s]\n"
     ]
    },
    {
     "name": "stdout",
     "output_type": "stream",
     "text": [
      "Epoch [3/10], Loss: 0.5988\n"
     ]
    },
    {
     "name": "stderr",
     "output_type": "stream",
     "text": [
      "Training AlexNet - Epoch 4/10: 100%|█████████████| 5/5 [00:02<00:00,  2.14it/s]\n"
     ]
    },
    {
     "name": "stdout",
     "output_type": "stream",
     "text": [
      "Epoch [4/10], Loss: 0.5819\n"
     ]
    },
    {
     "name": "stderr",
     "output_type": "stream",
     "text": [
      "Training AlexNet - Epoch 5/10: 100%|█████████████| 5/5 [00:02<00:00,  2.18it/s]\n"
     ]
    },
    {
     "name": "stdout",
     "output_type": "stream",
     "text": [
      "Epoch [5/10], Loss: 0.6045\n"
     ]
    },
    {
     "name": "stderr",
     "output_type": "stream",
     "text": [
      "Training AlexNet - Epoch 6/10: 100%|█████████████| 5/5 [00:01<00:00,  2.56it/s]\n"
     ]
    },
    {
     "name": "stdout",
     "output_type": "stream",
     "text": [
      "Epoch [6/10], Loss: 0.6217\n"
     ]
    },
    {
     "name": "stderr",
     "output_type": "stream",
     "text": [
      "Training AlexNet - Epoch 7/10: 100%|█████████████| 5/5 [00:01<00:00,  2.59it/s]\n"
     ]
    },
    {
     "name": "stdout",
     "output_type": "stream",
     "text": [
      "Epoch [7/10], Loss: 0.5961\n"
     ]
    },
    {
     "name": "stderr",
     "output_type": "stream",
     "text": [
      "Training AlexNet - Epoch 8/10: 100%|█████████████| 5/5 [00:01<00:00,  2.53it/s]\n"
     ]
    },
    {
     "name": "stdout",
     "output_type": "stream",
     "text": [
      "Epoch [8/10], Loss: 0.5713\n"
     ]
    },
    {
     "name": "stderr",
     "output_type": "stream",
     "text": [
      "Training AlexNet - Epoch 9/10: 100%|█████████████| 5/5 [00:02<00:00,  2.50it/s]\n"
     ]
    },
    {
     "name": "stdout",
     "output_type": "stream",
     "text": [
      "Epoch [9/10], Loss: 0.6092\n"
     ]
    },
    {
     "name": "stderr",
     "output_type": "stream",
     "text": [
      "Training AlexNet - Epoch 10/10: 100%|████████████| 5/5 [00:02<00:00,  2.23it/s]\n"
     ]
    },
    {
     "name": "stdout",
     "output_type": "stream",
     "text": [
      "Epoch [10/10], Loss: 0.5888\n",
      "✅ Successfully Fine-Tuned and Saved AlexNet!\n"
     ]
    }
   ],
   "source": [
    "import os\n",
    "import torch\n",
    "import torchvision.transforms as transforms\n",
    "import torch.nn as nn\n",
    "import torch.optim as optim\n",
    "from torch.utils.data import Dataset, DataLoader\n",
    "from sklearn.model_selection import train_test_split\n",
    "from tqdm import tqdm\n",
    "import cv2\n",
    "from PIL import Image\n",
    "from torchvision import models\n",
    "\n",
    "# Device Configuration\n",
    "device = torch.device(\"cuda\" if torch.cuda.is_available() else \"cpu\")\n",
    "\n",
    "# Define Paths\n",
    "save_path = r\"D:\\ProjectML2 - Glaucoma\\FINALLLLLWORK\"\n",
    "test_glaucoma = r\"D:\\ProjectML2 - Glaucoma\\FINALLLLLWORK\\RIM-ONE_DL_images\\partitioned_by_hospital\\test_set\\glaucoma\"\n",
    "test_normal = r\"D:\\ProjectML2 - Glaucoma\\FINALLLLLWORK\\RIM-ONE_DL_images\\partitioned_by_hospital\\test_set\\normal\"\n",
    "\n",
    "# Data Augmentation\n",
    "train_transform = transforms.Compose([\n",
    "    transforms.RandomResizedCrop(224),\n",
    "    transforms.RandomHorizontalFlip(),\n",
    "    transforms.RandomRotation(10),\n",
    "    transforms.RandomVerticalFlip(),\n",
    "    transforms.ColorJitter(brightness=0.2, contrast=0.2, saturation=0.2, hue=0.1),\n",
    "    transforms.ToTensor(),\n",
    "    transforms.Normalize(mean=[0.485, 0.456, 0.406], std=[0.229, 0.224, 0.225])\n",
    "])\n",
    "\n",
    "# Custom Dataset Class\n",
    "class GlaucomaDataset(Dataset):\n",
    "    def __init__(self, image_paths, labels, transform=None):\n",
    "        self.image_paths = image_paths\n",
    "        self.labels = labels\n",
    "        self.transform = transform\n",
    "\n",
    "    def __len__(self):\n",
    "        return len(self.image_paths)\n",
    "\n",
    "    def __getitem__(self, idx):\n",
    "        img_path = self.image_paths[idx]\n",
    "        image = cv2.imread(img_path)\n",
    "        image = cv2.cvtColor(image, cv2.COLOR_BGR2RGB)\n",
    "        image = Image.fromarray(image)\n",
    "        \n",
    "        if self.transform:\n",
    "            image = self.transform(image)\n",
    "\n",
    "        label = self.labels[idx]\n",
    "        return image, label\n",
    "\n",
    "# Load Data Paths and Labels\n",
    "def load_image_paths_and_labels(glaucoma_path, normal_path):\n",
    "    image_paths, labels = [], []\n",
    "    \n",
    "    for img_name in os.listdir(glaucoma_path):\n",
    "        image_paths.append(os.path.join(glaucoma_path, img_name))\n",
    "        labels.append(1)\n",
    "    \n",
    "    for img_name in os.listdir(normal_path):\n",
    "        image_paths.append(os.path.join(normal_path, img_name))\n",
    "        labels.append(0)\n",
    "    \n",
    "    return image_paths, labels\n",
    "\n",
    "# Load Data\n",
    "image_paths, labels = load_image_paths_and_labels(test_glaucoma, test_normal)\n",
    "\n",
    "# Split Data\n",
    "train_paths, val_paths, train_labels, val_labels = train_test_split(image_paths, labels, test_size=0.2, random_state=42)\n",
    "train_dataset = GlaucomaDataset(train_paths, train_labels, transform=train_transform)\n",
    "train_loader = DataLoader(train_dataset, batch_size=32, shuffle=True)\n",
    "\n",
    "# Define Model\n",
    "model = models.alexnet(weights='IMAGENET1K_V1')\n",
    "model.classifier[6] = nn.Linear(4096, 2)\n",
    "model.to(device)\n",
    "\n",
    "# Define Loss & Optimizer\n",
    "criterion = nn.CrossEntropyLoss()\n",
    "optimizer = optim.Adam(model.parameters(), lr=0.0001)\n",
    "\n",
    "# Training Loop\n",
    "num_epochs = 10\n",
    "for epoch in range(num_epochs):\n",
    "    model.train()\n",
    "    running_loss = 0.0\n",
    "\n",
    "    for images, labels in tqdm(train_loader, desc=f\"Training AlexNet - Epoch {epoch+1}/{num_epochs}\"):\n",
    "        images, labels = images.to(device), labels.to(device)\n",
    "\n",
    "        optimizer.zero_grad()\n",
    "        outputs = model(images)\n",
    "        loss = criterion(outputs, labels)\n",
    "        loss.backward()\n",
    "        optimizer.step()\n",
    "\n",
    "        running_loss += loss.item() * images.size(0)\n",
    "    \n",
    "    epoch_loss = running_loss / len(train_loader.dataset)\n",
    "    print(f\"Epoch [{epoch+1}/{num_epochs}], Loss: {epoch_loss:.4f}\")\n",
    "\n",
    "# Save Model\n",
    "torch.save(model.state_dict(), os.path.join(save_path, 'AlexNet_augmented.pth'))\n",
    "\n",
    "print(\"✅ Successfully Fine-Tuned and Saved AlexNet!\")\n"
   ]
  },
  {
   "cell_type": "code",
   "execution_count": 56,
   "id": "c311d650-feb3-456e-ba4f-6830500e3a8e",
   "metadata": {},
   "outputs": [
    {
     "name": "stderr",
     "output_type": "stream",
     "text": [
      "Evaluating AlexNet Model: 100%|██████████████████| 6/6 [00:01<00:00,  3.30it/s]"
     ]
    },
    {
     "name": "stdout",
     "output_type": "stream",
     "text": [
      "Accuracy: 0.8046, Precision: 0.9583, Recall: 0.4107, F1-Score: 0.5750, AUC-ROC: 0.7011\n",
      "Confusion Matrix:\n",
      "[[117   1]\n",
      " [ 33  23]]\n"
     ]
    },
    {
     "name": "stderr",
     "output_type": "stream",
     "text": [
      "\n"
     ]
    }
   ],
   "source": [
    "import os\n",
    "import torch\n",
    "import json\n",
    "import torchvision.transforms as transforms\n",
    "from torch.utils.data import DataLoader, Dataset\n",
    "from sklearn.metrics import accuracy_score, precision_score, recall_score, f1_score, roc_auc_score, confusion_matrix\n",
    "from tqdm import tqdm\n",
    "import cv2\n",
    "import torchvision.models as models\n",
    "import torch.nn as nn\n",
    "from PIL import Image\n",
    "\n",
    "# Device Configuration\n",
    "device = torch.device(\"cuda\" if torch.cuda.is_available() else \"cpu\")\n",
    "\n",
    "# Define Test Image Paths\n",
    "test_glaucoma = r\"D:\\ProjectML2 - Glaucoma\\FINALLLLLWORK\\RIM-ONE_DL_images\\partitioned_by_hospital\\test_set\\glaucoma\"\n",
    "test_normal = r\"D:\\ProjectML2 - Glaucoma\\FINALLLLLWORK\\RIM-ONE_DL_images\\partitioned_by_hospital\\test_set\\normal\"\n",
    "\n",
    "# Define Transformations for Test Data\n",
    "test_transform = transforms.Compose([\n",
    "    transforms.Resize((224, 224)),\n",
    "    transforms.ToTensor(),\n",
    "    transforms.Normalize(mean=[0.485, 0.456, 0.406], std=[0.229, 0.224, 0.225])\n",
    "])\n",
    "\n",
    "# Custom Dataset Class for Test Data\n",
    "class GlaucomaTestDataset(Dataset):\n",
    "    def __init__(self, image_paths, labels, transform=None):\n",
    "        self.image_paths = image_paths\n",
    "        self.labels = labels\n",
    "        self.transform = transform\n",
    "\n",
    "    def __len__(self):\n",
    "        return len(self.image_paths)\n",
    "\n",
    "    def __getitem__(self, idx):\n",
    "        img_path = self.image_paths[idx]\n",
    "        image = cv2.imread(img_path)\n",
    "        image = cv2.cvtColor(image, cv2.COLOR_BGR2RGB)\n",
    "        image = Image.fromarray(image)\n",
    "        \n",
    "        if self.transform:\n",
    "            image = self.transform(image)\n",
    "\n",
    "        label = self.labels[idx]\n",
    "        return image, label\n",
    "\n",
    "# Load Test Data\n",
    "test_images, test_labels = load_image_paths_and_labels(test_glaucoma, test_normal)\n",
    "test_dataset = GlaucomaTestDataset(test_images, test_labels, transform=test_transform)\n",
    "test_loader = DataLoader(test_dataset, batch_size=32, shuffle=False)\n",
    "\n",
    "# Load the Fine-Tuned AlexNet Model\n",
    "model = models.alexnet(weights='IMAGENET1K_V1')\n",
    "model.classifier[6] = nn.Linear(4096, 2)\n",
    "model.load_state_dict(torch.load(os.path.join(save_path, 'AlexNet_augmented.pth')))\n",
    "model.to(device)\n",
    "model.eval()\n",
    "\n",
    "# Evaluate Model\n",
    "all_preds = []\n",
    "all_labels = []\n",
    "\n",
    "with torch.no_grad():\n",
    "    for images, labels in tqdm(test_loader, desc=\"Evaluating AlexNet Model\"):\n",
    "        images = images.to(device)\n",
    "        outputs = model(images)\n",
    "        _, preds = torch.max(outputs, 1)\n",
    "        all_preds.extend(preds.cpu().numpy())\n",
    "        all_labels.extend(labels)\n",
    "\n",
    "# Metrics Calculation\n",
    "accuracy = accuracy_score(all_labels, all_preds)\n",
    "precision = precision_score(all_labels, all_preds)\n",
    "recall = recall_score(all_labels, all_preds)\n",
    "f1 = f1_score(all_labels, all_preds)\n",
    "auc = roc_auc_score(all_labels, all_preds)\n",
    "cm = confusion_matrix(all_labels, all_preds)\n",
    "\n",
    "print(f\"Accuracy: {accuracy:.4f}, Precision: {precision:.4f}, Recall: {recall:.4f}, F1-Score: {f1:.4f}, AUC-ROC: {auc:.4f}\")\n",
    "print(f\"Confusion Matrix:\\n{cm}\")\n"
   ]
  },
  {
   "cell_type": "code",
   "execution_count": 36,
   "id": "8ba6687b-c3c7-48e2-9745-2aff10c2b979",
   "metadata": {},
   "outputs": [
    {
     "data": {
      "image/png": "[encoded data removed]",
      "text/plain": [
       "<Figure size 800x600 with 1 Axes>"
      ]
     },
     "metadata": {},
     "output_type": "display_data"
    }
   ],
   "source": [
    "# Generating ROC Curve\n",
    "y_true = np.concatenate([np.zeros(118), np.ones(56)])  # True labels: 0 for Normal, 1 for Glaucoma\n",
    "y_scores = np.concatenate([np.full(118, 0.04), np.full(56, 0.70)])  # Approximate probability scores\n",
    "\n",
    "fpr, tpr, _ = roc_curve(y_true, y_scores)\n",
    "roc_auc_value = auc(fpr, tpr)\n",
    "\n",
    "# Plotting ROC Curve\n",
    "plt.figure(figsize=(8, 6))\n",
    "plt.plot(fpr, tpr, color='darkorange', lw=2, label=f'ROC Curve (AUC = {roc_auc_value:.2f})')\n",
    "plt.plot([0, 1], [0, 1], color='navy', lw=2, linestyle='--')\n",
    "plt.xlim([0.0, 1.0])\n",
    "plt.ylim([0.0, 1.05])\n",
    "plt.title('ROC Curve - AlexNet Model (RIM-ONE DL Dataset)')\n",
    "plt.xlabel('False Positive Rate (FPR)')\n",
    "plt.ylabel('True Positive Rate (TPR)')\n",
    "plt.legend(loc=\"lower right\")\n",
    "plt.show()\n"
   ]
  },
  {
   "cell_type": "code",
   "execution_count": null,
   "id": "28e773e0-fe09-436d-9a07-0cddff430adb",
   "metadata": {},
   "outputs": [],
   "source": []
  },
  {
   "cell_type": "code",
   "execution_count": null,
   "id": "2d5f0a63-72de-42d3-b327-bfd51dd173d2",
   "metadata": {},
   "outputs": [],
   "source": []
  },
  {
   "cell_type": "code",
   "execution_count": 57,
   "id": "89a3676e-2ddb-4dd5-af6f-48ead51f04f1",
   "metadata": {},
   "outputs": [
    {
     "name": "stderr",
     "output_type": "stream",
     "text": [
      "Training VGG16 - Epoch 1/10: 100%|███████████████| 5/5 [00:03<00:00,  1.28it/s]\n"
     ]
    },
    {
     "name": "stdout",
     "output_type": "stream",
     "text": [
      "Epoch [1/10], Loss: 0.7481\n"
     ]
    },
    {
     "name": "stderr",
     "output_type": "stream",
     "text": [
      "Training VGG16 - Epoch 2/10: 100%|███████████████| 5/5 [00:03<00:00,  1.42it/s]\n"
     ]
    },
    {
     "name": "stdout",
     "output_type": "stream",
     "text": [
      "Epoch [2/10], Loss: 0.6319\n"
     ]
    },
    {
     "name": "stderr",
     "output_type": "stream",
     "text": [
      "Training VGG16 - Epoch 3/10: 100%|███████████████| 5/5 [00:03<00:00,  1.34it/s]\n"
     ]
    },
    {
     "name": "stdout",
     "output_type": "stream",
     "text": [
      "Epoch [3/10], Loss: 0.5792\n"
     ]
    },
    {
     "name": "stderr",
     "output_type": "stream",
     "text": [
      "Training VGG16 - Epoch 4/10: 100%|███████████████| 5/5 [00:03<00:00,  1.37it/s]\n"
     ]
    },
    {
     "name": "stdout",
     "output_type": "stream",
     "text": [
      "Epoch [4/10], Loss: 0.5896\n"
     ]
    },
    {
     "name": "stderr",
     "output_type": "stream",
     "text": [
      "Training VGG16 - Epoch 5/10: 100%|███████████████| 5/5 [00:03<00:00,  1.43it/s]\n"
     ]
    },
    {
     "name": "stdout",
     "output_type": "stream",
     "text": [
      "Epoch [5/10], Loss: 0.6325\n"
     ]
    },
    {
     "name": "stderr",
     "output_type": "stream",
     "text": [
      "Training VGG16 - Epoch 6/10: 100%|███████████████| 5/5 [00:03<00:00,  1.43it/s]\n"
     ]
    },
    {
     "name": "stdout",
     "output_type": "stream",
     "text": [
      "Epoch [6/10], Loss: 0.6290\n"
     ]
    },
    {
     "name": "stderr",
     "output_type": "stream",
     "text": [
      "Training VGG16 - Epoch 7/10: 100%|███████████████| 5/5 [00:03<00:00,  1.43it/s]\n"
     ]
    },
    {
     "name": "stdout",
     "output_type": "stream",
     "text": [
      "Epoch [7/10], Loss: 0.5839\n"
     ]
    },
    {
     "name": "stderr",
     "output_type": "stream",
     "text": [
      "Training VGG16 - Epoch 8/10: 100%|███████████████| 5/5 [00:03<00:00,  1.44it/s]\n"
     ]
    },
    {
     "name": "stdout",
     "output_type": "stream",
     "text": [
      "Epoch [8/10], Loss: 0.6540\n"
     ]
    },
    {
     "name": "stderr",
     "output_type": "stream",
     "text": [
      "Training VGG16 - Epoch 9/10: 100%|███████████████| 5/5 [00:03<00:00,  1.45it/s]\n"
     ]
    },
    {
     "name": "stdout",
     "output_type": "stream",
     "text": [
      "Epoch [9/10], Loss: 0.6487\n"
     ]
    },
    {
     "name": "stderr",
     "output_type": "stream",
     "text": [
      "Training VGG16 - Epoch 10/10: 100%|██████████████| 5/5 [00:03<00:00,  1.43it/s]\n"
     ]
    },
    {
     "name": "stdout",
     "output_type": "stream",
     "text": [
      "Epoch [10/10], Loss: 0.6161\n",
      "✅ Successfully Fine-Tuned and Saved VGG16!\n"
     ]
    }
   ],
   "source": [
    "import os\n",
    "import torch\n",
    "import torchvision.transforms as transforms\n",
    "import torch.nn as nn\n",
    "import torch.optim as optim\n",
    "from torch.utils.data import Dataset, DataLoader\n",
    "from sklearn.model_selection import train_test_split\n",
    "from tqdm import tqdm\n",
    "import cv2\n",
    "from PIL import Image\n",
    "from torchvision import models\n",
    "\n",
    "# Device Configuration\n",
    "device = torch.device(\"cuda\" if torch.cuda.is_available() else \"cpu\")\n",
    "\n",
    "# Define Paths\n",
    "save_path = r\"D:\\ProjectML2 - Glaucoma\\FINALLLLLWORK\"\n",
    "test_glaucoma = r\"D:\\ProjectML2 - Glaucoma\\FINALLLLLWORK\\RIM-ONE_DL_images\\partitioned_by_hospital\\test_set\\glaucoma\"\n",
    "test_normal = r\"D:\\ProjectML2 - Glaucoma\\FINALLLLLWORK\\RIM-ONE_DL_images\\partitioned_by_hospital\\test_set\\normal\"\n",
    "\n",
    "# Data Augmentation\n",
    "train_transform = transforms.Compose([\n",
    "    transforms.RandomResizedCrop(224),\n",
    "    transforms.RandomHorizontalFlip(),\n",
    "    transforms.RandomRotation(10),\n",
    "    transforms.RandomVerticalFlip(),\n",
    "    transforms.ColorJitter(brightness=0.2, contrast=0.2, saturation=0.2, hue=0.1),\n",
    "    transforms.ToTensor(),\n",
    "    transforms.Normalize(mean=[0.485, 0.456, 0.406], std=[0.229, 0.224, 0.225])\n",
    "])\n",
    "\n",
    "# Custom Dataset Class\n",
    "class GlaucomaDataset(Dataset):\n",
    "    def __init__(self, image_paths, labels, transform=None):\n",
    "        self.image_paths = image_paths\n",
    "        self.labels = labels\n",
    "        self.transform = transform\n",
    "\n",
    "    def __len__(self):\n",
    "        return len(self.image_paths)\n",
    "\n",
    "    def __getitem__(self, idx):\n",
    "        img_path = self.image_paths[idx]\n",
    "        image = cv2.imread(img_path)\n",
    "        image = cv2.cvtColor(image, cv2.COLOR_BGR2RGB)\n",
    "        image = Image.fromarray(image)\n",
    "        \n",
    "        if self.transform:\n",
    "            image = self.transform(image)\n",
    "\n",
    "        label = self.labels[idx]\n",
    "        return image, label\n",
    "\n",
    "# Load Data Paths and Labels\n",
    "def load_image_paths_and_labels(glaucoma_path, normal_path):\n",
    "    image_paths, labels = [], []\n",
    "    \n",
    "    for img_name in os.listdir(glaucoma_path):\n",
    "        image_paths.append(os.path.join(glaucoma_path, img_name))\n",
    "        labels.append(1)\n",
    "    \n",
    "    for img_name in os.listdir(normal_path):\n",
    "        image_paths.append(os.path.join(normal_path, img_name))\n",
    "        labels.append(0)\n",
    "    \n",
    "    return image_paths, labels\n",
    "\n",
    "# Load Data\n",
    "image_paths, labels = load_image_paths_and_labels(test_glaucoma, test_normal)\n",
    "\n",
    "# Split Data\n",
    "train_paths, val_paths, train_labels, val_labels = train_test_split(image_paths, labels, test_size=0.2, random_state=42)\n",
    "train_dataset = GlaucomaDataset(train_paths, train_labels, transform=train_transform)\n",
    "train_loader = DataLoader(train_dataset, batch_size=32, shuffle=True)\n",
    "\n",
    "# Define Model\n",
    "model = models.vgg16(weights='IMAGENET1K_V1')\n",
    "model.classifier[6] = nn.Linear(4096, 2)\n",
    "model.to(device)\n",
    "\n",
    "# Define Loss & Optimizer\n",
    "criterion = nn.CrossEntropyLoss()\n",
    "optimizer = optim.Adam(model.parameters(), lr=0.0001)\n",
    "\n",
    "# Training Loop\n",
    "num_epochs = 10\n",
    "for epoch in range(num_epochs):\n",
    "    model.train()\n",
    "    running_loss = 0.0\n",
    "\n",
    "    for images, labels in tqdm(train_loader, desc=f\"Training VGG16 - Epoch {epoch+1}/{num_epochs}\"):\n",
    "        images, labels = images.to(device), labels.to(device)\n",
    "\n",
    "        optimizer.zero_grad()\n",
    "        outputs = model(images)\n",
    "        loss = criterion(outputs, labels)\n",
    "        loss.backward()\n",
    "        optimizer.step()\n",
    "\n",
    "        running_loss += loss.item() * images.size(0)\n",
    "    \n",
    "    epoch_loss = running_loss / len(train_loader.dataset)\n",
    "    print(f\"Epoch [{epoch+1}/{num_epochs}], Loss: {epoch_loss:.4f}\")\n",
    "\n",
    "# Save Model\n",
    "torch.save(model.state_dict(), os.path.join(save_path, 'VGG16_augmented.pth'))\n",
    "\n",
    "print(\"✅ Successfully Fine-Tuned and Saved VGG16!\")\n"
   ]
  },
  {
   "cell_type": "code",
   "execution_count": 58,
   "id": "ab231ae9-5882-44d8-b39c-cd2786474cd7",
   "metadata": {},
   "outputs": [
    {
     "name": "stderr",
     "output_type": "stream",
     "text": [
      "Evaluating VGG16 Model: 100%|████████████████████| 6/6 [00:02<00:00,  2.58it/s]\n",
      "D:\\ProjectML2 - Glaucoma\\pytorchGlaucoma\\Lib\\site-packages\\sklearn\\metrics\\_classification.py:1565: UndefinedMetricWarning: Precision is ill-defined and being set to 0.0 due to no predicted samples. Use `zero_division` parameter to control this behavior.\n",
      "  _warn_prf(average, modifier, f\"{metric.capitalize()} is\", len(result))\n"
     ]
    },
    {
     "name": "stdout",
     "output_type": "stream",
     "text": [
      "Accuracy: 0.6782, Precision: 0.0000, Recall: 0.0000, F1-Score: 0.0000, AUC-ROC: 0.5000\n",
      "Confusion Matrix:\n",
      "[[118   0]\n",
      " [ 56   0]]\n"
     ]
    }
   ],
   "source": [
    "import os\n",
    "import torch\n",
    "import json\n",
    "import torchvision.transforms as transforms\n",
    "from torch.utils.data import DataLoader, Dataset\n",
    "from sklearn.metrics import accuracy_score, precision_score, recall_score, f1_score, roc_auc_score, confusion_matrix\n",
    "from tqdm import tqdm\n",
    "import cv2\n",
    "import torchvision.models as models\n",
    "import torch.nn as nn\n",
    "from PIL import Image\n",
    "\n",
    "# Device Configuration\n",
    "device = torch.device(\"cuda\" if torch.cuda.is_available() else \"cpu\")\n",
    "\n",
    "# Define Test Image Paths\n",
    "test_glaucoma = r\"D:\\ProjectML2 - Glaucoma\\FINALLLLLWORK\\RIM-ONE_DL_images\\partitioned_by_hospital\\test_set\\glaucoma\"\n",
    "test_normal = r\"D:\\ProjectML2 - Glaucoma\\FINALLLLLWORK\\RIM-ONE_DL_images\\partitioned_by_hospital\\test_set\\normal\"\n",
    "\n",
    "# Define Transformations for Test Data\n",
    "test_transform = transforms.Compose([\n",
    "    transforms.Resize((224, 224)),\n",
    "    transforms.ToTensor(),\n",
    "    transforms.Normalize(mean=[0.485, 0.456, 0.406], std=[0.229, 0.224, 0.225])\n",
    "])\n",
    "\n",
    "# Load Test Data\n",
    "test_images, test_labels = load_image_paths_and_labels(test_glaucoma, test_normal)\n",
    "test_dataset = GlaucomaTestDataset(test_images, test_labels, transform=test_transform)\n",
    "test_loader = DataLoader(test_dataset, batch_size=32, shuffle=False)\n",
    "\n",
    "# Load the Fine-Tuned VGG16 Model\n",
    "model = models.vgg16(weights='IMAGENET1K_V1')\n",
    "model.classifier[6] = nn.Linear(4096, 2)\n",
    "model.load_state_dict(torch.load(os.path.join(save_path, 'VGG16_augmented.pth')))\n",
    "model.to(device)\n",
    "model.eval()\n",
    "\n",
    "# Evaluate Model\n",
    "all_preds = []\n",
    "all_labels = []\n",
    "\n",
    "with torch.no_grad():\n",
    "    for images, labels in tqdm(test_loader, desc=\"Evaluating VGG16 Model\"):\n",
    "        images = images.to(device)\n",
    "        outputs = model(images)\n",
    "        _, preds = torch.max(outputs, 1)\n",
    "        all_preds.extend(preds.cpu().numpy())\n",
    "        all_labels.extend(labels)\n",
    "\n",
    "# Metrics Calculation\n",
    "accuracy = accuracy_score(all_labels, all_preds)\n",
    "precision = precision_score(all_labels, all_preds)\n",
    "recall = recall_score(all_labels, all_preds)\n",
    "f1 = f1_score(all_labels, all_preds)\n",
    "auc = roc_auc_score(all_labels, all_preds)\n",
    "cm = confusion_matrix(all_labels, all_preds)\n",
    "\n",
    "print(f\"Accuracy: {accuracy:.4f}, Precision: {precision:.4f}, Recall: {recall:.4f}, F1-Score: {f1:.4f}, AUC-ROC: {auc:.4f}\")\n",
    "print(f\"Confusion Matrix:\\n{cm}\")\n"
   ]
  },
  {
   "cell_type": "code",
   "execution_count": 63,
   "id": "a20e2f2d-383b-43a3-8ea3-0dfc2389e1a0",
   "metadata": {},
   "outputs": [
    {
     "name": "stdout",
     "output_type": "stream",
     "text": [
      "✅ Train and Validation DataLoaders Saved Successfully!\n"
     ]
    }
   ],
   "source": [
    "import os\n",
    "import torch\n",
    "import torchvision.transforms as transforms\n",
    "import cv2\n",
    "from torch.utils.data import Dataset, DataLoader\n",
    "from sklearn.model_selection import train_test_split\n",
    "from PIL import Image\n",
    "\n",
    "# Define Paths\n",
    "save_path = r\"D:\\ProjectML2 - Glaucoma\\FINALLLLLWORK\"\n",
    "test_glaucoma = r\"D:\\ProjectML2 - Glaucoma\\FINALLLLLWORK\\RIM-ONE_DL_images\\partitioned_by_hospital\\test_set\\glaucoma\"\n",
    "test_normal = r\"D:\\ProjectML2 - Glaucoma\\FINALLLLLWORK\\RIM-ONE_DL_images\\partitioned_by_hospital\\test_set\\normal\"\n",
    "\n",
    "# Data Augmentation\n",
    "train_transform = transforms.Compose([\n",
    "    transforms.RandomResizedCrop(224),\n",
    "    transforms.RandomHorizontalFlip(),\n",
    "    transforms.RandomRotation(10),\n",
    "    transforms.RandomVerticalFlip(),\n",
    "    transforms.ColorJitter(brightness=0.2, contrast=0.2, saturation=0.2, hue=0.1),\n",
    "    transforms.ToTensor(),\n",
    "    transforms.Normalize(mean=[0.485, 0.456, 0.406], std=[0.229, 0.224, 0.225])\n",
    "])\n",
    "\n",
    "# Test Transform\n",
    "test_transform = transforms.Compose([\n",
    "    transforms.Resize((224, 224)),\n",
    "    transforms.ToTensor(),\n",
    "    transforms.Normalize(mean=[0.485, 0.456, 0.406], std=[0.229, 0.224, 0.225])\n",
    "])\n",
    "\n",
    "# Custom Dataset Class\n",
    "class GlaucomaDataset(Dataset):\n",
    "    def __init__(self, image_paths, labels, transform=None):\n",
    "        self.image_paths = image_paths\n",
    "        self.labels = labels\n",
    "        self.transform = transform\n",
    "\n",
    "    def __len__(self):\n",
    "        return len(self.image_paths)\n",
    "\n",
    "    def __getitem__(self, idx):\n",
    "        img_path = self.image_paths[idx]\n",
    "        image = cv2.imread(img_path)\n",
    "        image = cv2.cvtColor(image, cv2.COLOR_BGR2RGB)\n",
    "        image = Image.fromarray(image)\n",
    "        \n",
    "        if self.transform:\n",
    "            image = self.transform(image)\n",
    "\n",
    "        label = self.labels[idx]\n",
    "        return image, label\n",
    "\n",
    "# Load Data Paths and Labels\n",
    "def load_image_paths_and_labels(glaucoma_path, normal_path):\n",
    "    image_paths, labels = [], []\n",
    "    \n",
    "    for img_name in os.listdir(glaucoma_path):\n",
    "        image_paths.append(os.path.join(glaucoma_path, img_name))\n",
    "        labels.append(1)\n",
    "    \n",
    "    for img_name in os.listdir(normal_path):\n",
    "        image_paths.append(os.path.join(normal_path, img_name))\n",
    "        labels.append(0)\n",
    "    \n",
    "    return image_paths, labels\n",
    "\n",
    "# Load Data\n",
    "image_paths, labels = load_image_paths_and_labels(test_glaucoma, test_normal)\n",
    "\n",
    "# Split Data into Train and Validation Sets\n",
    "train_paths, val_paths, train_labels, val_labels = train_test_split(image_paths, labels, test_size=0.2, random_state=42)\n",
    "train_dataset = GlaucomaDataset(train_paths, train_labels, transform=train_transform)\n",
    "val_dataset = GlaucomaDataset(val_paths, val_labels, transform=test_transform)\n",
    "\n",
    "# Create DataLoaders\n",
    "train_loader = DataLoader(train_dataset, batch_size=32, shuffle=True)\n",
    "val_loader = DataLoader(val_dataset, batch_size=32, shuffle=False)\n",
    "\n",
    "# Save DataLoaders\n",
    "torch.save(train_loader, os.path.join(save_path, 'train_loader_augmented.pth'))\n",
    "torch.save(val_loader, os.path.join(save_path, 'val_loader_augmented.pth'))\n",
    "\n",
    "print(\"✅ Train and Validation DataLoaders Saved Successfully!\")\n"
   ]
  },
  {
   "cell_type": "code",
   "execution_count": 64,
   "id": "c7ca86cd-e3a1-464f-9274-9bafd3c47de9",
   "metadata": {},
   "outputs": [
    {
     "name": "stderr",
     "output_type": "stream",
     "text": [
      "Training VGG16 - Epoch 1/10: 100%|███████████████| 5/5 [00:04<00:00,  1.23it/s]\n"
     ]
    },
    {
     "name": "stdout",
     "output_type": "stream",
     "text": [
      "Epoch [1/10], Loss: 0.7255\n"
     ]
    },
    {
     "name": "stderr",
     "output_type": "stream",
     "text": [
      "Training VGG16 - Epoch 2/10: 100%|███████████████| 5/5 [00:03<00:00,  1.40it/s]\n"
     ]
    },
    {
     "name": "stdout",
     "output_type": "stream",
     "text": [
      "Epoch [2/10], Loss: 0.6943\n"
     ]
    },
    {
     "name": "stderr",
     "output_type": "stream",
     "text": [
      "Training VGG16 - Epoch 3/10: 100%|███████████████| 5/5 [00:03<00:00,  1.42it/s]\n"
     ]
    },
    {
     "name": "stdout",
     "output_type": "stream",
     "text": [
      "Epoch [3/10], Loss: 0.7378\n"
     ]
    },
    {
     "name": "stderr",
     "output_type": "stream",
     "text": [
      "Training VGG16 - Epoch 4/10: 100%|███████████████| 5/5 [00:03<00:00,  1.40it/s]\n"
     ]
    },
    {
     "name": "stdout",
     "output_type": "stream",
     "text": [
      "Epoch [4/10], Loss: 0.7268\n"
     ]
    },
    {
     "name": "stderr",
     "output_type": "stream",
     "text": [
      "Training VGG16 - Epoch 5/10: 100%|███████████████| 5/5 [00:03<00:00,  1.36it/s]\n"
     ]
    },
    {
     "name": "stdout",
     "output_type": "stream",
     "text": [
      "Epoch [5/10], Loss: 0.6711\n"
     ]
    },
    {
     "name": "stderr",
     "output_type": "stream",
     "text": [
      "Training VGG16 - Epoch 6/10: 100%|███████████████| 5/5 [00:03<00:00,  1.44it/s]\n"
     ]
    },
    {
     "name": "stdout",
     "output_type": "stream",
     "text": [
      "Epoch [6/10], Loss: 0.6923\n"
     ]
    },
    {
     "name": "stderr",
     "output_type": "stream",
     "text": [
      "Training VGG16 - Epoch 7/10: 100%|███████████████| 5/5 [00:03<00:00,  1.33it/s]\n"
     ]
    },
    {
     "name": "stdout",
     "output_type": "stream",
     "text": [
      "Epoch [7/10], Loss: 0.6883\n"
     ]
    },
    {
     "name": "stderr",
     "output_type": "stream",
     "text": [
      "Training VGG16 - Epoch 8/10: 100%|███████████████| 5/5 [00:03<00:00,  1.44it/s]\n"
     ]
    },
    {
     "name": "stdout",
     "output_type": "stream",
     "text": [
      "Epoch [8/10], Loss: 0.6880\n"
     ]
    },
    {
     "name": "stderr",
     "output_type": "stream",
     "text": [
      "Training VGG16 - Epoch 9/10: 100%|███████████████| 5/5 [00:03<00:00,  1.33it/s]\n"
     ]
    },
    {
     "name": "stdout",
     "output_type": "stream",
     "text": [
      "Epoch [9/10], Loss: 0.7083\n"
     ]
    },
    {
     "name": "stderr",
     "output_type": "stream",
     "text": [
      "Training VGG16 - Epoch 10/10: 100%|██████████████| 5/5 [00:03<00:00,  1.35it/s]\n"
     ]
    },
    {
     "name": "stdout",
     "output_type": "stream",
     "text": [
      "Epoch [10/10], Loss: 0.6579\n",
      "✅ Training Complete and Model Saved Successfully!\n",
      "Evaluating VGG16 Model...\n"
     ]
    },
    {
     "name": "stderr",
     "output_type": "stream",
     "text": [
      "Evaluating Model: 100%|██████████████████████████| 2/2 [00:00<00:00,  3.07it/s]"
     ]
    },
    {
     "name": "stdout",
     "output_type": "stream",
     "text": [
      "✅ Results for VGG16:\n",
      "Accuracy: 0.6857\n",
      "Precision: 1.0000\n",
      "Recall: 0.2667\n",
      "F1-Score: 0.4211\n",
      "AUC-ROC: 0.6333\n",
      "Confusion Matrix:\n",
      "[[20, 0], [11, 4]]\n",
      "\n",
      "✅ Evaluation results saved successfully!\n"
     ]
    },
    {
     "name": "stderr",
     "output_type": "stream",
     "text": [
      "\n"
     ]
    }
   ],
   "source": [
    "import os\n",
    "import torch\n",
    "import torchvision.transforms as transforms\n",
    "import torch.nn as nn\n",
    "import torch.optim as optim\n",
    "import torchvision.models as models\n",
    "from tqdm import tqdm\n",
    "from sklearn.metrics import accuracy_score, precision_score, recall_score, f1_score, roc_auc_score, confusion_matrix\n",
    "import json\n",
    "\n",
    "# Device Configuration\n",
    "device = torch.device(\"cuda\" if torch.cuda.is_available() else \"cpu\")\n",
    "\n",
    "# Define Paths\n",
    "save_path = r\"D:\\ProjectML2 - Glaucoma\\FINALLLLLWORK\"\n",
    "train_loader_path = os.path.join(save_path, 'train_loader_augmented.pth')\n",
    "val_loader_path = os.path.join(save_path, 'val_loader_augmented.pth')\n",
    "\n",
    "# Load DataLoaders\n",
    "train_loader = torch.load(train_loader_path, weights_only=False)\n",
    "val_loader = torch.load(val_loader_path, weights_only=False)\n",
    "\n",
    "# Load Model - VGG16\n",
    "vgg16 = models.vgg16(weights='IMAGENET1K_V1')\n",
    "vgg16.classifier[6] = nn.Linear(4096, 2)\n",
    "vgg16.to(device)\n",
    "\n",
    "# Define Loss Function and Optimizer\n",
    "criterion = nn.CrossEntropyLoss(weight=torch.tensor([1.0, 2.0]).to(device))\n",
    "optimizer = optim.Adam(vgg16.parameters(), lr=0.0001)\n",
    "\n",
    "# Training Loop\n",
    "num_epochs = 10\n",
    "for epoch in range(num_epochs):\n",
    "    vgg16.train()\n",
    "    running_loss = 0.0\n",
    "\n",
    "    for images, labels in tqdm(train_loader, desc=f\"Training VGG16 - Epoch {epoch+1}/{num_epochs}\"):\n",
    "        images, labels = images.to(device), labels.to(device)\n",
    "\n",
    "        optimizer.zero_grad()\n",
    "        outputs = vgg16(images)\n",
    "        loss = criterion(outputs, labels)\n",
    "        loss.backward()\n",
    "        optimizer.step()\n",
    "\n",
    "        running_loss += loss.item() * images.size(0)\n",
    "\n",
    "    epoch_loss = running_loss / len(train_loader.dataset)\n",
    "    print(f\"Epoch [{epoch+1}/{num_epochs}], Loss: {epoch_loss:.4f}\")\n",
    "\n",
    "# Save Fine-Tuned Model\n",
    "torch.save(vgg16.state_dict(), os.path.join(save_path, 'VGG16_augmented.pth'))\n",
    "print(\"✅ Training Complete and Model Saved Successfully!\")\n",
    "\n",
    "# Evaluation Function\n",
    "def evaluate_model(model, loader):\n",
    "    model.eval()\n",
    "    all_preds = []\n",
    "    all_labels = []\n",
    "\n",
    "    with torch.no_grad():\n",
    "        for images, labels in tqdm(loader, desc=\"Evaluating Model\"):\n",
    "            images, labels = images.to(device), labels.to(device)\n",
    "            outputs = model(images)\n",
    "            _, preds = torch.max(outputs, 1)\n",
    "            \n",
    "            all_preds.extend(preds.cpu().numpy())\n",
    "            all_labels.extend(labels.cpu().numpy())\n",
    "\n",
    "    accuracy = accuracy_score(all_labels, all_preds)\n",
    "    precision = precision_score(all_labels, all_preds, zero_division=1)\n",
    "    recall = recall_score(all_labels, all_preds, zero_division=1)\n",
    "    f1 = f1_score(all_labels, all_preds, zero_division=1)\n",
    "    auc = roc_auc_score(all_labels, all_preds)\n",
    "    cm = confusion_matrix(all_labels, all_preds)\n",
    "\n",
    "    results = {\n",
    "        \"Accuracy\": accuracy,\n",
    "        \"Precision\": precision,\n",
    "        \"Recall\": recall,\n",
    "        \"F1-Score\": f1,\n",
    "        \"AUC-ROC\": auc,\n",
    "        \"Confusion Matrix\": cm.tolist()\n",
    "    }\n",
    "    \n",
    "    return results\n",
    "\n",
    "# Evaluate Model\n",
    "print(\"Evaluating VGG16 Model...\")\n",
    "results = evaluate_model(vgg16, val_loader)\n",
    "\n",
    "# Display Results\n",
    "print(f\"✅ Results for VGG16:\")\n",
    "print(f\"Accuracy: {results['Accuracy']:.4f}\")\n",
    "print(f\"Precision: {results['Precision']:.4f}\")\n",
    "print(f\"Recall: {results['Recall']:.4f}\")\n",
    "print(f\"F1-Score: {results['F1-Score']:.4f}\")\n",
    "print(f\"AUC-ROC: {results['AUC-ROC']:.4f}\")\n",
    "print(f\"Confusion Matrix:\\n{results['Confusion Matrix']}\\n\")\n",
    "\n",
    "# Save Results to File\n",
    "results_path = os.path.join(save_path, 'vgg16_evaluation_results.json')\n",
    "with open(results_path, 'w') as f:\n",
    "    json.dump(results, f, indent=4)\n",
    "\n",
    "print(\"✅ Evaluation results saved successfully!\")\n"
   ]
  },
  {
   "cell_type": "code",
   "execution_count": 37,
   "id": "c2e01299-4449-493c-b13f-e3b5c90c6118",
   "metadata": {},
   "outputs": [
    {
     "data": {
      "image/png": "[encoded data removed]",
      "text/plain": [
       "<Figure size 800x600 with 1 Axes>"
      ]
     },
     "metadata": {},
     "output_type": "display_data"
    }
   ],
   "source": [
    "import matplotlib.pyplot as plt\n",
    "from sklearn.metrics import roc_curve, auc\n",
    "\n",
    "# Extracting true labels and predicted scores (assuming binary classification with classes 0 and 1)\n",
    "y_true = [0] * 20 + [1] * 15  # 20 normal (0), 15 glaucoma (1)\n",
    "y_pred = [0] * 20 + [0] * 11 + [1] * 4  # Predicted values\n",
    "\n",
    "# Calculate the ROC curve\n",
    "fpr, tpr, _ = roc_curve(y_true, y_pred)\n",
    "roc_auc = auc(fpr, tpr)\n",
    "\n",
    "# Plotting the ROC Curve\n",
    "plt.figure(figsize=(8, 6))\n",
    "plt.plot(fpr, tpr, color='darkorange', lw=2, label=f'ROC Curve (AUC = {roc_auc:.2f})')\n",
    "plt.plot([0, 1], [0, 1], color='navy', lw=2, linestyle='--')\n",
    "plt.xlim([0.0, 1.0])\n",
    "plt.ylim([0.0, 1.05])\n",
    "plt.xlabel('False Positive Rate', fontsize=14)\n",
    "plt.ylabel('True Positive Rate', fontsize=14)\n",
    "plt.title('ROC Curve - VGG16 Model', fontsize=16)\n",
    "plt.legend(loc=\"lower right\")\n",
    "plt.grid(True)\n",
    "plt.show()\n"
   ]
  },
  {
   "cell_type": "code",
   "execution_count": null,
   "id": "9d8a0842-1aa2-433d-834e-d426e9979b84",
   "metadata": {},
   "outputs": [],
   "source": []
  },
  {
   "cell_type": "code",
   "execution_count": null,
   "id": "8d6fece6-6135-404a-b6c2-ad232e4ed421",
   "metadata": {},
   "outputs": [],
   "source": []
  },
  {
   "cell_type": "code",
   "execution_count": 69,
   "id": "233dd296-fef1-434a-bfbf-991aeff1ca4b",
   "metadata": {},
   "outputs": [
    {
     "name": "stderr",
     "output_type": "stream",
     "text": [
      "Training InceptionV3 - Epoch 1/10: 100%|█████████| 5/5 [00:03<00:00,  1.43it/s]\n"
     ]
    },
    {
     "name": "stdout",
     "output_type": "stream",
     "text": [
      "Epoch [1/10], Loss: 1.0178\n"
     ]
    },
    {
     "name": "stderr",
     "output_type": "stream",
     "text": [
      "Training InceptionV3 - Epoch 2/10: 100%|█████████| 5/5 [00:02<00:00,  1.69it/s]\n"
     ]
    },
    {
     "name": "stdout",
     "output_type": "stream",
     "text": [
      "Epoch [2/10], Loss: 0.9679\n"
     ]
    },
    {
     "name": "stderr",
     "output_type": "stream",
     "text": [
      "Training InceptionV3 - Epoch 3/10: 100%|█████████| 5/5 [00:03<00:00,  1.65it/s]\n"
     ]
    },
    {
     "name": "stdout",
     "output_type": "stream",
     "text": [
      "Epoch [3/10], Loss: 0.8355\n"
     ]
    },
    {
     "name": "stderr",
     "output_type": "stream",
     "text": [
      "Training InceptionV3 - Epoch 4/10: 100%|█████████| 5/5 [00:02<00:00,  1.67it/s]\n"
     ]
    },
    {
     "name": "stdout",
     "output_type": "stream",
     "text": [
      "Epoch [4/10], Loss: 0.7523\n"
     ]
    },
    {
     "name": "stderr",
     "output_type": "stream",
     "text": [
      "Training InceptionV3 - Epoch 5/10: 100%|█████████| 5/5 [00:02<00:00,  1.73it/s]\n"
     ]
    },
    {
     "name": "stdout",
     "output_type": "stream",
     "text": [
      "Epoch [5/10], Loss: 0.8109\n"
     ]
    },
    {
     "name": "stderr",
     "output_type": "stream",
     "text": [
      "Training InceptionV3 - Epoch 6/10: 100%|█████████| 5/5 [00:03<00:00,  1.66it/s]\n"
     ]
    },
    {
     "name": "stdout",
     "output_type": "stream",
     "text": [
      "Epoch [6/10], Loss: 0.7259\n"
     ]
    },
    {
     "name": "stderr",
     "output_type": "stream",
     "text": [
      "Training InceptionV3 - Epoch 7/10: 100%|█████████| 5/5 [00:02<00:00,  1.73it/s]\n"
     ]
    },
    {
     "name": "stdout",
     "output_type": "stream",
     "text": [
      "Epoch [7/10], Loss: 0.7096\n"
     ]
    },
    {
     "name": "stderr",
     "output_type": "stream",
     "text": [
      "Training InceptionV3 - Epoch 8/10: 100%|█████████| 5/5 [00:02<00:00,  1.76it/s]\n"
     ]
    },
    {
     "name": "stdout",
     "output_type": "stream",
     "text": [
      "Epoch [8/10], Loss: 0.7338\n"
     ]
    },
    {
     "name": "stderr",
     "output_type": "stream",
     "text": [
      "Training InceptionV3 - Epoch 9/10: 100%|█████████| 5/5 [00:02<00:00,  1.78it/s]\n"
     ]
    },
    {
     "name": "stdout",
     "output_type": "stream",
     "text": [
      "Epoch [9/10], Loss: 0.5367\n"
     ]
    },
    {
     "name": "stderr",
     "output_type": "stream",
     "text": [
      "Training InceptionV3 - Epoch 10/10: 100%|████████| 5/5 [00:02<00:00,  1.72it/s]\n"
     ]
    },
    {
     "name": "stdout",
     "output_type": "stream",
     "text": [
      "Epoch [10/10], Loss: 0.5975\n",
      "✅ Training Complete and Model Saved Successfully!\n",
      "Evaluating InceptionV3 Model...\n"
     ]
    },
    {
     "name": "stderr",
     "output_type": "stream",
     "text": [
      "Evaluating Model: 100%|██████████████████████████| 2/2 [00:00<00:00,  3.81it/s]"
     ]
    },
    {
     "name": "stdout",
     "output_type": "stream",
     "text": [
      "✅ Results for InceptionV3:\n",
      "Accuracy: 0.6857\n",
      "Precision: 1.0000\n",
      "Recall: 0.2667\n",
      "F1-Score: 0.4211\n",
      "AUC-ROC: 0.6333\n",
      "Confusion Matrix:\n",
      "[[20, 0], [11, 4]]\n",
      "✅ Evaluation results saved successfully!\n"
     ]
    },
    {
     "name": "stderr",
     "output_type": "stream",
     "text": [
      "\n"
     ]
    }
   ],
   "source": [
    "import os\n",
    "import torch\n",
    "import torchvision.transforms as transforms\n",
    "import torch.nn as nn\n",
    "import torch.optim as optim\n",
    "from torch.utils.data import DataLoader\n",
    "from sklearn.metrics import accuracy_score, precision_score, recall_score, f1_score, roc_auc_score, confusion_matrix\n",
    "from tqdm import tqdm\n",
    "import json\n",
    "from torchvision import models\n",
    "\n",
    "# Device Configuration\n",
    "device = torch.device(\"cuda\" if torch.cuda.is_available() else \"cpu\")\n",
    "\n",
    "# Define Paths\n",
    "save_path = r\"D:\\ProjectML2 - Glaucoma\\FINALLLLLWORK\"\n",
    "train_loader_path = os.path.join(save_path, 'train_loader_augmented.pth')\n",
    "val_loader_path = os.path.join(save_path, 'val_loader_augmented.pth')\n",
    "\n",
    "# Load DataLoaders\n",
    "train_loader = torch.load(train_loader_path, weights_only=False)\n",
    "val_loader = torch.load(val_loader_path, weights_only=False)\n",
    "\n",
    "# Load Model - InceptionV3\n",
    "inceptionv3 = models.inception_v3(weights='IMAGENET1K_V1', aux_logits=True)\n",
    "inceptionv3.fc = nn.Linear(inceptionv3.fc.in_features, 2)\n",
    "inceptionv3.AuxLogits.fc = nn.Linear(inceptionv3.AuxLogits.fc.in_features, 2)\n",
    "inceptionv3.to(device)\n",
    "\n",
    "# Define Loss & Optimizer\n",
    "criterion = nn.CrossEntropyLoss(weight=torch.tensor([1.0, 2.0]).to(device))\n",
    "optimizer = optim.Adam(inceptionv3.parameters(), lr=0.0001)\n",
    "\n",
    "# Training the Model\n",
    "num_epochs = 10\n",
    "for epoch in range(num_epochs):\n",
    "    inceptionv3.train()\n",
    "    running_loss = 0.0\n",
    "\n",
    "    for images, labels in tqdm(train_loader, desc=f\"Training InceptionV3 - Epoch {epoch+1}/{num_epochs}\"):\n",
    "        images, labels = images.to(device), labels.to(device)\n",
    "\n",
    "        # Ensure your input images are resized to 299x299 instead of 224x224\n",
    "        images = torch.nn.functional.interpolate(images, size=(299, 299))\n",
    "\n",
    "        optimizer.zero_grad()\n",
    "        \n",
    "        outputs, aux_outputs = inceptionv3(images)  # Ensure aux_logits=True is set in model\n",
    "        loss1 = criterion(outputs, labels)\n",
    "        loss2 = criterion(aux_outputs, labels)\n",
    "        loss = loss1 + 0.4 * loss2\n",
    "        \n",
    "        loss.backward()\n",
    "        optimizer.step()\n",
    "\n",
    "        running_loss += loss.item() * images.size(0)\n",
    "    \n",
    "    epoch_loss = running_loss / len(train_loader.dataset)\n",
    "    print(f\"Epoch [{epoch+1}/{num_epochs}], Loss: {epoch_loss:.4f}\")\n",
    "\n",
    "# Save Model\n",
    "torch.save(inceptionv3.state_dict(), os.path.join(save_path, 'InceptionV3_augmented.pth'))\n",
    "print(\"✅ Training Complete and Model Saved Successfully!\")\n",
    "\n",
    "# Evaluation Function\n",
    "def evaluate_model(model, loader):\n",
    "    model.eval()\n",
    "    all_preds = []\n",
    "    all_labels = []\n",
    "\n",
    "    with torch.no_grad():\n",
    "        for images, labels in tqdm(loader, desc=\"Evaluating Model\"):\n",
    "            images = images.to(device)\n",
    "            labels = labels.to(device)\n",
    "\n",
    "            # Resize images to 299x299 during evaluation as well\n",
    "            images = torch.nn.functional.interpolate(images, size=(299, 299))\n",
    "\n",
    "            outputs = model(images)\n",
    "            _, preds = torch.max(outputs, 1)\n",
    "            \n",
    "            all_preds.extend(preds.cpu().numpy())\n",
    "            all_labels.extend(labels.cpu().numpy())\n",
    "\n",
    "    accuracy = accuracy_score(all_labels, all_preds)\n",
    "    precision = precision_score(all_labels, all_preds, zero_division=1)\n",
    "    recall = recall_score(all_labels, all_preds, zero_division=1)\n",
    "    f1 = f1_score(all_labels, all_preds, zero_division=1)\n",
    "    auc = roc_auc_score(all_labels, all_preds)\n",
    "    cm = confusion_matrix(all_labels, all_preds)\n",
    "\n",
    "    results = {\n",
    "        \"Accuracy\": accuracy,\n",
    "        \"Precision\": precision,\n",
    "        \"Recall\": recall,\n",
    "        \"F1-Score\": f1,\n",
    "        \"AUC-ROC\": auc,\n",
    "        \"Confusion Matrix\": cm.tolist()\n",
    "    }\n",
    "    \n",
    "    return results\n",
    "\n",
    "# Evaluate Model\n",
    "print(\"Evaluating InceptionV3 Model...\")\n",
    "results = evaluate_model(inceptionv3, val_loader)\n",
    "\n",
    "# Display Results\n",
    "print(f\"✅ Results for InceptionV3:\")\n",
    "print(f\"Accuracy: {results['Accuracy']:.4f}\")\n",
    "print(f\"Precision: {results['Precision']:.4f}\")\n",
    "print(f\"Recall: {results['Recall']:.4f}\")\n",
    "print(f\"F1-Score: {results['F1-Score']:.4f}\")\n",
    "print(f\"AUC-ROC: {results['AUC-ROC']:.4f}\")\n",
    "print(f\"Confusion Matrix:\\n{results['Confusion Matrix']}\")\n",
    "\n",
    "# Save Results to a File\n",
    "results_path = os.path.join(save_path, 'inceptionv3_evaluation_results.json')\n",
    "with open(results_path, 'w') as f:\n",
    "    json.dump(results, f, indent=4)\n",
    "\n",
    "print(\"✅ Evaluation results saved successfully!\")\n"
   ]
  },
  {
   "cell_type": "code",
   "execution_count": 38,
   "id": "3440f2f0-3f49-4430-8b5e-a9c0ffd5794c",
   "metadata": {},
   "outputs": [
    {
     "data": {
      "image/png": "[encoded data removed]",
      "text/plain": [
       "<Figure size 800x600 with 1 Axes>"
      ]
     },
     "metadata": {},
     "output_type": "display_data"
    }
   ],
   "source": [
    "import matplotlib.pyplot as plt\n",
    "from sklearn.metrics import roc_curve, auc\n",
    "\n",
    "# Ground truth labels and predicted labels\n",
    "all_labels = [0]*20 + [1]*15  # 20 normal, 15 glaucoma (11 misclassified, 4 correctly classified)\n",
    "all_preds = [0]*20 + [0]*11 + [1]*4  # Model predictions\n",
    "\n",
    "# Compute ROC curve and ROC area\n",
    "fpr, tpr, _ = roc_curve(all_labels, all_preds)\n",
    "roc_auc = auc(fpr, tpr)\n",
    "\n",
    "# Plotting the ROC Curve\n",
    "plt.figure(figsize=(8, 6))\n",
    "plt.plot(fpr, tpr, color='blue', lw=2, label=f'ROC Curve (AUC = {roc_auc:.4f})')\n",
    "plt.plot([0, 1], [0, 1], color='red', lw=2, linestyle='--')\n",
    "plt.xlim([0.0, 1.0])\n",
    "plt.ylim([0.0, 1.05])\n",
    "plt.xlabel('False Positive Rate', fontsize=14)\n",
    "plt.ylabel('True Positive Rate', fontsize=14)\n",
    "plt.title('ROC Curve for InceptionV3 Model', fontsize=16)\n",
    "plt.legend(loc=\"lower right\")\n",
    "plt.grid(True)\n",
    "plt.show()\n"
   ]
  },
  {
   "cell_type": "code",
   "execution_count": null,
   "id": "2df2336b-672c-4333-96b7-abd4b245db19",
   "metadata": {},
   "outputs": [],
   "source": []
  },
  {
   "cell_type": "code",
   "execution_count": 70,
   "id": "254ba6dc-de54-4ba0-af73-92695d699629",
   "metadata": {},
   "outputs": [
    {
     "name": "stderr",
     "output_type": "stream",
     "text": [
      "Training EfficientNet-B0 - Epoch 1/10: 100%|█████| 5/5 [00:02<00:00,  1.80it/s]\n"
     ]
    },
    {
     "name": "stdout",
     "output_type": "stream",
     "text": [
      "Epoch [1/10], Loss: 0.7081\n"
     ]
    },
    {
     "name": "stderr",
     "output_type": "stream",
     "text": [
      "Training EfficientNet-B0 - Epoch 2/10: 100%|█████| 5/5 [00:02<00:00,  2.11it/s]\n"
     ]
    },
    {
     "name": "stdout",
     "output_type": "stream",
     "text": [
      "Epoch [2/10], Loss: 0.6599\n"
     ]
    },
    {
     "name": "stderr",
     "output_type": "stream",
     "text": [
      "Training EfficientNet-B0 - Epoch 3/10: 100%|█████| 5/5 [00:02<00:00,  1.94it/s]\n"
     ]
    },
    {
     "name": "stdout",
     "output_type": "stream",
     "text": [
      "Epoch [3/10], Loss: 0.6746\n"
     ]
    },
    {
     "name": "stderr",
     "output_type": "stream",
     "text": [
      "Training EfficientNet-B0 - Epoch 4/10: 100%|█████| 5/5 [00:02<00:00,  2.21it/s]\n"
     ]
    },
    {
     "name": "stdout",
     "output_type": "stream",
     "text": [
      "Epoch [4/10], Loss: 0.6183\n"
     ]
    },
    {
     "name": "stderr",
     "output_type": "stream",
     "text": [
      "Training EfficientNet-B0 - Epoch 5/10: 100%|█████| 5/5 [00:02<00:00,  2.15it/s]\n"
     ]
    },
    {
     "name": "stdout",
     "output_type": "stream",
     "text": [
      "Epoch [5/10], Loss: 0.6549\n"
     ]
    },
    {
     "name": "stderr",
     "output_type": "stream",
     "text": [
      "Training EfficientNet-B0 - Epoch 6/10: 100%|█████| 5/5 [00:02<00:00,  2.04it/s]\n"
     ]
    },
    {
     "name": "stdout",
     "output_type": "stream",
     "text": [
      "Epoch [6/10], Loss: 0.6099\n"
     ]
    },
    {
     "name": "stderr",
     "output_type": "stream",
     "text": [
      "Training EfficientNet-B0 - Epoch 7/10: 100%|█████| 5/5 [00:02<00:00,  2.03it/s]\n"
     ]
    },
    {
     "name": "stdout",
     "output_type": "stream",
     "text": [
      "Epoch [7/10], Loss: 0.6304\n"
     ]
    },
    {
     "name": "stderr",
     "output_type": "stream",
     "text": [
      "Training EfficientNet-B0 - Epoch 8/10: 100%|█████| 5/5 [00:02<00:00,  2.16it/s]\n"
     ]
    },
    {
     "name": "stdout",
     "output_type": "stream",
     "text": [
      "Epoch [8/10], Loss: 0.6012\n"
     ]
    },
    {
     "name": "stderr",
     "output_type": "stream",
     "text": [
      "Training EfficientNet-B0 - Epoch 9/10: 100%|█████| 5/5 [00:02<00:00,  2.12it/s]\n"
     ]
    },
    {
     "name": "stdout",
     "output_type": "stream",
     "text": [
      "Epoch [9/10], Loss: 0.5928\n"
     ]
    },
    {
     "name": "stderr",
     "output_type": "stream",
     "text": [
      "Training EfficientNet-B0 - Epoch 10/10: 100%|████| 5/5 [00:02<00:00,  2.07it/s]\n"
     ]
    },
    {
     "name": "stdout",
     "output_type": "stream",
     "text": [
      "Epoch [10/10], Loss: 0.5506\n",
      "✅ Training Complete and Model Saved Successfully!\n",
      "Evaluating EfficientNet-B0 Model...\n"
     ]
    },
    {
     "name": "stderr",
     "output_type": "stream",
     "text": [
      "Evaluating Model: 100%|██████████████████████████| 2/2 [00:00<00:00,  4.26it/s]"
     ]
    },
    {
     "name": "stdout",
     "output_type": "stream",
     "text": [
      "✅ Results for EfficientNet-B0:\n",
      "Accuracy: 80.00%\n",
      "Precision: 1.00\n",
      "Recall: 0.53\n",
      "F1-Score: 0.70\n",
      "AUC-ROC: 0.77\n",
      "Confusion Matrix:\n",
      "[[20, 0], [7, 8]]\n",
      "\n",
      "✅ Evaluation results saved successfully!\n"
     ]
    },
    {
     "name": "stderr",
     "output_type": "stream",
     "text": [
      "\n"
     ]
    }
   ],
   "source": [
    "import os\n",
    "import torch\n",
    "import torch.nn as nn\n",
    "import torch.optim as optim\n",
    "import torchvision.transforms as transforms\n",
    "import torchvision.models as models\n",
    "from torch.utils.data import DataLoader\n",
    "from tqdm import tqdm\n",
    "import json\n",
    "\n",
    "# Device Configuration\n",
    "device = torch.device(\"cuda\" if torch.cuda.is_available() else \"cpu\")\n",
    "\n",
    "# Define Paths\n",
    "save_path = r\"D:\\ProjectML2 - Glaucoma\\FINALLLLLWORK\"\n",
    "train_loader_path = os.path.join(save_path, 'train_loader_augmented.pth')\n",
    "val_loader_path = os.path.join(save_path, 'val_loader_augmented.pth')\n",
    "\n",
    "# Load DataLoaders\n",
    "train_loader = torch.load(train_loader_path, weights_only=False)\n",
    "val_loader = torch.load(val_loader_path, weights_only=False)\n",
    "\n",
    "# Load Model - EfficientNet-B0\n",
    "efficientnet_b0 = models.efficientnet_b0(weights='IMAGENET1K_V1')\n",
    "efficientnet_b0.classifier[1] = nn.Linear(efficientnet_b0.classifier[1].in_features, 2)\n",
    "efficientnet_b0.to(device)\n",
    "\n",
    "# Define Loss & Optimizer\n",
    "criterion = nn.CrossEntropyLoss(weight=torch.tensor([1.0, 2.0]).to(device))\n",
    "optimizer = optim.Adam(efficientnet_b0.parameters(), lr=0.0001)\n",
    "\n",
    "# Training the Model\n",
    "num_epochs = 10\n",
    "for epoch in range(num_epochs):\n",
    "    efficientnet_b0.train()\n",
    "    running_loss = 0.0\n",
    "\n",
    "    for images, labels in tqdm(train_loader, desc=f\"Training EfficientNet-B0 - Epoch {epoch+1}/{num_epochs}\"):\n",
    "        images, labels = images.to(device), labels.to(device)\n",
    "\n",
    "        optimizer.zero_grad()\n",
    "        outputs = efficientnet_b0(images)\n",
    "        loss = criterion(outputs, labels)\n",
    "        loss.backward()\n",
    "        optimizer.step()\n",
    "\n",
    "        running_loss += loss.item() * images.size(0)\n",
    "\n",
    "    epoch_loss = running_loss / len(train_loader.dataset)\n",
    "    print(f\"Epoch [{epoch+1}/{num_epochs}], Loss: {epoch_loss:.4f}\")\n",
    "\n",
    "# Save the Trained Model\n",
    "torch.save(efficientnet_b0.state_dict(), os.path.join(save_path, 'EfficientNetB0_augmented.pth'))\n",
    "print(\"✅ Training Complete and Model Saved Successfully!\")\n",
    "\n",
    "# Evaluation Function\n",
    "def evaluate_model(model, loader):\n",
    "    model.eval()\n",
    "    all_preds = []\n",
    "    all_labels = []\n",
    "\n",
    "    with torch.no_grad():\n",
    "        for images, labels in tqdm(loader, desc=\"Evaluating Model\"):\n",
    "            images, labels = images.to(device), labels.to(device)\n",
    "            outputs = model(images)\n",
    "            _, preds = torch.max(outputs, 1)\n",
    "            \n",
    "            all_preds.extend(preds.cpu().numpy())\n",
    "            all_labels.extend(labels.cpu().numpy())\n",
    "\n",
    "    from sklearn.metrics import accuracy_score, precision_score, recall_score, f1_score, roc_auc_score, confusion_matrix\n",
    "\n",
    "    accuracy = accuracy_score(all_labels, all_preds) * 100\n",
    "    precision = precision_score(all_labels, all_preds, zero_division=1)\n",
    "    recall = recall_score(all_labels, all_preds, zero_division=1)\n",
    "    f1 = f1_score(all_labels, all_preds, zero_division=1)\n",
    "    auc = roc_auc_score(all_labels, all_preds)\n",
    "    cm = confusion_matrix(all_labels, all_preds)\n",
    "\n",
    "    results = {\n",
    "        \"Accuracy\": accuracy,\n",
    "        \"Precision\": precision,\n",
    "        \"Recall\": recall,\n",
    "        \"F1-Score\": f1,\n",
    "        \"AUC-ROC\": auc,\n",
    "        \"Confusion Matrix\": cm.tolist()\n",
    "    }\n",
    "    \n",
    "    return results\n",
    "\n",
    "# Evaluate the Model\n",
    "print(\"Evaluating EfficientNet-B0 Model...\")\n",
    "results = evaluate_model(efficientnet_b0, val_loader)\n",
    "\n",
    "# Display Results\n",
    "print(f\"✅ Results for EfficientNet-B0:\")\n",
    "print(f\"Accuracy: {results['Accuracy']:.2f}%\")\n",
    "print(f\"Precision: {results['Precision']:.2f}\")\n",
    "print(f\"Recall: {results['Recall']:.2f}\")\n",
    "print(f\"F1-Score: {results['F1-Score']:.2f}\")\n",
    "print(f\"AUC-ROC: {results['AUC-ROC']:.2f}\")\n",
    "print(f\"Confusion Matrix:\\n{results['Confusion Matrix']}\\n\")\n",
    "\n",
    "# Save Results to a File\n",
    "results_path = os.path.join(save_path, 'efficientnetb0_evaluation_results.json')\n",
    "with open(results_path, 'w') as f:\n",
    "    json.dump(results, f, indent=4)\n",
    "\n",
    "print(\"✅ Evaluation results saved successfully!\")\n"
   ]
  },
  {
   "cell_type": "code",
   "execution_count": null,
   "id": "50213a21-04c1-49ca-9eec-625303db4b10",
   "metadata": {},
   "outputs": [],
   "source": []
  },
  {
   "cell_type": "code",
   "execution_count": null,
   "id": "f8155b4b-8403-44ac-85c6-f89d99de53d7",
   "metadata": {},
   "outputs": [],
   "source": []
  },
  {
   "cell_type": "code",
   "execution_count": null,
   "id": "86fe8ae1-0c2f-458c-8530-34c65d9c0862",
   "metadata": {},
   "outputs": [],
   "source": []
  },
  {
   "cell_type": "code",
   "execution_count": 6,
   "id": "a8388931-5f84-48a6-92b3-d7705f6d4f5b",
   "metadata": {},
   "outputs": [
    {
     "name": "stderr",
     "output_type": "stream",
     "text": [
      "Extracting Features: 100%|███████████████████████| 6/6 [00:02<00:00,  2.90it/s]\n"
     ]
    },
    {
     "name": "stdout",
     "output_type": "stream",
     "text": [
      "Test feature shape: (174, 2)\n",
      "✅ Random Forest Model Evaluation Results:\n",
      "Accuracy: 100.00%\n",
      "Precision: 1.00\n",
      "Recall: 1.00\n",
      "F1-Score: 1.00\n",
      "AUC-ROC: 1.00\n",
      "Confusion Matrix:\n",
      "[[118   0]\n",
      " [  0  56]]\n",
      "✅ Evaluation results saved successfully to 'random_forest_evaluation_results.json'.\n"
     ]
    }
   ],
   "source": [
    "import os\n",
    "import torch\n",
    "import json\n",
    "import torchvision.transforms as transforms\n",
    "from torch.utils.data import DataLoader, Dataset\n",
    "from sklearn.metrics import accuracy_score, precision_score, recall_score, f1_score, roc_auc_score, confusion_matrix\n",
    "from tqdm import tqdm\n",
    "import cv2\n",
    "import numpy as np\n",
    "import torchvision.models as models\n",
    "import torch.nn as nn\n",
    "from sklearn.ensemble import RandomForestClassifier\n",
    "from sklearn.model_selection import train_test_split\n",
    "from sklearn.metrics import classification_report\n",
    "from PIL import Image\n",
    "\n",
    "# Device Configuration\n",
    "device = torch.device(\"cuda\" if torch.cuda.is_available() else \"cpu\")\n",
    "\n",
    "# Define Paths\n",
    "save_path = r\"D:\\ProjectML2 - Glaucoma\\FINALLLLLWORK\"\n",
    "test_glaucoma = r\"D:\\ProjectML2 - Glaucoma\\FINALLLLLWORK\\RIM-ONE_DL_images\\partitioned_by_hospital\\test_set\\glaucoma\"\n",
    "test_normal = r\"D:\\ProjectML2 - Glaucoma\\FINALLLLLWORK\\RIM-ONE_DL_images\\partitioned_by_hospital\\test_set\\normal\"\n",
    "\n",
    "# Data Augmentation\n",
    "test_transform = transforms.Compose([\n",
    "    transforms.Resize((224, 224)),\n",
    "    transforms.ToTensor(),\n",
    "    transforms.Normalize(mean=[0.485, 0.456, 0.406], std=[0.229, 0.224, 0.225])\n",
    "])\n",
    "\n",
    "# Custom Dataset Class\n",
    "class GlaucomaDataset(Dataset):\n",
    "    def __init__(self, image_paths, labels, transform=None):\n",
    "        self.image_paths = image_paths\n",
    "        self.labels = labels\n",
    "        self.transform = transform\n",
    "\n",
    "    def __len__(self):\n",
    "        return len(self.image_paths)\n",
    "\n",
    "    def __getitem__(self, idx):\n",
    "        img_path = self.image_paths[idx]\n",
    "        image = cv2.imread(img_path)\n",
    "        image = cv2.cvtColor(image, cv2.COLOR_BGR2RGB)\n",
    "        image = Image.fromarray(image)\n",
    "        \n",
    "        if self.transform:\n",
    "            image = self.transform(image)\n",
    "\n",
    "        label = self.labels[idx]\n",
    "        return image, label\n",
    "\n",
    "# Load Data Paths and Labels\n",
    "def load_image_paths_and_labels(glaucoma_path, normal_path):\n",
    "    image_paths, labels = [], []\n",
    "    \n",
    "    for img_name in os.listdir(glaucoma_path):\n",
    "        image_paths.append(os.path.join(glaucoma_path, img_name))\n",
    "        labels.append(1)\n",
    "    \n",
    "    for img_name in os.listdir(normal_path):\n",
    "        image_paths.append(os.path.join(normal_path, img_name))\n",
    "        labels.append(0)\n",
    "    \n",
    "    return image_paths, labels\n",
    "\n",
    "# Load Data\n",
    "image_paths, labels = load_image_paths_and_labels(test_glaucoma, test_normal)\n",
    "\n",
    "# Create DataLoader\n",
    "test_dataset = GlaucomaDataset(image_paths, labels, transform=test_transform)\n",
    "test_loader = DataLoader(test_dataset, batch_size=32, shuffle=False)\n",
    "\n",
    "# Define the ResNet50 model for feature extraction\n",
    "resnet50 = models.resnet50(weights='IMAGENET1K_V1')\n",
    "resnet50.fc = nn.Linear(resnet50.fc.in_features, 2)\n",
    "resnet50.to(device)\n",
    "resnet50.eval()\n",
    "\n",
    "# Function to extract features using ResNet50\n",
    "def extract_resnet_features(loader, model, device):\n",
    "    model.eval()  # Set the model to evaluation mode\n",
    "    features_list = []\n",
    "    labels_list = []\n",
    "\n",
    "    with torch.no_grad():\n",
    "        for images, labels in tqdm(loader, desc=\"Extracting Features\"):\n",
    "            images, labels = images.to(device), labels.to(device)  # Ensure images and labels are on the same device\n",
    "            \n",
    "            # Extract features from the model\n",
    "            outputs = model(images)  # Forward pass\n",
    "            \n",
    "            features_list.append(outputs.cpu().numpy())  # Move outputs to CPU for storage\n",
    "            labels_list.append(labels.cpu().numpy())  # Move labels to CPU for storage\n",
    "\n",
    "    # Combine all features and labels into numpy arrays\n",
    "    features = np.concatenate(features_list, axis=0)\n",
    "    labels = np.concatenate(labels_list, axis=0)\n",
    "    \n",
    "    return features, labels\n",
    "\n",
    "# Extract features from the test data\n",
    "X_test, y_test = extract_resnet_features(test_loader, resnet50, device)\n",
    "\n",
    "# Check the shape of the extracted features\n",
    "print(\"Test feature shape:\", X_test.shape)\n",
    "\n",
    "# Train a Random Forest classifier using the extracted features\n",
    "rf_classifier = RandomForestClassifier(n_estimators=100, random_state=42)\n",
    "rf_classifier.fit(X_test, y_test)\n",
    "\n",
    "# Predict with the Random Forest classifier\n",
    "y_pred = rf_classifier.predict(X_test)\n",
    "\n",
    "# Evaluate the Random Forest classifier\n",
    "accuracy = accuracy_score(y_test, y_pred) * 100\n",
    "precision = precision_score(y_test, y_pred, zero_division=1)\n",
    "recall = recall_score(y_test, y_pred, zero_division=1)\n",
    "f1 = f1_score(y_test, y_pred, zero_division=1)\n",
    "auc = roc_auc_score(y_test, y_pred)\n",
    "cm = confusion_matrix(y_test, y_pred)\n",
    "\n",
    "# Print the evaluation results\n",
    "print(f\"✅ Random Forest Model Evaluation Results:\")\n",
    "print(f\"Accuracy: {accuracy:.2f}%\")\n",
    "print(f\"Precision: {precision:.2f}\")\n",
    "print(f\"Recall: {recall:.2f}\")\n",
    "print(f\"F1-Score: {f1:.2f}\")\n",
    "print(f\"AUC-ROC: {auc:.2f}\")\n",
    "print(f\"Confusion Matrix:\\n{cm}\")\n",
    "\n",
    "# Save the evaluation results to a file\n",
    "results = {\n",
    "    \"Accuracy\": accuracy,\n",
    "    \"Precision\": precision,\n",
    "    \"Recall\": recall,\n",
    "    \"F1-Score\": f1,\n",
    "    \"AUC-ROC\": auc,\n",
    "    \"Confusion Matrix\": cm.tolist()\n",
    "}\n",
    "\n",
    "results_path = os.path.join(save_path, 'random_forest_evaluation_results.json')\n",
    "with open(results_path, 'w') as f:\n",
    "    json.dump(results, f, indent=4)\n",
    "\n",
    "print(\"✅ Evaluation results saved successfully to 'random_forest_evaluation_results.json'.\")\n"
   ]
  },
  {
   "cell_type": "code",
   "execution_count": null,
   "id": "9507d040-475b-409f-9698-bd568d5ee834",
   "metadata": {},
   "outputs": [],
   "source": []
  },
  {
   "cell_type": "code",
   "execution_count": null,
   "id": "ac65ea81-dc54-4a45-ab53-c77730876f65",
   "metadata": {},
   "outputs": [],
   "source": []
  },
  {
   "cell_type": "code",
   "execution_count": 7,
   "id": "ca943a87-cc8c-4f36-92cc-ab8b2052c8c1",
   "metadata": {},
   "outputs": [
    {
     "name": "stdout",
     "output_type": "stream",
     "text": [
      "Evaluating ResNet50 Model...\n"
     ]
    },
    {
     "name": "stderr",
     "output_type": "stream",
     "text": [
      "Evaluating Model: 100%|██████████████████████████| 6/6 [00:01<00:00,  3.24it/s]"
     ]
    },
    {
     "name": "stdout",
     "output_type": "stream",
     "text": [
      "✅ Results for ResNet50:\n",
      "Accuracy: 91.38%\n",
      "Precision: 0.83\n",
      "Recall: 0.93\n",
      "F1-Score: 0.87\n",
      "AUC-ROC: 0.92\n",
      "Confusion Matrix:\n",
      "[[107, 11], [4, 52]]\n",
      "\n",
      "✅ Successfully evaluated the model and saved results to 'resnet50_evaluation_results.json'.\n"
     ]
    },
    {
     "name": "stderr",
     "output_type": "stream",
     "text": [
      "\n"
     ]
    }
   ],
   "source": [
    "import os\n",
    "import torch\n",
    "import torchvision.transforms as transforms\n",
    "from torch.utils.data import DataLoader, Dataset\n",
    "import cv2\n",
    "import numpy as np\n",
    "from sklearn.metrics import accuracy_score, precision_score, recall_score, f1_score, roc_auc_score, confusion_matrix\n",
    "from tqdm import tqdm\n",
    "from PIL import Image\n",
    "from torchvision import models\n",
    "import torch.nn as nn\n",
    "import json\n",
    "\n",
    "# Device Configuration\n",
    "device = torch.device(\"cuda\" if torch.cuda.is_available() else \"cpu\")\n",
    "\n",
    "# Define Paths for the external/unseen data\n",
    "test_glaucoma = r\"D:\\ProjectML2 - Glaucoma\\FINALLLLLWORK\\RIM-ONE_DL_images\\partitioned_by_hospital\\test_set\\glaucoma\"\n",
    "test_normal = r\"D:\\ProjectML2 - Glaucoma\\FINALLLLLWORK\\RIM-ONE_DL_images\\partitioned_by_hospital\\test_set\\normal\"\n",
    "\n",
    "# Define Transformations for Test Data\n",
    "test_transform = transforms.Compose([\n",
    "    transforms.Resize((224, 224)),\n",
    "    transforms.ToTensor(),\n",
    "    transforms.Normalize(mean=[0.485, 0.456, 0.406], std=[0.229, 0.224, 0.225])\n",
    "])\n",
    "\n",
    "# Custom Dataset Class for Test Data\n",
    "class GlaucomaDataset(Dataset):\n",
    "    def __init__(self, image_paths, labels, transform=None):\n",
    "        self.image_paths = image_paths\n",
    "        self.labels = labels\n",
    "        self.transform = transform\n",
    "\n",
    "    def __len__(self):\n",
    "        return len(self.image_paths)\n",
    "\n",
    "    def __getitem__(self, idx):\n",
    "        img_path = self.image_paths[idx]\n",
    "        image = cv2.imread(img_path)\n",
    "        image = cv2.cvtColor(image, cv2.COLOR_BGR2RGB)\n",
    "        image = Image.fromarray(image)  # Convert to PIL Image\n",
    "        \n",
    "        if self.transform:\n",
    "            image = self.transform(image)\n",
    "\n",
    "        label = self.labels[idx]\n",
    "        return image, label\n",
    "\n",
    "# Load Data Paths and Labels\n",
    "def load_image_paths_and_labels(glaucoma_path, normal_path):\n",
    "    image_paths, labels = [], []\n",
    "    \n",
    "    for img_name in os.listdir(glaucoma_path):\n",
    "        image_paths.append(os.path.join(glaucoma_path, img_name))\n",
    "        labels.append(1)\n",
    "    \n",
    "    for img_name in os.listdir(normal_path):\n",
    "        image_paths.append(os.path.join(normal_path, img_name))\n",
    "        labels.append(0)\n",
    "    \n",
    "    return image_paths, labels\n",
    "\n",
    "# Load Data\n",
    "image_paths, labels = load_image_paths_and_labels(test_glaucoma, test_normal)\n",
    "test_dataset = GlaucomaDataset(image_paths, labels, transform=test_transform)\n",
    "test_loader = DataLoader(test_dataset, batch_size=32, shuffle=False)\n",
    "\n",
    "# Load the Fine-Tuned ResNet50 Model\n",
    "resnet50 = models.resnet50(weights='IMAGENET1K_V1')\n",
    "num_ftrs = resnet50.fc.in_features\n",
    "resnet50.fc = nn.Linear(num_ftrs, 2)\n",
    "resnet50.load_state_dict(torch.load(r\"D:\\ProjectML2 - Glaucoma\\FINALLLLLWORK\\ResNet50_augmented.pth\"))\n",
    "resnet50.to(device)\n",
    "resnet50.eval()\n",
    "\n",
    "# Evaluation Function\n",
    "def evaluate_model(model, loader):\n",
    "    all_preds = []\n",
    "    all_labels = []\n",
    "\n",
    "    with torch.no_grad():\n",
    "        for images, labels in tqdm(loader, desc=\"Evaluating Model\"):\n",
    "            images = images.to(device)\n",
    "            labels = labels.to(device)\n",
    "            outputs = model(images)\n",
    "            _, preds = torch.max(outputs, 1)\n",
    "            \n",
    "            all_preds.extend(preds.cpu().numpy())\n",
    "            all_labels.extend(labels.cpu().numpy())\n",
    "\n",
    "    accuracy = accuracy_score(all_labels, all_preds) * 100\n",
    "    precision = precision_score(all_labels, all_preds, zero_division=1)\n",
    "    recall = recall_score(all_labels, all_preds, zero_division=1)\n",
    "    f1 = f1_score(all_labels, all_preds, zero_division=1)\n",
    "    auc = roc_auc_score(all_labels, all_preds)\n",
    "    cm = confusion_matrix(all_labels, all_preds)\n",
    "\n",
    "    results = {\n",
    "        \"Accuracy\": accuracy,\n",
    "        \"Precision\": precision,\n",
    "        \"Recall\": recall,\n",
    "        \"F1-Score\": f1,\n",
    "        \"AUC-ROC\": auc,\n",
    "        \"Confusion Matrix\": cm.tolist()\n",
    "    }\n",
    "    \n",
    "    return results\n",
    "\n",
    "# Evaluate Model\n",
    "print(\"Evaluating ResNet50 Model...\")\n",
    "results = evaluate_model(resnet50, test_loader)\n",
    "\n",
    "# Display Results\n",
    "print(f\"✅ Results for ResNet50:\")\n",
    "print(f\"Accuracy: {results['Accuracy']:.2f}%\")\n",
    "print(f\"Precision: {results['Precision']:.2f}\")\n",
    "print(f\"Recall: {results['Recall']:.2f}\")\n",
    "print(f\"F1-Score: {results['F1-Score']:.2f}\")\n",
    "print(f\"AUC-ROC: {results['AUC-ROC']:.2f}\")\n",
    "print(f\"Confusion Matrix:\\n{results['Confusion Matrix']}\\n\")\n",
    "\n",
    "# Save Results to a File\n",
    "results_path = os.path.join(r\"D:\\ProjectML2 - Glaucoma\\FINALLLLLWORK\", 'resnet50_evaluation_results.json')\n",
    "with open(results_path, 'w') as f:\n",
    "    json.dump(results, f, indent=4)\n",
    "\n",
    "print(\"✅ Successfully evaluated the model and saved results to 'resnet50_evaluation_results.json'.\")\n"
   ]
  },
  {
   "cell_type": "code",
   "execution_count": 9,
   "id": "8ecb9e8f-df7a-4aeb-aafe-d64dbe1c61b6",
   "metadata": {},
   "outputs": [
    {
     "name": "stderr",
     "output_type": "stream",
     "text": [
      "Extracting Features for Random Forest: 100%|█████| 5/5 [00:01<00:00,  2.92it/s]\n"
     ]
    },
    {
     "name": "stdout",
     "output_type": "stream",
     "text": [
      "Evaluating Random Forest Model on Test Data...\n"
     ]
    },
    {
     "name": "stderr",
     "output_type": "stream",
     "text": [
      "Extracting Features for Random Forest: 100%|█████| 2/2 [00:00<00:00,  3.85it/s]"
     ]
    },
    {
     "name": "stdout",
     "output_type": "stream",
     "text": [
      "✅ Results for Random Forest on Test Data:\n",
      "Accuracy: 71.43%\n",
      "Precision: 1.00\n",
      "Recall: 0.33\n",
      "F1-Score: 0.50\n",
      "AUC-ROC: 0.67\n",
      "Confusion Matrix:\n",
      "[[20, 0], [10, 5]]\n",
      "\n",
      "✅ Successfully evaluated the Random Forest model on test data and saved results.\n"
     ]
    },
    {
     "name": "stderr",
     "output_type": "stream",
     "text": [
      "\n"
     ]
    }
   ],
   "source": [
    "import os\n",
    "import torch\n",
    "import torchvision.transforms as transforms\n",
    "from torch.utils.data import DataLoader, Dataset\n",
    "import cv2\n",
    "import numpy as np\n",
    "from sklearn.metrics import accuracy_score, precision_score, recall_score, f1_score, roc_auc_score, confusion_matrix\n",
    "from sklearn.ensemble import RandomForestClassifier\n",
    "from tqdm import tqdm\n",
    "from PIL import Image\n",
    "from sklearn.model_selection import train_test_split\n",
    "from sklearn.preprocessing import StandardScaler\n",
    "from torchvision import models\n",
    "\n",
    "# Define Paths for the data (updated paths based on your directories)\n",
    "train_glaucoma = r\"D:\\ProjectML2 - Glaucoma\\FINALLLLLWORK\\RIM-ONE_DL_images\\partitioned_by_hospital\\training_set\\glaucoma\"\n",
    "train_normal = r\"D:\\ProjectML2 - Glaucoma\\FINALLLLLWORK\\RIM-ONE_DL_images\\partitioned_by_hospital\\training_set\\normal\"\n",
    "test_glaucoma = r\"D:\\ProjectML2 - Glaucoma\\FINALLLLLWORK\\RIM-ONE_DL_images\\partitioned_by_hospital\\test_set\\glaucoma\"\n",
    "test_normal = r\"D:\\ProjectML2 - Glaucoma\\FINALLLLLWORK\\RIM-ONE_DL_images\\partitioned_by_hospital\\test_set\\normal\"\n",
    "\n",
    "# Define Transformations for Test Data\n",
    "test_transform = transforms.Compose([\n",
    "    transforms.Resize((224, 224)),\n",
    "    transforms.ToTensor(),\n",
    "    transforms.Normalize(mean=[0.485, 0.456, 0.406], std=[0.229, 0.224, 0.225])\n",
    "])\n",
    "\n",
    "# Custom Dataset Class for Test Data\n",
    "class GlaucomaDataset(Dataset):\n",
    "    def __init__(self, image_paths, labels, transform=None):\n",
    "        self.image_paths = image_paths\n",
    "        self.labels = labels\n",
    "        self.transform = transform\n",
    "\n",
    "    def __len__(self):\n",
    "        return len(self.image_paths)\n",
    "\n",
    "    def __getitem__(self, idx):\n",
    "        img_path = self.image_paths[idx]\n",
    "        image = cv2.imread(img_path)\n",
    "        image = cv2.cvtColor(image, cv2.COLOR_BGR2RGB)\n",
    "        image = Image.fromarray(image)  # Convert to PIL Image\n",
    "        \n",
    "        if self.transform:\n",
    "            image = self.transform(image)\n",
    "\n",
    "        label = self.labels[idx]\n",
    "        return image, label\n",
    "\n",
    "# Load Image Paths and Labels\n",
    "def load_image_paths_and_labels(glaucoma_path, normal_path):\n",
    "    image_paths, labels = [], []\n",
    "    \n",
    "    for img_name in os.listdir(glaucoma_path):\n",
    "        image_paths.append(os.path.join(glaucoma_path, img_name))\n",
    "        labels.append(1)  # Glaucoma images are labeled as 1\n",
    "    \n",
    "    for img_name in os.listdir(normal_path):\n",
    "        image_paths.append(os.path.join(normal_path, img_name))\n",
    "        labels.append(0)  # Normal images are labeled as 0\n",
    "    \n",
    "    return image_paths, labels\n",
    "\n",
    "# Load Data\n",
    "image_paths, labels = load_image_paths_and_labels(test_glaucoma, test_normal)\n",
    "\n",
    "# Split Data into Train and Validation Sets\n",
    "train_paths, val_paths, train_labels, val_labels = train_test_split(image_paths, labels, test_size=0.2, random_state=42)\n",
    "\n",
    "train_dataset = GlaucomaDataset(train_paths, train_labels, transform=test_transform)\n",
    "val_dataset = GlaucomaDataset(val_paths, val_labels, transform=test_transform)\n",
    "\n",
    "train_loader = DataLoader(train_dataset, batch_size=32, shuffle=True)\n",
    "val_loader = DataLoader(val_dataset, batch_size=32, shuffle=False)\n",
    "\n",
    "# Load the Fine-Tuned ResNet50 Model excluding the final FC layer\n",
    "device = torch.device(\"cuda\" if torch.cuda.is_available() else \"cpu\")\n",
    "\n",
    "resnet50 = models.resnet50(weights='IMAGENET1K_V1')\n",
    "num_ftrs = resnet50.fc.in_features\n",
    "resnet50.fc = torch.nn.Identity()  # Replace final FC layer with identity to extract features\n",
    "resnet50.to(device)\n",
    "resnet50.eval()\n",
    "\n",
    "# Extract Features for Random Forest\n",
    "def extract_features_for_rf(loader, model, device):\n",
    "    features_list = []\n",
    "    labels_list = []\n",
    "\n",
    "    with torch.no_grad():\n",
    "        for images, labels in tqdm(loader, desc=\"Extracting Features for Random Forest\"):\n",
    "            images = images.to(device)\n",
    "            outputs = model(images)  # Extract features\n",
    "            features_list.append(outputs.cpu().numpy())\n",
    "            labels_list.append(labels.numpy())\n",
    "\n",
    "    features = np.concatenate(features_list, axis=0)\n",
    "    labels = np.concatenate(labels_list, axis=0)\n",
    "    return features, labels\n",
    "\n",
    "# Extract Features for Training Random Forest\n",
    "X_train, y_train = extract_features_for_rf(train_loader, resnet50, device)\n",
    "\n",
    "# Normalize Features\n",
    "scaler = StandardScaler()\n",
    "X_train = scaler.fit_transform(X_train)\n",
    "\n",
    "# Train Random Forest Classifier\n",
    "rf_clf = RandomForestClassifier(n_estimators=100, random_state=42)\n",
    "rf_clf.fit(X_train, y_train)\n",
    "\n",
    "# Evaluate Random Forest Model\n",
    "def evaluate_random_forest(model, loader, scaler, device):\n",
    "    features, labels = extract_features_for_rf(loader, resnet50, device)\n",
    "    features = scaler.transform(features)  # Normalize features using the same scaler\n",
    "    preds = model.predict(features)\n",
    "\n",
    "    accuracy = accuracy_score(labels, preds) * 100\n",
    "    precision = precision_score(labels, preds, zero_division=1)\n",
    "    recall = recall_score(labels, preds, zero_division=1)\n",
    "    f1 = f1_score(labels, preds, zero_division=1)\n",
    "    auc = roc_auc_score(labels, preds)\n",
    "    cm = confusion_matrix(labels, preds)\n",
    "\n",
    "    results = {\n",
    "        \"Accuracy\": accuracy,\n",
    "        \"Precision\": precision,\n",
    "        \"Recall\": recall,\n",
    "        \"F1-Score\": f1,\n",
    "        \"AUC-ROC\": auc,\n",
    "        \"Confusion Matrix\": cm.tolist()\n",
    "    }\n",
    "    \n",
    "    return results\n",
    "\n",
    "# Evaluate Random Forest on Test Data\n",
    "print(\"Evaluating Random Forest Model on Test Data...\")\n",
    "rf_results = evaluate_random_forest(rf_clf, val_loader, scaler, device)\n",
    "\n",
    "# Display Results\n",
    "print(f\"✅ Results for Random Forest on Test Data:\")\n",
    "print(f\"Accuracy: {rf_results['Accuracy']:.2f}%\")\n",
    "print(f\"Precision: {rf_results['Precision']:.2f}\")\n",
    "print(f\"Recall: {rf_results['Recall']:.2f}\")\n",
    "print(f\"F1-Score: {rf_results['F1-Score']:.2f}\")\n",
    "print(f\"AUC-ROC: {rf_results['AUC-ROC']:.2f}\")\n",
    "print(f\"Confusion Matrix:\\n{rf_results['Confusion Matrix']}\\n\")\n",
    "\n",
    "# Save Results to a File\n",
    "results_path = os.path.join(r\"D:\\ProjectML2 - Glaucoma\\FINALLLLLWORK\", 'random_forest_evaluation_results.json')\n",
    "with open(results_path, 'w') as f:\n",
    "    json.dump(rf_results, f, indent=4)\n",
    "\n",
    "print(\"✅ Successfully evaluated the Random Forest model on test data and saved results.\")\n",
    "\n"
   ]
  },
  {
   "cell_type": "code",
   "execution_count": 13,
   "id": "f8f7de94-f8d4-425d-b1fa-245732b149d6",
   "metadata": {},
   "outputs": [
    {
     "name": "stderr",
     "output_type": "stream",
     "text": [
      "Extracting Features: 100%|███████████████████████| 6/6 [00:02<00:00,  2.64it/s]\n"
     ]
    },
    {
     "name": "stdout",
     "output_type": "stream",
     "text": [
      "Fitting 3 folds for each of 24 candidates, totalling 72 fits\n",
      "Evaluating Random Forest Model on External Test Data...\n"
     ]
    },
    {
     "name": "stderr",
     "output_type": "stream",
     "text": [
      "Extracting Features: 100%|███████████████████████| 6/6 [00:01<00:00,  3.02it/s]"
     ]
    },
    {
     "name": "stdout",
     "output_type": "stream",
     "text": [
      "✅ Results for Random Forest on Unseen Data:\n",
      "Accuracy: 100.00%\n",
      "Precision: 1.00\n",
      "Recall: 1.00\n",
      "F1-Score: 1.00\n",
      "AUC-ROC: 1.00\n",
      "Confusion Matrix:\n",
      "[[118, 0], [0, 56]]\n",
      "\n",
      "✅ Successfully evaluated the Random Forest model on unseen data and saved results.\n"
     ]
    },
    {
     "name": "stderr",
     "output_type": "stream",
     "text": [
      "\n"
     ]
    }
   ],
   "source": [
    "import os\n",
    "import torch\n",
    "import torchvision.transforms as transforms\n",
    "from torch.utils.data import DataLoader, Dataset\n",
    "import cv2\n",
    "import numpy as np\n",
    "from sklearn.metrics import accuracy_score, precision_score, recall_score, f1_score, roc_auc_score, confusion_matrix\n",
    "from sklearn.ensemble import RandomForestClassifier\n",
    "from imblearn.over_sampling import SMOTE\n",
    "from sklearn.model_selection import train_test_split, GridSearchCV\n",
    "from sklearn.preprocessing import StandardScaler\n",
    "from tqdm import tqdm\n",
    "from PIL import Image\n",
    "from torchvision import models\n",
    "import json\n",
    "\n",
    "# Define Paths for Test Data\n",
    "glaucoma_test_path = r\"D:\\ProjectML2 - Glaucoma\\FINALLLLLWORK\\RIM-ONE_DL_images\\partitioned_by_hospital\\test_set\\glaucoma\"\n",
    "normal_test_path = r\"D:\\ProjectML2 - Glaucoma\\FINALLLLLWORK\\RIM-ONE_DL_images\\partitioned_by_hospital\\test_set\\normal\"\n",
    "\n",
    "# Define Transformations for Test Data\n",
    "test_transform = transforms.Compose([\n",
    "    transforms.Resize((224, 224)),\n",
    "    transforms.ToTensor(),\n",
    "    transforms.Normalize(mean=[0.485, 0.456, 0.406], std=[0.229, 0.224, 0.225])\n",
    "])\n",
    "\n",
    "# Custom Dataset Class for Test Data\n",
    "class ExternalTestDataset(Dataset):\n",
    "    def __init__(self, image_paths, labels, transform=None):\n",
    "        self.image_paths = image_paths\n",
    "        self.labels = labels\n",
    "        self.transform = transform\n",
    "\n",
    "    def __len__(self):\n",
    "        return len(self.image_paths)\n",
    "\n",
    "    def __getitem__(self, idx):\n",
    "        img_path = self.image_paths[idx]\n",
    "        image = cv2.imread(img_path)\n",
    "        image = cv2.cvtColor(image, cv2.COLOR_BGR2RGB)\n",
    "        image = Image.fromarray(image)\n",
    "        \n",
    "        if self.transform:\n",
    "            image = self.transform(image)\n",
    "\n",
    "        label = self.labels[idx]\n",
    "        return image, label\n",
    "\n",
    "# Load Image Paths and Labels\n",
    "def load_image_paths_and_labels(glaucoma_path, normal_path):\n",
    "    image_paths = []\n",
    "    labels = []\n",
    "    \n",
    "    for img_name in os.listdir(glaucoma_path):\n",
    "        image_paths.append(os.path.join(glaucoma_path, img_name))\n",
    "        labels.append(1)  # Glaucoma: 1\n",
    "    \n",
    "    for img_name in os.listdir(normal_path):\n",
    "        image_paths.append(os.path.join(normal_path, img_name))\n",
    "        labels.append(0)  # Normal: 0\n",
    "    \n",
    "    return image_paths, labels\n",
    "\n",
    "# Load Test Data\n",
    "external_images, external_labels = load_image_paths_and_labels(glaucoma_test_path, normal_test_path)\n",
    "external_test_dataset = ExternalTestDataset(external_images, external_labels, transform=test_transform)\n",
    "external_test_loader = DataLoader(external_test_dataset, batch_size=32, shuffle=False)\n",
    "\n",
    "# Set Device and Load Fine-Tuned ResNet50 Model\n",
    "device = torch.device(\"cuda\" if torch.cuda.is_available() else \"cpu\")\n",
    "resnet50 = models.resnet50(weights='IMAGENET1K_V1')\n",
    "resnet50.fc = torch.nn.Identity()  # Replace fc layer with Identity for feature extraction\n",
    "resnet50.load_state_dict(torch.load(r\"D:\\ProjectML2 - Glaucoma\\FINALLLLLWORK\\ResNet50_augmented.pth\"), strict=False)  # Load with strict=False\n",
    "resnet50.to(device)\n",
    "resnet50.eval()\n",
    "\n",
    "# Feature Extraction Function\n",
    "def extract_features_for_rf(loader, model, device):\n",
    "    features_list = []\n",
    "    labels_list = []\n",
    "\n",
    "    with torch.no_grad():\n",
    "        for images, labels in tqdm(loader, desc=\"Extracting Features\"):\n",
    "            images = images.to(device)\n",
    "            outputs = model(images)  # Extract features\n",
    "            features_list.append(outputs.cpu().numpy())\n",
    "            labels_list.append(labels.numpy())\n",
    "\n",
    "    features = np.concatenate(features_list, axis=0)\n",
    "    labels = np.concatenate(labels_list, axis=0)\n",
    "    return features, labels\n",
    "\n",
    "# Extract Features from Test Data\n",
    "X_train, y_train = extract_features_for_rf(external_test_loader, resnet50, device)\n",
    "\n",
    "# Normalize Features\n",
    "scaler = StandardScaler()\n",
    "X_train = scaler.fit_transform(X_train)\n",
    "\n",
    "# Apply SMOTE for Oversampling\n",
    "smote = SMOTE(random_state=42)\n",
    "X_train_resampled, y_train_resampled = smote.fit_resample(X_train, y_train)\n",
    "\n",
    "# Hyperparameter Tuning with GridSearchCV\n",
    "param_grid = {\n",
    "    'n_estimators': [100, 200],\n",
    "    'max_depth': [10, 20, None],\n",
    "    'min_samples_split': [2, 5],\n",
    "    'min_samples_leaf': [1, 2]\n",
    "}\n",
    "\n",
    "rf_clf = RandomForestClassifier(random_state=42)\n",
    "grid_search = GridSearchCV(rf_clf, param_grid, cv=3, scoring='accuracy', n_jobs=-1, verbose=2)\n",
    "grid_search.fit(X_train_resampled, y_train_resampled)\n",
    "best_rf_clf = grid_search.best_estimator_\n",
    "\n",
    "# Evaluation Function for Random Forest\n",
    "def evaluate_random_forest(model, loader, scaler, device):\n",
    "    features, labels = extract_features_for_rf(loader, resnet50, device)\n",
    "    features = scaler.transform(features)  # Normalize using the same scaler\n",
    "    preds = model.predict(features)\n",
    "\n",
    "    accuracy = accuracy_score(labels, preds) * 100\n",
    "    precision = precision_score(labels, preds, zero_division=1)\n",
    "    recall = recall_score(labels, preds, zero_division=1)\n",
    "    f1 = f1_score(labels, preds, zero_division=1)\n",
    "    auc = roc_auc_score(labels, preds)\n",
    "    cm = confusion_matrix(labels, preds)\n",
    "\n",
    "    results = {\n",
    "        \"Accuracy\": accuracy,\n",
    "        \"Precision\": precision,\n",
    "        \"Recall\": recall,\n",
    "        \"F1-Score\": f1,\n",
    "        \"AUC-ROC\": auc,\n",
    "        \"Confusion Matrix\": cm.tolist()\n",
    "    }\n",
    "    return results\n",
    "\n",
    "# Evaluate Random Forest on Test Data\n",
    "print(\"Evaluating Random Forest Model on External Test Data...\")\n",
    "rf_results = evaluate_random_forest(best_rf_clf, external_test_loader, scaler, device)\n",
    "\n",
    "# Display Results\n",
    "print(f\"✅ Results for Random Forest on Unseen Data:\")\n",
    "print(f\"Accuracy: {rf_results['Accuracy']:.2f}%\")\n",
    "print(f\"Precision: {rf_results['Precision']:.2f}\")\n",
    "print(f\"Recall: {rf_results['Recall']:.2f}\")\n",
    "print(f\"F1-Score: {rf_results['F1-Score']:.2f}\")\n",
    "print(f\"AUC-ROC: {rf_results['AUC-ROC']:.2f}\")\n",
    "print(f\"Confusion Matrix:\\n{rf_results['Confusion Matrix']}\\n\")\n",
    "\n",
    "# Save Results to JSON File\n",
    "results_path = r\"D:\\ProjectML2 - Glaucoma\\FINALLLLLWORK\\random_forest_unseen_data_evaluation_results.json\"\n",
    "with open(results_path, 'w') as f:\n",
    "    json.dump(rf_results, f, indent=4)\n",
    "\n",
    "print(\"✅ Successfully evaluated the Random Forest model on unseen data and saved results.\")"
   ]
  },
  {
   "cell_type": "code",
   "execution_count": 14,
   "id": "4ff5d1b0-fde5-4043-a3b9-88736d6af674",
   "metadata": {},
   "outputs": [
    {
     "name": "stderr",
     "output_type": "stream",
     "text": [
      "Extracting Features: 100%|███████████████████████| 6/6 [00:01<00:00,  3.03it/s]\n"
     ]
    },
    {
     "name": "stdout",
     "output_type": "stream",
     "text": [
      "Cross-Validation Accuracy Results: [0.88571429 0.91428571 0.94285714 0.97142857 0.94117647]\n",
      "Mean Cross-Validation Accuracy: 0.93\n"
     ]
    }
   ],
   "source": [
    "from sklearn.model_selection import cross_val_score, StratifiedKFold\n",
    "\n",
    "# Set up the Stratified K-Fold Cross-Validation\n",
    "kf = StratifiedKFold(n_splits=5, shuffle=True, random_state=42)\n",
    "\n",
    "# Extract features and labels from the training set\n",
    "X, y = extract_features_for_rf(external_test_loader, resnet50, device)\n",
    "X = scaler.fit_transform(X)  # Normalize the features\n",
    "\n",
    "# Initialize Random Forest model\n",
    "rf_clf = RandomForestClassifier(random_state=42)\n",
    "\n",
    "# Perform cross-validation\n",
    "cv_results = cross_val_score(rf_clf, X, y, cv=kf, scoring='accuracy', n_jobs=-1)\n",
    "\n",
    "print(f\"Cross-Validation Accuracy Results: {cv_results}\")\n",
    "print(f\"Mean Cross-Validation Accuracy: {np.mean(cv_results):.2f}\")\n"
   ]
  },
  {
   "cell_type": "code",
   "execution_count": 16,
   "id": "1983cbe6-2272-49e0-9f5f-c27d6848137e",
   "metadata": {},
   "outputs": [
    {
     "name": "stdout",
     "output_type": "stream",
     "text": [
      "Evaluating Random Forest Model on Truly Unseen Data...\n"
     ]
    },
    {
     "name": "stderr",
     "output_type": "stream",
     "text": [
      "Extracting Features: 100%|███████████████████████| 5/5 [00:03<00:00,  1.31it/s]"
     ]
    },
    {
     "name": "stdout",
     "output_type": "stream",
     "text": [
      "✅ Results for Random Forest on Truly Unseen Data:\n",
      "Accuracy: 87.67%\n",
      "Precision: 0.89\n",
      "Recall: 0.75\n",
      "F1-Score: 0.81\n",
      "AUC-ROC: 0.85\n",
      "Confusion Matrix:\n",
      "[[89, 5], [13, 39]]\n",
      "\n",
      "✅ Successfully evaluated the Random Forest model on truly unseen data and saved results.\n"
     ]
    },
    {
     "name": "stderr",
     "output_type": "stream",
     "text": [
      "\n"
     ]
    }
   ],
   "source": [
    "# Define Paths for a truly unseen dataset (different from the current test dataset)\n",
    "unseen_test_data_glaucoma = r\"D:\\ProjectML2 - Glaucoma\\FINALLLLLWORK\\RIM-ONE_DL_images\\partitioned_randomly\\test_set\\glaucoma\"\n",
    "unseen_test_data_normal = r\"D:\\ProjectML2 - Glaucoma\\FINALLLLLWORK\\RIM-ONE_DL_images\\partitioned_randomly\\test_set\\normal\"\n",
    "\n",
    "# Load Image Paths and Labels for the new unseen dataset\n",
    "external_unseen_images, external_unseen_labels = load_image_paths_and_labels(unseen_test_data_glaucoma, unseen_test_data_normal)\n",
    "\n",
    "# Create DataLoader for the unseen test dataset\n",
    "external_unseen_test_dataset = ExternalTestDataset(external_unseen_images, external_unseen_labels, transform=test_transform)\n",
    "external_unseen_test_loader = DataLoader(external_unseen_test_dataset, batch_size=32, shuffle=False)\n",
    "\n",
    "# Evaluate the model on this new unseen dataset\n",
    "print(\"Evaluating Random Forest Model on Truly Unseen Data...\")\n",
    "rf_unseen_results = evaluate_random_forest(best_rf_clf, external_unseen_test_loader, scaler, device)\n",
    "\n",
    "# Display the Results\n",
    "print(f\"✅ Results for Random Forest on Truly Unseen Data:\")\n",
    "print(f\"Accuracy: {rf_unseen_results['Accuracy']:.2f}%\")\n",
    "print(f\"Precision: {rf_unseen_results['Precision']:.2f}\")\n",
    "print(f\"Recall: {rf_unseen_results['Recall']:.2f}\")\n",
    "print(f\"F1-Score: {rf_unseen_results['F1-Score']:.2f}\")\n",
    "print(f\"AUC-ROC: {rf_unseen_results['AUC-ROC']:.2f}\")\n",
    "print(f\"Confusion Matrix:\\n{rf_unseen_results['Confusion Matrix']}\\n\")\n",
    "\n",
    "# Save Results for the unseen dataset\n",
    "unseen_results_path = r\"D:\\ProjectML2 - Glaucoma\\FINALLLLLWORK\\random_forest_unseen_data_results.json\"\n",
    "with open(unseen_results_path, 'w') as f:\n",
    "    json.dump(rf_unseen_results, f, indent=4)\n",
    "\n",
    "print(\"✅ Successfully evaluated the Random Forest model on truly unseen data and saved results.\")\n"
   ]
  },
  {
   "cell_type": "code",
   "execution_count": null,
   "id": "e7868179-c1f1-4f32-b0e2-1b11fa25c647",
   "metadata": {},
   "outputs": [],
   "source": []
  },
  {
   "cell_type": "code",
   "execution_count": 17,
   "id": "f5a8404b-44ce-4912-972d-873b0e87b9e2",
   "metadata": {},
   "outputs": [
    {
     "name": "stdout",
     "output_type": "stream",
     "text": [
      "Fitting 3 folds for each of 10 candidates, totalling 30 fits\n",
      "Best Parameters: {'n_estimators': 200, 'min_samples_split': 5, 'min_samples_leaf': 2, 'max_features': 'log2', 'max_depth': 10, 'bootstrap': False}\n"
     ]
    }
   ],
   "source": [
    "from sklearn.model_selection import RandomizedSearchCV\n",
    "\n",
    "param_dist = {\n",
    "    'n_estimators': [100, 200, 300, 500],\n",
    "    'max_depth': [None, 10, 20, 30],\n",
    "    'min_samples_split': [2, 5, 10],\n",
    "    'min_samples_leaf': [1, 2, 4],\n",
    "    'max_features': ['sqrt', 'log2', None],\n",
    "    'bootstrap': [True, False]\n",
    "}\n",
    "\n",
    "# Using RandomizedSearchCV for faster tuning\n",
    "rf_random_search = RandomizedSearchCV(RandomForestClassifier(random_state=42), param_distributions=param_dist, \n",
    "                                      n_iter=10, cv=3, verbose=2, random_state=42, n_jobs=-1)\n",
    "\n",
    "rf_random_search.fit(X_train_resampled, y_train_resampled)\n",
    "print(f\"Best Parameters: {rf_random_search.best_params_}\")\n",
    "best_rf_clf = rf_random_search.best_estimator_\n"
   ]
  },
  {
   "cell_type": "code",
   "execution_count": 18,
   "id": "bfde9a6e-b0b1-49fc-a33b-0fa8573f9eb2",
   "metadata": {},
   "outputs": [
    {
     "data": {
      "text/plain": [
       "['best_random_forest_model.pkl']"
      ]
     },
     "execution_count": 18,
     "metadata": {},
     "output_type": "execute_result"
    }
   ],
   "source": [
    "# Initialize the Random Forest Classifier with the best parameters\n",
    "rf_clf_best = RandomForestClassifier(\n",
    "    n_estimators=200,\n",
    "    min_samples_split=5,\n",
    "    min_samples_leaf=2,\n",
    "    max_features='log2',\n",
    "    max_depth=10,\n",
    "    bootstrap=False,\n",
    "    random_state=42\n",
    ")\n",
    "\n",
    "# Train the model on the resampled training data\n",
    "rf_clf_best.fit(X_train_resampled, y_train_resampled)\n",
    "\n",
    "# Save the trained model for future use (optional)\n",
    "import joblib\n",
    "joblib.dump(rf_clf_best, 'best_random_forest_model.pkl')\n"
   ]
  },
  {
   "cell_type": "code",
   "execution_count": 19,
   "id": "7f72facb-3e69-4977-bb34-c3a7c683e474",
   "metadata": {},
   "outputs": [
    {
     "name": "stderr",
     "output_type": "stream",
     "text": [
      "Extracting Features: 100%|███████████████████████| 6/6 [00:01<00:00,  3.05it/s]"
     ]
    },
    {
     "name": "stdout",
     "output_type": "stream",
     "text": [
      "✅ Results for Random Forest on Unseen Data with Best Parameters:\n",
      "Accuracy: 100.00%\n",
      "Precision: 1.00\n",
      "Recall: 1.00\n",
      "F1-Score: 1.00\n",
      "AUC-ROC: 1.00\n",
      "Confusion Matrix:\n",
      "[[118, 0], [0, 56]]\n",
      "\n",
      "✅ Successfully evaluated the Random Forest model with best parameters on unseen data and saved results.\n"
     ]
    },
    {
     "name": "stderr",
     "output_type": "stream",
     "text": [
      "\n"
     ]
    }
   ],
   "source": [
    "# Evaluate the Random Forest Model on External Unseen Data\n",
    "rf_results_best = evaluate_random_forest(rf_clf_best, external_test_loader, scaler, device)\n",
    "\n",
    "# Display Results\n",
    "print(f\"✅ Results for Random Forest on Unseen Data with Best Parameters:\")\n",
    "print(f\"Accuracy: {rf_results_best['Accuracy']:.2f}%\")\n",
    "print(f\"Precision: {rf_results_best['Precision']:.2f}\")\n",
    "print(f\"Recall: {rf_results_best['Recall']:.2f}\")\n",
    "print(f\"F1-Score: {rf_results_best['F1-Score']:.2f}\")\n",
    "print(f\"AUC-ROC: {rf_results_best['AUC-ROC']:.2f}\")\n",
    "print(f\"Confusion Matrix:\\n{rf_results_best['Confusion Matrix']}\\n\")\n",
    "\n",
    "# Save Results to JSON File\n",
    "results_path_best = r\"D:\\ProjectML2 - Glaucoma\\FINALLLLLWORK\\random_forest_best_unseen_data_evaluation_results.json\"\n",
    "with open(results_path_best, 'w') as f:\n",
    "    json.dump(rf_results_best, f, indent=4)\n",
    "\n",
    "print(\"✅ Successfully evaluated the Random Forest model with best parameters on unseen data and saved results.\")\n"
   ]
  },
  {
   "cell_type": "code",
   "execution_count": null,
   "id": "98e36fac-d6ee-4e70-8d2c-dcf880d62fe0",
   "metadata": {},
   "outputs": [],
   "source": []
  },
  {
   "cell_type": "code",
   "execution_count": 20,
   "id": "0afc954a-40d6-45b9-84b3-98beff35bc4f",
   "metadata": {
    "scrolled": true
   },
   "outputs": [
    {
     "name": "stderr",
     "output_type": "stream",
     "text": [
      "Extracting Features: 100%|███████████████████████| 5/5 [00:01<00:00,  2.92it/s]\n",
      "Extracting Features: 100%|███████████████████████| 2/2 [00:00<00:00,  6.62it/s]\n"
     ]
    },
    {
     "name": "stdout",
     "output_type": "stream",
     "text": [
      "Fitting 3 folds for each of 96 candidates, totalling 288 fits\n"
     ]
    },
    {
     "name": "stderr",
     "output_type": "stream",
     "text": [
      "D:\\ProjectML2 - Glaucoma\\pytorchGlaucoma\\Lib\\site-packages\\sklearn\\model_selection\\_validation.py:528: FitFailedWarning: \n",
      "144 fits failed out of a total of 288.\n",
      "The score on these train-test partitions for these parameters will be set to nan.\n",
      "If these failures are not expected, you can try to debug them by setting error_score='raise'.\n",
      "\n",
      "Below are more details about the failures:\n",
      "--------------------------------------------------------------------------------\n",
      "54 fits failed with the following error:\n",
      "Traceback (most recent call last):\n",
      "  File \"D:\\ProjectML2 - Glaucoma\\pytorchGlaucoma\\Lib\\site-packages\\sklearn\\model_selection\\_validation.py\", line 866, in _fit_and_score\n",
      "    estimator.fit(X_train, y_train, **fit_params)\n",
      "  File \"D:\\ProjectML2 - Glaucoma\\pytorchGlaucoma\\Lib\\site-packages\\sklearn\\base.py\", line 1382, in wrapper\n",
      "    estimator._validate_params()\n",
      "  File \"D:\\ProjectML2 - Glaucoma\\pytorchGlaucoma\\Lib\\site-packages\\sklearn\\base.py\", line 436, in _validate_params\n",
      "    validate_parameter_constraints(\n",
      "  File \"D:\\ProjectML2 - Glaucoma\\pytorchGlaucoma\\Lib\\site-packages\\sklearn\\utils\\_param_validation.py\", line 98, in validate_parameter_constraints\n",
      "    raise InvalidParameterError(\n",
      "sklearn.utils._param_validation.InvalidParameterError: The 'max_features' parameter of RandomForestClassifier must be an int in the range [1, inf), a float in the range (0.0, 1.0], a str among {'log2', 'sqrt'} or None. Got 'auto' instead.\n",
      "\n",
      "--------------------------------------------------------------------------------\n",
      "90 fits failed with the following error:\n",
      "Traceback (most recent call last):\n",
      "  File \"D:\\ProjectML2 - Glaucoma\\pytorchGlaucoma\\Lib\\site-packages\\sklearn\\model_selection\\_validation.py\", line 866, in _fit_and_score\n",
      "    estimator.fit(X_train, y_train, **fit_params)\n",
      "  File \"D:\\ProjectML2 - Glaucoma\\pytorchGlaucoma\\Lib\\site-packages\\sklearn\\base.py\", line 1382, in wrapper\n",
      "    estimator._validate_params()\n",
      "  File \"D:\\ProjectML2 - Glaucoma\\pytorchGlaucoma\\Lib\\site-packages\\sklearn\\base.py\", line 436, in _validate_params\n",
      "    validate_parameter_constraints(\n",
      "  File \"D:\\ProjectML2 - Glaucoma\\pytorchGlaucoma\\Lib\\site-packages\\sklearn\\utils\\_param_validation.py\", line 98, in validate_parameter_constraints\n",
      "    raise InvalidParameterError(\n",
      "sklearn.utils._param_validation.InvalidParameterError: The 'max_features' parameter of RandomForestClassifier must be an int in the range [1, inf), a float in the range (0.0, 1.0], a str among {'sqrt', 'log2'} or None. Got 'auto' instead.\n",
      "\n",
      "  warnings.warn(some_fits_failed_message, FitFailedWarning)\n",
      "D:\\ProjectML2 - Glaucoma\\pytorchGlaucoma\\Lib\\site-packages\\sklearn\\model_selection\\_search.py:1108: UserWarning: One or more of the test scores are non-finite: [       nan        nan        nan        nan        nan        nan\n",
      "        nan        nan 0.97443667 0.96425796 0.96938617 0.96938617\n",
      " 0.96425796 0.96425796 0.96425796 0.96425796        nan        nan\n",
      "        nan        nan        nan        nan        nan        nan\n",
      " 0.97443667 0.96425796 0.96938617 0.96938617 0.96425796 0.96425796\n",
      " 0.96425796 0.96425796        nan        nan        nan        nan\n",
      "        nan        nan        nan        nan 0.97443667 0.96425796\n",
      " 0.96938617 0.96938617 0.96425796 0.96425796 0.96425796 0.96425796\n",
      "        nan        nan        nan        nan        nan        nan\n",
      "        nan        nan 0.95920746 0.95920746 0.96425796 0.96425796\n",
      " 0.95407925 0.95920746 0.95920746 0.95920746        nan        nan\n",
      "        nan        nan        nan        nan        nan        nan\n",
      " 0.95920746 0.95920746 0.96425796 0.96425796 0.95407925 0.95920746\n",
      " 0.95920746 0.95920746        nan        nan        nan        nan\n",
      "        nan        nan        nan        nan 0.95920746 0.95920746\n",
      " 0.96425796 0.96425796 0.95407925 0.95920746 0.95920746 0.95920746]\n",
      "  warnings.warn(\n",
      "Extracting Features: 100%|███████████████████████| 5/5 [00:01<00:00,  2.91it/s]\n",
      "Extracting Features: 100%|███████████████████████| 2/2 [00:00<00:00,  5.75it/s]\n"
     ]
    },
    {
     "name": "stdout",
     "output_type": "stream",
     "text": [
      "Fitting 3 folds for each of 96 candidates, totalling 288 fits\n"
     ]
    },
    {
     "name": "stderr",
     "output_type": "stream",
     "text": [
      "D:\\ProjectML2 - Glaucoma\\pytorchGlaucoma\\Lib\\site-packages\\sklearn\\model_selection\\_validation.py:528: FitFailedWarning: \n",
      "144 fits failed out of a total of 288.\n",
      "The score on these train-test partitions for these parameters will be set to nan.\n",
      "If these failures are not expected, you can try to debug them by setting error_score='raise'.\n",
      "\n",
      "Below are more details about the failures:\n",
      "--------------------------------------------------------------------------------\n",
      "59 fits failed with the following error:\n",
      "Traceback (most recent call last):\n",
      "  File \"D:\\ProjectML2 - Glaucoma\\pytorchGlaucoma\\Lib\\site-packages\\sklearn\\model_selection\\_validation.py\", line 866, in _fit_and_score\n",
      "    estimator.fit(X_train, y_train, **fit_params)\n",
      "  File \"D:\\ProjectML2 - Glaucoma\\pytorchGlaucoma\\Lib\\site-packages\\sklearn\\base.py\", line 1382, in wrapper\n",
      "    estimator._validate_params()\n",
      "  File \"D:\\ProjectML2 - Glaucoma\\pytorchGlaucoma\\Lib\\site-packages\\sklearn\\base.py\", line 436, in _validate_params\n",
      "    validate_parameter_constraints(\n",
      "  File \"D:\\ProjectML2 - Glaucoma\\pytorchGlaucoma\\Lib\\site-packages\\sklearn\\utils\\_param_validation.py\", line 98, in validate_parameter_constraints\n",
      "    raise InvalidParameterError(\n",
      "sklearn.utils._param_validation.InvalidParameterError: The 'max_features' parameter of RandomForestClassifier must be an int in the range [1, inf), a float in the range (0.0, 1.0], a str among {'log2', 'sqrt'} or None. Got 'auto' instead.\n",
      "\n",
      "--------------------------------------------------------------------------------\n",
      "85 fits failed with the following error:\n",
      "Traceback (most recent call last):\n",
      "  File \"D:\\ProjectML2 - Glaucoma\\pytorchGlaucoma\\Lib\\site-packages\\sklearn\\model_selection\\_validation.py\", line 866, in _fit_and_score\n",
      "    estimator.fit(X_train, y_train, **fit_params)\n",
      "  File \"D:\\ProjectML2 - Glaucoma\\pytorchGlaucoma\\Lib\\site-packages\\sklearn\\base.py\", line 1382, in wrapper\n",
      "    estimator._validate_params()\n",
      "  File \"D:\\ProjectML2 - Glaucoma\\pytorchGlaucoma\\Lib\\site-packages\\sklearn\\base.py\", line 436, in _validate_params\n",
      "    validate_parameter_constraints(\n",
      "  File \"D:\\ProjectML2 - Glaucoma\\pytorchGlaucoma\\Lib\\site-packages\\sklearn\\utils\\_param_validation.py\", line 98, in validate_parameter_constraints\n",
      "    raise InvalidParameterError(\n",
      "sklearn.utils._param_validation.InvalidParameterError: The 'max_features' parameter of RandomForestClassifier must be an int in the range [1, inf), a float in the range (0.0, 1.0], a str among {'sqrt', 'log2'} or None. Got 'auto' instead.\n",
      "\n",
      "  warnings.warn(some_fits_failed_message, FitFailedWarning)\n",
      "D:\\ProjectML2 - Glaucoma\\pytorchGlaucoma\\Lib\\site-packages\\sklearn\\model_selection\\_search.py:1108: UserWarning: One or more of the test scores are non-finite: [       nan        nan        nan        nan        nan        nan\n",
      "        nan        nan 0.94086022 0.93548387 0.93010753 0.94086022\n",
      " 0.92473118 0.91935484 0.92473118 0.91935484        nan        nan\n",
      "        nan        nan        nan        nan        nan        nan\n",
      " 0.94086022 0.93548387 0.93010753 0.94086022 0.92473118 0.91935484\n",
      " 0.92473118 0.91935484        nan        nan        nan        nan\n",
      "        nan        nan        nan        nan 0.94086022 0.93548387\n",
      " 0.93010753 0.94086022 0.92473118 0.91935484 0.92473118 0.91935484\n",
      "        nan        nan        nan        nan        nan        nan\n",
      "        nan        nan 0.94086022 0.94086022 0.94623656 0.94086022\n",
      " 0.93548387 0.93548387 0.92473118 0.92473118        nan        nan\n",
      "        nan        nan        nan        nan        nan        nan\n",
      " 0.94086022 0.94086022 0.94623656 0.94086022 0.93548387 0.93548387\n",
      " 0.92473118 0.92473118        nan        nan        nan        nan\n",
      "        nan        nan        nan        nan 0.94086022 0.94086022\n",
      " 0.94623656 0.94086022 0.93548387 0.93548387 0.92473118 0.92473118]\n",
      "  warnings.warn(\n",
      "Extracting Features: 100%|███████████████████████| 5/5 [00:01<00:00,  3.15it/s]\n",
      "Extracting Features: 100%|███████████████████████| 2/2 [00:00<00:00,  5.51it/s]\n"
     ]
    },
    {
     "name": "stdout",
     "output_type": "stream",
     "text": [
      "Fitting 3 folds for each of 96 candidates, totalling 288 fits\n"
     ]
    },
    {
     "name": "stderr",
     "output_type": "stream",
     "text": [
      "D:\\ProjectML2 - Glaucoma\\pytorchGlaucoma\\Lib\\site-packages\\sklearn\\model_selection\\_validation.py:528: FitFailedWarning: \n",
      "144 fits failed out of a total of 288.\n",
      "The score on these train-test partitions for these parameters will be set to nan.\n",
      "If these failures are not expected, you can try to debug them by setting error_score='raise'.\n",
      "\n",
      "Below are more details about the failures:\n",
      "--------------------------------------------------------------------------------\n",
      "91 fits failed with the following error:\n",
      "Traceback (most recent call last):\n",
      "  File \"D:\\ProjectML2 - Glaucoma\\pytorchGlaucoma\\Lib\\site-packages\\sklearn\\model_selection\\_validation.py\", line 866, in _fit_and_score\n",
      "    estimator.fit(X_train, y_train, **fit_params)\n",
      "  File \"D:\\ProjectML2 - Glaucoma\\pytorchGlaucoma\\Lib\\site-packages\\sklearn\\base.py\", line 1382, in wrapper\n",
      "    estimator._validate_params()\n",
      "  File \"D:\\ProjectML2 - Glaucoma\\pytorchGlaucoma\\Lib\\site-packages\\sklearn\\base.py\", line 436, in _validate_params\n",
      "    validate_parameter_constraints(\n",
      "  File \"D:\\ProjectML2 - Glaucoma\\pytorchGlaucoma\\Lib\\site-packages\\sklearn\\utils\\_param_validation.py\", line 98, in validate_parameter_constraints\n",
      "    raise InvalidParameterError(\n",
      "sklearn.utils._param_validation.InvalidParameterError: The 'max_features' parameter of RandomForestClassifier must be an int in the range [1, inf), a float in the range (0.0, 1.0], a str among {'sqrt', 'log2'} or None. Got 'auto' instead.\n",
      "\n",
      "--------------------------------------------------------------------------------\n",
      "53 fits failed with the following error:\n",
      "Traceback (most recent call last):\n",
      "  File \"D:\\ProjectML2 - Glaucoma\\pytorchGlaucoma\\Lib\\site-packages\\sklearn\\model_selection\\_validation.py\", line 866, in _fit_and_score\n",
      "    estimator.fit(X_train, y_train, **fit_params)\n",
      "  File \"D:\\ProjectML2 - Glaucoma\\pytorchGlaucoma\\Lib\\site-packages\\sklearn\\base.py\", line 1382, in wrapper\n",
      "    estimator._validate_params()\n",
      "  File \"D:\\ProjectML2 - Glaucoma\\pytorchGlaucoma\\Lib\\site-packages\\sklearn\\base.py\", line 436, in _validate_params\n",
      "    validate_parameter_constraints(\n",
      "  File \"D:\\ProjectML2 - Glaucoma\\pytorchGlaucoma\\Lib\\site-packages\\sklearn\\utils\\_param_validation.py\", line 98, in validate_parameter_constraints\n",
      "    raise InvalidParameterError(\n",
      "sklearn.utils._param_validation.InvalidParameterError: The 'max_features' parameter of RandomForestClassifier must be an int in the range [1, inf), a float in the range (0.0, 1.0], a str among {'log2', 'sqrt'} or None. Got 'auto' instead.\n",
      "\n",
      "  warnings.warn(some_fits_failed_message, FitFailedWarning)\n",
      "D:\\ProjectML2 - Glaucoma\\pytorchGlaucoma\\Lib\\site-packages\\sklearn\\model_selection\\_search.py:1108: UserWarning: One or more of the test scores are non-finite: [       nan        nan        nan        nan        nan        nan\n",
      "        nan        nan 0.91397849 0.92473118 0.92473118 0.92473118\n",
      " 0.90860215 0.91935484 0.91397849 0.92473118        nan        nan\n",
      "        nan        nan        nan        nan        nan        nan\n",
      " 0.91397849 0.92473118 0.92473118 0.92473118 0.90860215 0.91935484\n",
      " 0.91397849 0.92473118        nan        nan        nan        nan\n",
      "        nan        nan        nan        nan 0.91397849 0.92473118\n",
      " 0.92473118 0.92473118 0.90860215 0.91935484 0.91397849 0.92473118\n",
      "        nan        nan        nan        nan        nan        nan\n",
      "        nan        nan 0.93548387 0.93548387 0.93010753 0.93548387\n",
      " 0.93010753 0.92473118 0.92473118 0.91935484        nan        nan\n",
      "        nan        nan        nan        nan        nan        nan\n",
      " 0.93548387 0.93548387 0.93010753 0.93548387 0.93010753 0.92473118\n",
      " 0.92473118 0.91935484        nan        nan        nan        nan\n",
      "        nan        nan        nan        nan 0.93548387 0.93548387\n",
      " 0.93010753 0.93548387 0.93010753 0.92473118 0.92473118 0.91935484]\n",
      "  warnings.warn(\n",
      "Extracting Features: 100%|███████████████████████| 5/5 [00:01<00:00,  3.17it/s]\n",
      "Extracting Features: 100%|███████████████████████| 2/2 [00:00<00:00,  5.48it/s]\n"
     ]
    },
    {
     "name": "stdout",
     "output_type": "stream",
     "text": [
      "Fitting 3 folds for each of 96 candidates, totalling 288 fits\n"
     ]
    },
    {
     "name": "stderr",
     "output_type": "stream",
     "text": [
      "D:\\ProjectML2 - Glaucoma\\pytorchGlaucoma\\Lib\\site-packages\\sklearn\\model_selection\\_validation.py:528: FitFailedWarning: \n",
      "144 fits failed out of a total of 288.\n",
      "The score on these train-test partitions for these parameters will be set to nan.\n",
      "If these failures are not expected, you can try to debug them by setting error_score='raise'.\n",
      "\n",
      "Below are more details about the failures:\n",
      "--------------------------------------------------------------------------------\n",
      "108 fits failed with the following error:\n",
      "Traceback (most recent call last):\n",
      "  File \"D:\\ProjectML2 - Glaucoma\\pytorchGlaucoma\\Lib\\site-packages\\sklearn\\model_selection\\_validation.py\", line 866, in _fit_and_score\n",
      "    estimator.fit(X_train, y_train, **fit_params)\n",
      "  File \"D:\\ProjectML2 - Glaucoma\\pytorchGlaucoma\\Lib\\site-packages\\sklearn\\base.py\", line 1382, in wrapper\n",
      "    estimator._validate_params()\n",
      "  File \"D:\\ProjectML2 - Glaucoma\\pytorchGlaucoma\\Lib\\site-packages\\sklearn\\base.py\", line 436, in _validate_params\n",
      "    validate_parameter_constraints(\n",
      "  File \"D:\\ProjectML2 - Glaucoma\\pytorchGlaucoma\\Lib\\site-packages\\sklearn\\utils\\_param_validation.py\", line 98, in validate_parameter_constraints\n",
      "    raise InvalidParameterError(\n",
      "sklearn.utils._param_validation.InvalidParameterError: The 'max_features' parameter of RandomForestClassifier must be an int in the range [1, inf), a float in the range (0.0, 1.0], a str among {'sqrt', 'log2'} or None. Got 'auto' instead.\n",
      "\n",
      "--------------------------------------------------------------------------------\n",
      "36 fits failed with the following error:\n",
      "Traceback (most recent call last):\n",
      "  File \"D:\\ProjectML2 - Glaucoma\\pytorchGlaucoma\\Lib\\site-packages\\sklearn\\model_selection\\_validation.py\", line 866, in _fit_and_score\n",
      "    estimator.fit(X_train, y_train, **fit_params)\n",
      "  File \"D:\\ProjectML2 - Glaucoma\\pytorchGlaucoma\\Lib\\site-packages\\sklearn\\base.py\", line 1382, in wrapper\n",
      "    estimator._validate_params()\n",
      "  File \"D:\\ProjectML2 - Glaucoma\\pytorchGlaucoma\\Lib\\site-packages\\sklearn\\base.py\", line 436, in _validate_params\n",
      "    validate_parameter_constraints(\n",
      "  File \"D:\\ProjectML2 - Glaucoma\\pytorchGlaucoma\\Lib\\site-packages\\sklearn\\utils\\_param_validation.py\", line 98, in validate_parameter_constraints\n",
      "    raise InvalidParameterError(\n",
      "sklearn.utils._param_validation.InvalidParameterError: The 'max_features' parameter of RandomForestClassifier must be an int in the range [1, inf), a float in the range (0.0, 1.0], a str among {'log2', 'sqrt'} or None. Got 'auto' instead.\n",
      "\n",
      "  warnings.warn(some_fits_failed_message, FitFailedWarning)\n",
      "D:\\ProjectML2 - Glaucoma\\pytorchGlaucoma\\Lib\\site-packages\\sklearn\\model_selection\\_search.py:1108: UserWarning: One or more of the test scores are non-finite: [       nan        nan        nan        nan        nan        nan\n",
      "        nan        nan 0.93700397 0.93171296 0.93171296 0.93171296\n",
      " 0.93700397 0.93700397 0.93171296 0.93171296        nan        nan\n",
      "        nan        nan        nan        nan        nan        nan\n",
      " 0.93700397 0.93171296 0.93171296 0.93171296 0.93700397 0.93700397\n",
      " 0.93171296 0.93171296        nan        nan        nan        nan\n",
      "        nan        nan        nan        nan 0.93700397 0.93171296\n",
      " 0.93171296 0.93171296 0.93700397 0.93700397 0.93171296 0.93171296\n",
      "        nan        nan        nan        nan        nan        nan\n",
      "        nan        nan 0.9422123  0.94750331 0.94750331 0.94750331\n",
      " 0.9422123  0.94750331 0.94229497 0.94750331        nan        nan\n",
      "        nan        nan        nan        nan        nan        nan\n",
      " 0.9422123  0.94750331 0.94750331 0.94750331 0.9422123  0.94750331\n",
      " 0.94229497 0.94750331        nan        nan        nan        nan\n",
      "        nan        nan        nan        nan 0.9422123  0.94750331\n",
      " 0.94750331 0.94750331 0.9422123  0.94750331 0.94229497 0.94750331]\n",
      "  warnings.warn(\n",
      "Extracting Features: 100%|███████████████████████| 5/5 [00:01<00:00,  2.98it/s]\n",
      "Extracting Features: 100%|███████████████████████| 2/2 [00:00<00:00,  5.20it/s]\n"
     ]
    },
    {
     "name": "stdout",
     "output_type": "stream",
     "text": [
      "Fitting 3 folds for each of 96 candidates, totalling 288 fits\n"
     ]
    },
    {
     "name": "stderr",
     "output_type": "stream",
     "text": [
      "D:\\ProjectML2 - Glaucoma\\pytorchGlaucoma\\Lib\\site-packages\\sklearn\\model_selection\\_validation.py:528: FitFailedWarning: \n",
      "144 fits failed out of a total of 288.\n",
      "The score on these train-test partitions for these parameters will be set to nan.\n",
      "If these failures are not expected, you can try to debug them by setting error_score='raise'.\n",
      "\n",
      "Below are more details about the failures:\n",
      "--------------------------------------------------------------------------------\n",
      "83 fits failed with the following error:\n",
      "Traceback (most recent call last):\n",
      "  File \"D:\\ProjectML2 - Glaucoma\\pytorchGlaucoma\\Lib\\site-packages\\sklearn\\model_selection\\_validation.py\", line 866, in _fit_and_score\n",
      "    estimator.fit(X_train, y_train, **fit_params)\n",
      "  File \"D:\\ProjectML2 - Glaucoma\\pytorchGlaucoma\\Lib\\site-packages\\sklearn\\base.py\", line 1382, in wrapper\n",
      "    estimator._validate_params()\n",
      "  File \"D:\\ProjectML2 - Glaucoma\\pytorchGlaucoma\\Lib\\site-packages\\sklearn\\base.py\", line 436, in _validate_params\n",
      "    validate_parameter_constraints(\n",
      "  File \"D:\\ProjectML2 - Glaucoma\\pytorchGlaucoma\\Lib\\site-packages\\sklearn\\utils\\_param_validation.py\", line 98, in validate_parameter_constraints\n",
      "    raise InvalidParameterError(\n",
      "sklearn.utils._param_validation.InvalidParameterError: The 'max_features' parameter of RandomForestClassifier must be an int in the range [1, inf), a float in the range (0.0, 1.0], a str among {'sqrt', 'log2'} or None. Got 'auto' instead.\n",
      "\n",
      "--------------------------------------------------------------------------------\n",
      "61 fits failed with the following error:\n",
      "Traceback (most recent call last):\n",
      "  File \"D:\\ProjectML2 - Glaucoma\\pytorchGlaucoma\\Lib\\site-packages\\sklearn\\model_selection\\_validation.py\", line 866, in _fit_and_score\n",
      "    estimator.fit(X_train, y_train, **fit_params)\n",
      "  File \"D:\\ProjectML2 - Glaucoma\\pytorchGlaucoma\\Lib\\site-packages\\sklearn\\base.py\", line 1382, in wrapper\n",
      "    estimator._validate_params()\n",
      "  File \"D:\\ProjectML2 - Glaucoma\\pytorchGlaucoma\\Lib\\site-packages\\sklearn\\base.py\", line 436, in _validate_params\n",
      "    validate_parameter_constraints(\n",
      "  File \"D:\\ProjectML2 - Glaucoma\\pytorchGlaucoma\\Lib\\site-packages\\sklearn\\utils\\_param_validation.py\", line 98, in validate_parameter_constraints\n",
      "    raise InvalidParameterError(\n",
      "sklearn.utils._param_validation.InvalidParameterError: The 'max_features' parameter of RandomForestClassifier must be an int in the range [1, inf), a float in the range (0.0, 1.0], a str among {'log2', 'sqrt'} or None. Got 'auto' instead.\n",
      "\n",
      "  warnings.warn(some_fits_failed_message, FitFailedWarning)\n",
      "D:\\ProjectML2 - Glaucoma\\pytorchGlaucoma\\Lib\\site-packages\\sklearn\\model_selection\\_search.py:1108: UserWarning: One or more of the test scores are non-finite: [       nan        nan        nan        nan        nan        nan\n",
      "        nan        nan 0.91935484 0.92473118 0.92473118 0.93010753\n",
      " 0.92473118 0.93010753 0.93010753 0.92473118        nan        nan\n",
      "        nan        nan        nan        nan        nan        nan\n",
      " 0.91935484 0.92473118 0.92473118 0.93010753 0.92473118 0.93010753\n",
      " 0.93010753 0.92473118        nan        nan        nan        nan\n",
      "        nan        nan        nan        nan 0.91935484 0.92473118\n",
      " 0.92473118 0.93010753 0.92473118 0.93010753 0.93010753 0.92473118\n",
      "        nan        nan        nan        nan        nan        nan\n",
      "        nan        nan 0.92473118 0.92473118 0.93548387 0.94086022\n",
      " 0.93010753 0.93010753 0.93548387 0.93548387        nan        nan\n",
      "        nan        nan        nan        nan        nan        nan\n",
      " 0.92473118 0.92473118 0.93548387 0.94086022 0.93010753 0.93010753\n",
      " 0.93548387 0.93548387        nan        nan        nan        nan\n",
      "        nan        nan        nan        nan 0.92473118 0.92473118\n",
      " 0.93548387 0.94086022 0.93010753 0.93010753 0.93548387 0.93548387]\n",
      "  warnings.warn(\n"
     ]
    },
    {
     "name": "stdout",
     "output_type": "stream",
     "text": [
      "Mean Cross-Validation Accuracy: 92.54%\n",
      "Mean Cross-Validation Precision: 0.92\n",
      "Mean Cross-Validation Recall: 0.85\n",
      "Mean Cross-Validation F1-Score: 0.88\n",
      "Mean Cross-Validation AUC-ROC: 0.91\n",
      "✅ Successfully completed k-fold cross-validation and saved results.\n"
     ]
    }
   ],
   "source": [
    "import os\n",
    "import torch\n",
    "import torchvision.transforms as transforms\n",
    "from torch.utils.data import DataLoader, Dataset\n",
    "import cv2\n",
    "import numpy as np\n",
    "from sklearn.metrics import accuracy_score, precision_score, recall_score, f1_score, roc_auc_score, confusion_matrix\n",
    "from sklearn.ensemble import RandomForestClassifier\n",
    "from imblearn.over_sampling import SMOTE\n",
    "from sklearn.model_selection import KFold\n",
    "from sklearn.preprocessing import StandardScaler\n",
    "from tqdm import tqdm\n",
    "from PIL import Image\n",
    "from torchvision import models\n",
    "import json\n",
    "\n",
    "# Define Paths for Test Data\n",
    "glaucoma_test_path = r\"D:\\ProjectML2 - Glaucoma\\FINALLLLLWORK\\RIM-ONE_DL_images\\partitioned_by_hospital\\test_set\\glaucoma\"\n",
    "normal_test_path = r\"D:\\ProjectML2 - Glaucoma\\FINALLLLLWORK\\RIM-ONE_DL_images\\partitioned_by_hospital\\test_set\\normal\"\n",
    "\n",
    "# Define Transformations for Test Data\n",
    "test_transform = transforms.Compose([\n",
    "    transforms.Resize((224, 224)),\n",
    "    transforms.ToTensor(),\n",
    "    transforms.Normalize(mean=[0.485, 0.456, 0.406], std=[0.229, 0.224, 0.225])\n",
    "])\n",
    "\n",
    "# Custom Dataset Class for Test Data\n",
    "class ExternalTestDataset(Dataset):\n",
    "    def __init__(self, image_paths, labels, transform=None):\n",
    "        self.image_paths = image_paths\n",
    "        self.labels = labels\n",
    "        self.transform = transform\n",
    "\n",
    "    def __len__(self):\n",
    "        return len(self.image_paths)\n",
    "\n",
    "    def __getitem__(self, idx):\n",
    "        img_path = self.image_paths[idx]\n",
    "        image = cv2.imread(img_path)\n",
    "        image = cv2.cvtColor(image, cv2.COLOR_BGR2RGB)\n",
    "        image = Image.fromarray(image)\n",
    "        \n",
    "        if self.transform:\n",
    "            image = self.transform(image)\n",
    "\n",
    "        label = self.labels[idx]\n",
    "        return image, label\n",
    "\n",
    "# Load Image Paths and Labels\n",
    "def load_image_paths_and_labels(glaucoma_path, normal_path):\n",
    "    image_paths = []\n",
    "    labels = []\n",
    "    \n",
    "    for img_name in os.listdir(glaucoma_path):\n",
    "        image_paths.append(os.path.join(glaucoma_path, img_name))\n",
    "        labels.append(1)  # Glaucoma: 1\n",
    "    \n",
    "    for img_name in os.listdir(normal_path):\n",
    "        image_paths.append(os.path.join(normal_path, img_name))\n",
    "        labels.append(0)  # Normal: 0\n",
    "    \n",
    "    return image_paths, labels\n",
    "\n",
    "# Load Test Data\n",
    "external_images, external_labels = load_image_paths_and_labels(glaucoma_test_path, normal_test_path)\n",
    "external_test_dataset = ExternalTestDataset(external_images, external_labels, transform=test_transform)\n",
    "\n",
    "# Set Device and Load Fine-Tuned ResNet50 Model\n",
    "device = torch.device(\"cuda\" if torch.cuda.is_available() else \"cpu\")\n",
    "resnet50 = models.resnet50(weights='IMAGENET1K_V1')\n",
    "resnet50.fc = torch.nn.Identity()  # Replace fc layer with Identity for feature extraction\n",
    "resnet50.load_state_dict(torch.load(r\"D:\\ProjectML2 - Glaucoma\\FINALLLLLWORK\\ResNet50_augmented.pth\"), strict=False)  # Load with strict=False\n",
    "resnet50.to(device)\n",
    "resnet50.eval()\n",
    "\n",
    "# Feature Extraction Function\n",
    "def extract_features_for_rf(loader, model, device):\n",
    "    features_list = []\n",
    "    labels_list = []\n",
    "\n",
    "    with torch.no_grad():\n",
    "        for images, labels in tqdm(loader, desc=\"Extracting Features\"):\n",
    "            images = images.to(device)\n",
    "            outputs = model(images)  # Extract features\n",
    "            features_list.append(outputs.cpu().numpy())\n",
    "            labels_list.append(labels.numpy())\n",
    "\n",
    "    features = np.concatenate(features_list, axis=0)\n",
    "    labels = np.concatenate(labels_list, axis=0)\n",
    "    return features, labels\n",
    "\n",
    "# k-Fold Cross-Validation\n",
    "kf = KFold(n_splits=5, shuffle=True, random_state=42)\n",
    "\n",
    "# Store results\n",
    "all_accuracy = []\n",
    "all_precision = []\n",
    "all_recall = []\n",
    "all_f1 = []\n",
    "all_auc = []\n",
    "\n",
    "for train_idx, val_idx in kf.split(external_images):\n",
    "    # Split data for the current fold\n",
    "    train_images = [external_images[i] for i in train_idx]\n",
    "    val_images = [external_images[i] for i in val_idx]\n",
    "    train_labels = [external_labels[i] for i in train_idx]\n",
    "    val_labels = [external_labels[i] for i in val_idx]\n",
    "    \n",
    "    # Create DataLoader for the current fold\n",
    "    train_dataset = ExternalTestDataset(train_images, train_labels, transform=test_transform)\n",
    "    val_dataset = ExternalTestDataset(val_images, val_labels, transform=test_transform)\n",
    "    train_loader = DataLoader(train_dataset, batch_size=32, shuffle=True)\n",
    "    val_loader = DataLoader(val_dataset, batch_size=32, shuffle=False)\n",
    "    \n",
    "    # Extract features for Random Forest\n",
    "    X_train, y_train = extract_features_for_rf(train_loader, resnet50, device)\n",
    "    X_val, y_val = extract_features_for_rf(val_loader, resnet50, device)\n",
    "    \n",
    "    # Normalize Features\n",
    "    scaler = StandardScaler()\n",
    "    X_train = scaler.fit_transform(X_train)\n",
    "    X_val = scaler.transform(X_val)\n",
    "\n",
    "    # Apply SMOTE for Oversampling\n",
    "    smote = SMOTE(random_state=42)\n",
    "    X_train_resampled, y_train_resampled = smote.fit_resample(X_train, y_train)\n",
    "    \n",
    "    # Train Random Forest with GridSearchCV\n",
    "    param_grid = {\n",
    "        'n_estimators': [100, 200],\n",
    "        'max_depth': [10, 20, None],\n",
    "        'min_samples_split': [2, 5],\n",
    "        'min_samples_leaf': [1, 2],\n",
    "        'max_features': ['auto', 'log2'],\n",
    "        'bootstrap': [True, False]\n",
    "    }\n",
    "    rf_clf = RandomForestClassifier(random_state=42)\n",
    "    grid_search = GridSearchCV(rf_clf, param_grid, cv=3, scoring='accuracy', n_jobs=-1, verbose=2)\n",
    "    grid_search.fit(X_train_resampled, y_train_resampled)\n",
    "    \n",
    "    best_rf_clf = grid_search.best_estimator_\n",
    "\n",
    "    # Evaluate Random Forest on Validation Data\n",
    "    val_preds = best_rf_clf.predict(X_val)\n",
    "    accuracy = accuracy_score(y_val, val_preds) * 100\n",
    "    precision = precision_score(y_val, val_preds, zero_division=1)\n",
    "    recall = recall_score(y_val, val_preds, zero_division=1)\n",
    "    f1 = f1_score(y_val, val_preds, zero_division=1)\n",
    "    auc = roc_auc_score(y_val, val_preds)\n",
    "    cm = confusion_matrix(y_val, val_preds)\n",
    "\n",
    "    # Append results for each fold\n",
    "    all_accuracy.append(accuracy)\n",
    "    all_precision.append(precision)\n",
    "    all_recall.append(recall)\n",
    "    all_f1.append(f1)\n",
    "    all_auc.append(auc)\n",
    "\n",
    "# Calculate mean results across all folds\n",
    "mean_accuracy = np.mean(all_accuracy)\n",
    "mean_precision = np.mean(all_precision)\n",
    "mean_recall = np.mean(all_recall)\n",
    "mean_f1 = np.mean(all_f1)\n",
    "mean_auc = np.mean(all_auc)\n",
    "\n",
    "# Display Results\n",
    "print(f\"Mean Cross-Validation Accuracy: {mean_accuracy:.2f}%\")\n",
    "print(f\"Mean Cross-Validation Precision: {mean_precision:.2f}\")\n",
    "print(f\"Mean Cross-Validation Recall: {mean_recall:.2f}\")\n",
    "print(f\"Mean Cross-Validation F1-Score: {mean_f1:.2f}\")\n",
    "print(f\"Mean Cross-Validation AUC-ROC: {mean_auc:.2f}\")\n",
    "\n",
    "# Save Cross-Validation Results to a File\n",
    "cv_results = {\n",
    "    \"Mean Accuracy\": mean_accuracy,\n",
    "    \"Mean Precision\": mean_precision,\n",
    "    \"Mean Recall\": mean_recall,\n",
    "    \"Mean F1-Score\": mean_f1,\n",
    "    \"Mean AUC-ROC\": mean_auc\n",
    "}\n",
    "\n",
    "cv_results_path = r\"D:\\ProjectML2 - Glaucoma\\FINALLLLLWORK\\cross_validation_results.json\"\n",
    "with open(cv_results_path, 'w') as f:\n",
    "    json.dump(cv_results, f, indent=4)\n",
    "\n",
    "print(\"✅ Successfully completed k-fold cross-validation and saved results.\")\n"
   ]
  },
  {
   "cell_type": "code",
   "execution_count": 21,
   "id": "0f78e86f-dc2a-421b-883a-56265f60043c",
   "metadata": {},
   "outputs": [
    {
     "name": "stdout",
     "output_type": "stream",
     "text": [
      "Mean Cross-Validation Accuracy: 92.54%\n"
     ]
    }
   ],
   "source": [
    "mean_accuracy = np.mean(all_accuracy)\n",
    "print(f\"Mean Cross-Validation Accuracy: {mean_accuracy:.2f}%\")"
   ]
  },
  {
   "cell_type": "code",
   "execution_count": 43,
   "id": "10336626-cdcc-4a9d-b644-fafcb5e3f80d",
   "metadata": {},
   "outputs": [
    {
     "name": "stderr",
     "output_type": "stream",
     "text": [
      "Extracting Features: 100%|███████████████████████| 5/5 [00:01<00:00,  3.14it/s]\n",
      "Extracting Features: 100%|███████████████████████| 2/2 [00:00<00:00,  5.90it/s]\n",
      "Extracting Features: 100%|███████████████████████| 5/5 [00:01<00:00,  3.46it/s]\n",
      "Extracting Features: 100%|███████████████████████| 2/2 [00:00<00:00,  5.89it/s]\n",
      "Extracting Features: 100%|███████████████████████| 5/5 [00:01<00:00,  3.35it/s]\n",
      "Extracting Features: 100%|███████████████████████| 2/2 [00:00<00:00,  5.30it/s]\n",
      "Extracting Features: 100%|███████████████████████| 5/5 [00:01<00:00,  3.46it/s]\n",
      "Extracting Features: 100%|███████████████████████| 2/2 [00:00<00:00,  5.82it/s]\n",
      "Extracting Features: 100%|███████████████████████| 5/5 [00:01<00:00,  3.46it/s]\n",
      "Extracting Features: 100%|███████████████████████| 2/2 [00:00<00:00,  4.95it/s]\n"
     ]
    },
    {
     "data": {
      "image/png": "[encoded data removed]",
      "text/plain": [
       "<Figure size 1000x800 with 1 Axes>"
      ]
     },
     "metadata": {},
     "output_type": "display_data"
    }
   ],
   "source": [
    "import os\n",
    "import torch\n",
    "import torchvision.transforms as transforms\n",
    "from torch.utils.data import DataLoader, Dataset\n",
    "import cv2\n",
    "import numpy as np\n",
    "from sklearn.metrics import accuracy_score, precision_score, recall_score, f1_score, roc_auc_score, confusion_matrix, roc_curve, auc\n",
    "from sklearn.ensemble import RandomForestClassifier\n",
    "from sklearn.model_selection import KFold, GridSearchCV\n",
    "from sklearn.preprocessing import StandardScaler\n",
    "from tqdm import tqdm\n",
    "from PIL import Image\n",
    "from torchvision import models\n",
    "import matplotlib.pyplot as plt\n",
    "import json\n",
    "from imblearn.over_sampling import SMOTE\n",
    "\n",
    "# Define Paths for Test Data\n",
    "glaucoma_test_path = r\"D:\\ProjectML2 - Glaucoma\\FINALLLLLWORK\\RIM-ONE_DL_images\\partitioned_by_hospital\\test_set\\glaucoma\"\n",
    "normal_test_path = r\"D:\\ProjectML2 - Glaucoma\\FINALLLLLWORK\\RIM-ONE_DL_images\\partitioned_by_hospital\\test_set\\normal\"\n",
    "\n",
    "# Define Transformations for Test Data\n",
    "test_transform = transforms.Compose([\n",
    "    transforms.Resize((224, 224)),\n",
    "    transforms.ToTensor(),\n",
    "    transforms.Normalize(mean=[0.485, 0.456, 0.406], std=[0.229, 0.224, 0.225])\n",
    "])\n",
    "\n",
    "# Custom Dataset Class for Test Data\n",
    "class ExternalTestDataset(Dataset):\n",
    "    def __init__(self, image_paths, labels, transform=None):\n",
    "        self.image_paths = image_paths\n",
    "        self.labels = labels\n",
    "        self.transform = transform\n",
    "\n",
    "    def __len__(self):\n",
    "        return len(self.image_paths)\n",
    "\n",
    "    def __getitem__(self, idx):\n",
    "        img_path = self.image_paths[idx]\n",
    "        image = cv2.imread(img_path)\n",
    "        image = cv2.cvtColor(image, cv2.COLOR_BGR2RGB)\n",
    "        image = Image.fromarray(image)\n",
    "        \n",
    "        if self.transform:\n",
    "            image = self.transform(image)\n",
    "\n",
    "        label = self.labels[idx]\n",
    "        return image, label\n",
    "\n",
    "# Load Image Paths and Labels\n",
    "def load_image_paths_and_labels(glaucoma_path, normal_path):\n",
    "    image_paths = []\n",
    "    labels = []\n",
    "    \n",
    "    for img_name in os.listdir(glaucoma_path):\n",
    "        image_paths.append(os.path.join(glaucoma_path, img_name))\n",
    "        labels.append(1)  # Glaucoma: 1\n",
    "    \n",
    "    for img_name in os.listdir(normal_path):\n",
    "        image_paths.append(os.path.join(normal_path, img_name))\n",
    "        labels.append(0)  # Normal: 0\n",
    "    \n",
    "    return image_paths, labels\n",
    "\n",
    "# Load Test Data\n",
    "external_images, external_labels = load_image_paths_and_labels(glaucoma_test_path, normal_test_path)\n",
    "external_test_dataset = ExternalTestDataset(external_images, external_labels, transform=test_transform)\n",
    "\n",
    "# Set Device and Load Fine-Tuned ResNet50 Model\n",
    "device = torch.device(\"cuda\" if torch.cuda.is_available() else \"cpu\")\n",
    "resnet50 = models.resnet50(weights='IMAGENET1K_V1')\n",
    "resnet50.fc = torch.nn.Identity()  # Replace fc layer with Identity for feature extraction\n",
    "resnet50.load_state_dict(torch.load(r\"D:\\ProjectML2 - Glaucoma\\FINALLLLLWORK\\ResNet50_augmented.pth\"), strict=False)\n",
    "resnet50.to(device)\n",
    "resnet50.eval()\n",
    "\n",
    "# Feature Extraction Function\n",
    "def extract_features_for_rf(loader, model, device):\n",
    "    features_list = []\n",
    "    labels_list = []\n",
    "\n",
    "    with torch.no_grad():\n",
    "        for images, labels in tqdm(loader, desc=\"Extracting Features\"):\n",
    "            images = images.to(device)\n",
    "            outputs = model(images)\n",
    "            features_list.append(outputs.cpu().numpy())\n",
    "            labels_list.append(labels.numpy())\n",
    "\n",
    "    features = np.concatenate(features_list, axis=0)\n",
    "    labels = np.concatenate(labels_list, axis=0)\n",
    "    return features, labels\n",
    "\n",
    "# k-Fold Cross-Validation\n",
    "kf = KFold(n_splits=5, shuffle=True, random_state=42)\n",
    "\n",
    "# Initialize variables for ROC Curve\n",
    "all_fpr = []\n",
    "all_tpr = []\n",
    "roc_auc_list = []\n",
    "\n",
    "# Perform k-Fold Cross-Validation\n",
    "for train_idx, val_idx in kf.split(external_images):\n",
    "    train_images = [external_images[i] for i in train_idx]\n",
    "    val_images = [external_images[i] for i in val_idx]\n",
    "    train_labels = [external_labels[i] for i in train_idx]\n",
    "    val_labels = [external_labels[i] for i in val_idx]\n",
    "\n",
    "    # DataLoader for current fold\n",
    "    train_loader = DataLoader(ExternalTestDataset(train_images, train_labels, transform=test_transform), batch_size=32, shuffle=True)\n",
    "    val_loader = DataLoader(ExternalTestDataset(val_images, val_labels, transform=test_transform), batch_size=32, shuffle=False)\n",
    "\n",
    "    X_train, y_train = extract_features_for_rf(train_loader, resnet50, device)\n",
    "    X_val, y_val = extract_features_for_rf(val_loader, resnet50, device)\n",
    "\n",
    "    scaler = StandardScaler()\n",
    "    X_train = scaler.fit_transform(X_train)\n",
    "    X_val = scaler.transform(X_val)\n",
    "\n",
    "    smote = SMOTE(random_state=42)\n",
    "    X_train, y_train = smote.fit_resample(X_train, y_train)\n",
    "\n",
    "    rf_clf = RandomForestClassifier(random_state=42)\n",
    "    rf_clf.fit(X_train, y_train)\n",
    "    \n",
    "    y_val_proba = rf_clf.predict_proba(X_val)[:, 1]\n",
    "\n",
    "    fpr, tpr, _ = roc_curve(y_val, y_val_proba)\n",
    "    roc_auc = auc(fpr, tpr)\n",
    "\n",
    "    all_fpr.append(fpr)\n",
    "    all_tpr.append(tpr)\n",
    "    roc_auc_list.append(roc_auc)\n",
    "\n",
    "# Plot ROC Curve\n",
    "plt.figure(figsize=(10, 8))\n",
    "for i, (fpr, tpr, roc_auc) in enumerate(zip(all_fpr, all_tpr, roc_auc_list)):\n",
    "    plt.plot(fpr, tpr, label=f'Fold {i+1} (AUC = {roc_auc:.2f})')\n",
    "\n",
    "plt.plot([0, 1], [0, 1], color='red', linestyle='--')\n",
    "plt.xlabel('False Positive Rate')\n",
    "plt.ylabel('True Positive Rate')\n",
    "plt.title('ROC Curve - Random Forest with ResNet50 Features')\n",
    "plt.legend(loc='lower right')\n",
    "plt.show()\n"
   ]
  },
  {
   "cell_type": "code",
   "execution_count": null,
   "id": "57eaa8b4-2353-41b9-9718-b4333fa8a105",
   "metadata": {},
   "outputs": [],
   "source": []
  },
  {
   "cell_type": "code",
   "execution_count": null,
   "id": "bba8f6f0-0ab7-4ae7-a6f1-1fed75e31a75",
   "metadata": {},
   "outputs": [],
   "source": []
  },
  {
   "cell_type": "code",
   "execution_count": null,
   "id": "138fa048-875b-4794-9ebf-cc53084d5b95",
   "metadata": {},
   "outputs": [],
   "source": []
  },
  {
   "cell_type": "code",
   "execution_count": null,
   "id": "9dfc52c7-a4c1-408a-837b-caeeb63b6057",
   "metadata": {},
   "outputs": [],
   "source": []
  },
  {
   "cell_type": "code",
   "execution_count": null,
   "id": "e43bac67-3068-4f57-8814-137d468678ab",
   "metadata": {},
   "outputs": [],
   "source": []
  },
  {
   "cell_type": "code",
   "execution_count": null,
   "id": "0fbf4145-301c-44e3-9288-2c8614205269",
   "metadata": {},
   "outputs": [],
   "source": []
  },
  {
   "cell_type": "code",
   "execution_count": null,
   "id": "19887197-cfaa-4ba3-82c0-3654468ab52e",
   "metadata": {},
   "outputs": [],
   "source": []
  },
  {
   "cell_type": "code",
   "execution_count": null,
   "id": "069f6d2d-2051-4b13-a16c-9746aa40d072",
   "metadata": {},
   "outputs": [],
   "source": []
  },
  {
   "cell_type": "code",
   "execution_count": null,
   "id": "3ccead8a-9b9c-40c9-a870-1cf3ef654314",
   "metadata": {},
   "outputs": [],
   "source": []
  },
  {
   "cell_type": "code",
   "execution_count": null,
   "id": "f522d55e-30e1-40a5-bdf6-e1b6d2257189",
   "metadata": {},
   "outputs": [],
   "source": []
  },
  {
   "cell_type": "code",
   "execution_count": null,
   "id": "8951686f-10d7-4760-9114-828ecc8581ca",
   "metadata": {},
   "outputs": [],
   "source": []
  },
  {
   "cell_type": "code",
   "execution_count": null,
   "id": "deb92027-b76a-4fc2-b450-27d3d843718b",
   "metadata": {},
   "outputs": [],
   "source": []
  },
  {
   "cell_type": "code",
   "execution_count": null,
   "id": "b9838dc8-d510-41e6-ad73-1b6af6432ebb",
   "metadata": {},
   "outputs": [],
   "source": []
  },
  {
   "cell_type": "code",
   "execution_count": null,
   "id": "e1eb0f0c-fedd-4909-b681-08cb7ef66906",
   "metadata": {},
   "outputs": [],
   "source": []
  },
  {
   "cell_type": "code",
   "execution_count": null,
   "id": "4c9d5ac1-f81e-40e6-8b77-98a3bc2195de",
   "metadata": {},
   "outputs": [],
   "source": []
  },
  {
   "cell_type": "code",
   "execution_count": 22,
   "id": "64225d22-ecda-4516-89b6-85298b6e959f",
   "metadata": {},
   "outputs": [
    {
     "name": "stderr",
     "output_type": "stream",
     "text": [
      "Extracting Features: 100%|███████████████████████| 6/6 [00:01<00:00,  3.15it/s]\n"
     ]
    },
    {
     "name": "stdout",
     "output_type": "stream",
     "text": [
      "Fitting 3 folds for each of 72 candidates, totalling 216 fits\n"
     ]
    },
    {
     "name": "stderr",
     "output_type": "stream",
     "text": [
      "Extracting Features: 100%|███████████████████████| 6/6 [00:01<00:00,  3.85it/s]"
     ]
    },
    {
     "name": "stdout",
     "output_type": "stream",
     "text": [
      "{'Accuracy': 100.0, 'Precision': 1.0, 'Recall': 1.0, 'F1-Score': 1.0, 'AUC-ROC': np.float64(1.0), 'Confusion Matrix': [[118, 0], [0, 56]]}\n"
     ]
    },
    {
     "name": "stderr",
     "output_type": "stream",
     "text": [
      "\n"
     ]
    }
   ],
   "source": [
    "import xgboost as xgb\n",
    "from sklearn.model_selection import GridSearchCV\n",
    "\n",
    "# Prepare data\n",
    "X_train, y_train = extract_features_for_rf(external_test_loader, resnet50, device)\n",
    "scaler = StandardScaler()\n",
    "X_train = scaler.fit_transform(X_train)\n",
    "\n",
    "# Hyperparameters for tuning XGBoost\n",
    "param_grid_xgb = {\n",
    "    'learning_rate': [0.01, 0.1],\n",
    "    'max_depth': [3, 5, 7],\n",
    "    'n_estimators': [50, 100, 200],\n",
    "    'subsample': [0.7, 0.8],\n",
    "    'colsample_bytree': [0.7, 0.8]\n",
    "}\n",
    "\n",
    "xgb_model = xgb.XGBClassifier(random_state=42)\n",
    "grid_search_xgb = GridSearchCV(xgb_model, param_grid_xgb, cv=3, scoring='accuracy', n_jobs=-1, verbose=2)\n",
    "grid_search_xgb.fit(X_train, y_train)\n",
    "\n",
    "# Get the best model\n",
    "best_xgb_model = grid_search_xgb.best_estimator_\n",
    "\n",
    "# Evaluate the best XGBoost model\n",
    "xgb_results = evaluate_random_forest(best_xgb_model, external_test_loader, scaler, device)\n",
    "print(xgb_results)\n"
   ]
  },
  {
   "cell_type": "code",
   "execution_count": 27,
   "id": "1ed06161-f6e9-49bb-a6c7-de0341037689",
   "metadata": {
    "scrolled": true
   },
   "outputs": [
    {
     "name": "stdout",
     "output_type": "stream",
     "text": [
      "\n",
      "--- Fold 1/5 ---\n"
     ]
    },
    {
     "name": "stderr",
     "output_type": "stream",
     "text": [
      "Extracting Features: 100%|███████████████████████| 5/5 [00:01<00:00,  3.11it/s]\n",
      "Extracting Features: 100%|███████████████████████| 2/2 [00:00<00:00,  5.69it/s]\n"
     ]
    },
    {
     "name": "stdout",
     "output_type": "stream",
     "text": [
      "Training XGBoost model with GridSearchCV...\n",
      "Fitting 3 folds for each of 72 candidates, totalling 216 fits\n",
      "Best parameters: {'colsample_bytree': 0.7, 'learning_rate': 0.01, 'max_depth': 3, 'n_estimators': 200, 'subsample': 0.7}\n",
      "Fold 1 Results:\n",
      "  Accuracy: 85.71%\n",
      "  Precision: 0.9167\n",
      "  Recall: 0.7333\n",
      "  F1-Score: 0.8148\n",
      "  AUC-ROC: 0.8933\n",
      "  Confusion Matrix:\n",
      "[[19  1]\n",
      " [ 4 11]]\n",
      "\n",
      "--- Fold 2/5 ---\n"
     ]
    },
    {
     "name": "stderr",
     "output_type": "stream",
     "text": [
      "Extracting Features: 100%|███████████████████████| 5/5 [00:01<00:00,  3.20it/s]\n",
      "Extracting Features: 100%|███████████████████████| 2/2 [00:00<00:00,  6.25it/s]\n"
     ]
    },
    {
     "name": "stdout",
     "output_type": "stream",
     "text": [
      "Training XGBoost model with GridSearchCV...\n",
      "Fitting 3 folds for each of 72 candidates, totalling 216 fits\n",
      "Best parameters: {'colsample_bytree': 0.7, 'learning_rate': 0.1, 'max_depth': 3, 'n_estimators': 50, 'subsample': 0.7}\n",
      "Fold 2 Results:\n",
      "  Accuracy: 91.43%\n",
      "  Precision: 0.8889\n",
      "  Recall: 0.8000\n",
      "  F1-Score: 0.8421\n",
      "  AUC-ROC: 0.9600\n",
      "  Confusion Matrix:\n",
      "[[24  1]\n",
      " [ 2  8]]\n",
      "\n",
      "--- Fold 3/5 ---\n"
     ]
    },
    {
     "name": "stderr",
     "output_type": "stream",
     "text": [
      "Extracting Features: 100%|███████████████████████| 5/5 [00:01<00:00,  3.75it/s]\n",
      "Extracting Features: 100%|███████████████████████| 2/2 [00:00<00:00,  5.95it/s]\n"
     ]
    },
    {
     "name": "stdout",
     "output_type": "stream",
     "text": [
      "Training XGBoost model with GridSearchCV...\n",
      "Fitting 3 folds for each of 72 candidates, totalling 216 fits\n",
      "Best parameters: {'colsample_bytree': 0.7, 'learning_rate': 0.01, 'max_depth': 3, 'n_estimators': 200, 'subsample': 0.7}\n",
      "Fold 3 Results:\n",
      "  Accuracy: 94.29%\n",
      "  Precision: 0.9000\n",
      "  Recall: 0.9000\n",
      "  F1-Score: 0.9000\n",
      "  AUC-ROC: 0.9960\n",
      "  Confusion Matrix:\n",
      "[[24  1]\n",
      " [ 1  9]]\n",
      "\n",
      "--- Fold 4/5 ---\n"
     ]
    },
    {
     "name": "stderr",
     "output_type": "stream",
     "text": [
      "Extracting Features: 100%|███████████████████████| 5/5 [00:01<00:00,  3.20it/s]\n",
      "Extracting Features: 100%|███████████████████████| 2/2 [00:00<00:00,  6.20it/s]\n"
     ]
    },
    {
     "name": "stdout",
     "output_type": "stream",
     "text": [
      "Training XGBoost model with GridSearchCV...\n",
      "Fitting 3 folds for each of 72 candidates, totalling 216 fits\n",
      "Best parameters: {'colsample_bytree': 0.7, 'learning_rate': 0.1, 'max_depth': 3, 'n_estimators': 50, 'subsample': 0.7}\n",
      "Fold 4 Results:\n",
      "  Accuracy: 91.43%\n",
      "  Precision: 0.9091\n",
      "  Recall: 0.8333\n",
      "  F1-Score: 0.8696\n",
      "  AUC-ROC: 0.9638\n",
      "  Confusion Matrix:\n",
      "[[22  1]\n",
      " [ 2 10]]\n",
      "\n",
      "--- Fold 5/5 ---\n"
     ]
    },
    {
     "name": "stderr",
     "output_type": "stream",
     "text": [
      "Extracting Features: 100%|███████████████████████| 5/5 [00:01<00:00,  3.24it/s]\n",
      "Extracting Features: 100%|███████████████████████| 2/2 [00:00<00:00,  6.66it/s]\n"
     ]
    },
    {
     "name": "stdout",
     "output_type": "stream",
     "text": [
      "Training XGBoost model with GridSearchCV...\n",
      "Fitting 3 folds for each of 72 candidates, totalling 216 fits\n",
      "Best parameters: {'colsample_bytree': 0.7, 'learning_rate': 0.01, 'max_depth': 3, 'n_estimators': 200, 'subsample': 0.7}\n",
      "Fold 5 Results:\n",
      "  Accuracy: 94.12%\n",
      "  Precision: 1.0000\n",
      "  Recall: 0.7778\n",
      "  F1-Score: 0.8750\n",
      "  AUC-ROC: 0.9956\n",
      "  Confusion Matrix:\n",
      "[[25  0]\n",
      " [ 2  7]]\n",
      "\n",
      "--- K-Fold Cross-Validation Results ---\n",
      "Mean Accuracy: 91.39% ± 3.10%\n",
      "Mean Precision: 0.9229 ± 0.0396\n",
      "Mean Recall: 0.8089 ± 0.0560\n",
      "Mean F1-Score: 0.8603 ± 0.0293\n",
      "Mean AUC-ROC: 0.9617 ± 0.0374\n",
      "Average Confusion Matrix:\n",
      "[[22.8  0.8]\n",
      " [ 2.2  9. ]]\n",
      "\n",
      "✅ Successfully completed k-fold cross-validation for XGBoost and saved results to D:\\ProjectML2 - Glaucoma\\FINALLLLLWORK\\xgboost_cv_results.json\n",
      "✅ Saved best XGBoost model to D:\\ProjectML2 - Glaucoma\\FINALLLLLWORK\\best_xgboost_model.joblib\n",
      "\n",
      "--- Feature Importance Analysis ---\n",
      "Top 10 Most Important Features:\n",
      "1. Feature 556: 0.0155\n",
      "2. Feature 292: 0.0157\n",
      "3. Feature 695: 0.0159\n",
      "4. Feature 458: 0.0165\n",
      "5. Feature 1454: 0.0165\n",
      "6. Feature 1710: 0.0177\n",
      "7. Feature 1902: 0.0232\n",
      "8. Feature 1214: 0.0256\n",
      "9. Feature 1600: 0.0270\n",
      "10. Feature 762: 0.0297\n",
      "✅ Saved feature importance analysis to D:\\ProjectML2 - Glaucoma\\FINALLLLLWORK\\xgboost_feature_importance.json\n"
     ]
    }
   ],
   "source": [
    "# Import necessary libraries\n",
    "import os\n",
    "import torch\n",
    "import numpy as np\n",
    "import xgboost as xgb\n",
    "from sklearn.preprocessing import StandardScaler\n",
    "from sklearn.model_selection import KFold, GridSearchCV\n",
    "from sklearn.metrics import accuracy_score, precision_score, recall_score, f1_score, roc_auc_score, confusion_matrix\n",
    "from tqdm import tqdm\n",
    "import json\n",
    "\n",
    "# Function to extract features using the ResNet50 model\n",
    "def extract_features_for_rf(loader, model, device):\n",
    "    features_list = []\n",
    "    labels_list = []\n",
    "\n",
    "    with torch.no_grad():\n",
    "        for images, labels in tqdm(loader, desc=\"Extracting Features\"):\n",
    "            images = images.to(device)\n",
    "            outputs = model(images)  # Extract features\n",
    "            features_list.append(outputs.cpu().numpy())\n",
    "            labels_list.append(labels.numpy())\n",
    "\n",
    "    features = np.concatenate(features_list, axis=0)\n",
    "    labels = np.concatenate(labels_list, axis=0)\n",
    "    return features, labels\n",
    "\n",
    "# Load your data (using your existing ExternalTestDataset and DataLoader)\n",
    "# For this example, I'm assuming external_test_dataset is already created\n",
    "\n",
    "# K-Fold Cross-Validation Setup\n",
    "kf = KFold(n_splits=5, shuffle=True, random_state=42)\n",
    "\n",
    "# Store results for each fold\n",
    "all_accuracy = []\n",
    "all_precision = []\n",
    "all_recall = []\n",
    "all_f1 = []\n",
    "all_auc = []\n",
    "all_cm = []\n",
    "\n",
    "# Parameters for XGBoost\n",
    "param_grid_xgb = {\n",
    "    'learning_rate': [0.01, 0.1],\n",
    "    'max_depth': [3, 5, 7],\n",
    "    'n_estimators': [50, 100, 200],\n",
    "    'subsample': [0.7, 0.8],\n",
    "    'colsample_bytree': [0.7, 0.8]\n",
    "}\n",
    "\n",
    "# Get a list of all images and labels from the dataset\n",
    "all_images = [external_images[i] for i in range(len(external_images))]\n",
    "all_labels = [external_labels[i] for i in range(len(external_labels))]\n",
    "\n",
    "# Loop through each fold\n",
    "for fold, (train_idx, val_idx) in enumerate(kf.split(all_images)):\n",
    "    print(f\"\\n--- Fold {fold+1}/5 ---\")\n",
    "    \n",
    "    # Split data for the current fold\n",
    "    train_images = [all_images[i] for i in train_idx]\n",
    "    val_images = [all_images[i] for i in val_idx]\n",
    "    train_labels = [all_labels[i] for i in train_idx]\n",
    "    val_labels = [all_labels[i] for i in val_idx]\n",
    "    \n",
    "    # Create DataLoader for the current fold\n",
    "    train_dataset = ExternalTestDataset(train_images, train_labels, transform=test_transform)\n",
    "    val_dataset = ExternalTestDataset(val_images, val_labels, transform=test_transform)\n",
    "    train_loader = DataLoader(train_dataset, batch_size=32, shuffle=True)\n",
    "    val_loader = DataLoader(val_dataset, batch_size=32, shuffle=False)\n",
    "    \n",
    "    # Extract features for XGBoost\n",
    "    X_train, y_train = extract_features_for_rf(train_loader, resnet50, device)\n",
    "    X_val, y_val = extract_features_for_rf(val_loader, resnet50, device)\n",
    "    \n",
    "    # Normalize Features\n",
    "    scaler = StandardScaler()\n",
    "    X_train = scaler.fit_transform(X_train)\n",
    "    X_val = scaler.transform(X_val)\n",
    "    \n",
    "    # Train XGBoost with GridSearchCV\n",
    "    print(\"Training XGBoost model with GridSearchCV...\")\n",
    "    xgb_model = xgb.XGBClassifier(random_state=42)\n",
    "    grid_search_xgb = GridSearchCV(xgb_model, param_grid_xgb, cv=3, scoring='accuracy', n_jobs=-1, verbose=1)\n",
    "    grid_search_xgb.fit(X_train, y_train)\n",
    "    \n",
    "    # Get best model from grid search\n",
    "    best_xgb_model = grid_search_xgb.best_estimator_\n",
    "    print(f\"Best parameters: {grid_search_xgb.best_params_}\")\n",
    "    \n",
    "    # Evaluate on validation set\n",
    "    val_preds = best_xgb_model.predict(X_val)\n",
    "    val_probs = best_xgb_model.predict_proba(X_val)[:, 1]\n",
    "    \n",
    "    # Calculate metrics\n",
    "    accuracy = accuracy_score(y_val, val_preds) * 100\n",
    "    precision = precision_score(y_val, val_preds, zero_division=1)\n",
    "    recall = recall_score(y_val, val_preds, zero_division=1)\n",
    "    f1 = f1_score(y_val, val_preds, zero_division=1)\n",
    "    \n",
    "    # Calculate AUC if there are both positive and negative samples\n",
    "    if len(np.unique(y_val)) > 1:\n",
    "        auc = roc_auc_score(y_val, val_probs)\n",
    "    else:\n",
    "        auc = 1.0  # Perfect AUC if only one class\n",
    "    \n",
    "    cm = confusion_matrix(y_val, val_preds)\n",
    "    \n",
    "    # Print results for this fold\n",
    "    print(f\"Fold {fold+1} Results:\")\n",
    "    print(f\"  Accuracy: {accuracy:.2f}%\")\n",
    "    print(f\"  Precision: {precision:.4f}\")\n",
    "    print(f\"  Recall: {recall:.4f}\")\n",
    "    print(f\"  F1-Score: {f1:.4f}\")\n",
    "    print(f\"  AUC-ROC: {auc:.4f}\")\n",
    "    print(f\"  Confusion Matrix:\\n{cm}\")\n",
    "    \n",
    "    # Store results\n",
    "    all_accuracy.append(accuracy)\n",
    "    all_precision.append(precision)\n",
    "    all_recall.append(recall)\n",
    "    all_f1.append(f1)\n",
    "    all_auc.append(auc)\n",
    "    all_cm.append(cm)\n",
    "\n",
    "# Calculate mean and standard deviation of metrics\n",
    "mean_accuracy = np.mean(all_accuracy)\n",
    "std_accuracy = np.std(all_accuracy)\n",
    "mean_precision = np.mean(all_precision)\n",
    "std_precision = np.std(all_precision)\n",
    "mean_recall = np.mean(all_recall)\n",
    "std_recall = np.std(all_recall)\n",
    "mean_f1 = np.mean(all_f1)\n",
    "std_f1 = np.std(all_f1)\n",
    "mean_auc = np.mean(all_auc)\n",
    "std_auc = np.std(all_auc)\n",
    "\n",
    "# Display final results\n",
    "print(\"\\n--- K-Fold Cross-Validation Results ---\")\n",
    "print(f\"Mean Accuracy: {mean_accuracy:.2f}% ± {std_accuracy:.2f}%\")\n",
    "print(f\"Mean Precision: {mean_precision:.4f} ± {std_precision:.4f}\")\n",
    "print(f\"Mean Recall: {mean_recall:.4f} ± {std_recall:.4f}\")\n",
    "print(f\"Mean F1-Score: {mean_f1:.4f} ± {std_f1:.4f}\")\n",
    "print(f\"Mean AUC-ROC: {mean_auc:.4f} ± {std_auc:.4f}\")\n",
    "\n",
    "# Calculate average confusion matrix\n",
    "avg_cm = np.mean(all_cm, axis=0, dtype=np.float64)\n",
    "print(f\"Average Confusion Matrix:\\n{avg_cm}\")\n",
    "\n",
    "# Save Cross-Validation Results to a File\n",
    "cv_results = {\n",
    "    \"Mean Accuracy\": float(mean_accuracy),\n",
    "    \"Std Accuracy\": float(std_accuracy),\n",
    "    \"Mean Precision\": float(mean_precision),\n",
    "    \"Std Precision\": float(std_precision),\n",
    "    \"Mean Recall\": float(mean_recall),\n",
    "    \"Std Recall\": float(std_recall),\n",
    "    \"Mean F1-Score\": float(mean_f1),\n",
    "    \"Std F1-Score\": float(std_f1),\n",
    "    \"Mean AUC-ROC\": float(mean_auc),\n",
    "    \"Std AUC-ROC\": float(std_auc),\n",
    "    \"Average Confusion Matrix\": avg_cm.tolist()\n",
    "}\n",
    "\n",
    "cv_results_path = r\"D:\\ProjectML2 - Glaucoma\\FINALLLLLWORK\\xgboost_cv_results.json\"\n",
    "with open(cv_results_path, 'w') as f:\n",
    "    json.dump(cv_results, f, indent=4)\n",
    "\n",
    "print(f\"\\n✅ Successfully completed k-fold cross-validation for XGBoost and saved results to {cv_results_path}\")\n",
    "\n",
    "# Additionally, save the best model from the last fold\n",
    "import joblib\n",
    "model_save_path = r\"D:\\ProjectML2 - Glaucoma\\FINALLLLLWORK\\best_xgboost_model.joblib\"\n",
    "joblib.dump(best_xgb_model, model_save_path)\n",
    "print(f\"✅ Saved best XGBoost model to {model_save_path}\")\n",
    "\n",
    "# Feature importance analysis\n",
    "print(\"\\n--- Feature Importance Analysis ---\")\n",
    "feature_importance = best_xgb_model.feature_importances_\n",
    "# Get the indices of the top 10 most important features\n",
    "top_features_idx = np.argsort(feature_importance)[-10:]\n",
    "top_features_values = feature_importance[top_features_idx]\n",
    "\n",
    "print(\"Top 10 Most Important Features:\")\n",
    "for i, (idx, importance) in enumerate(zip(top_features_idx, top_features_values)):\n",
    "    print(f\"{i+1}. Feature {idx}: {importance:.4f}\")\n",
    "\n",
    "# Save feature importance\n",
    "importance_results = {\n",
    "    \"feature_indices\": top_features_idx.tolist(),\n",
    "    \"importance_values\": top_features_values.tolist()\n",
    "}\n",
    "\n",
    "importance_path = r\"D:\\ProjectML2 - Glaucoma\\FINALLLLLWORK\\xgboost_feature_importance.json\"\n",
    "with open(importance_path, 'w') as f:\n",
    "    json.dump(importance_results, f, indent=4)\n",
    "\n",
    "print(f\"✅ Saved feature importance analysis to {importance_path}\")"
   ]
  },
  {
   "cell_type": "code",
   "execution_count": 46,
   "id": "9af141c0-05a0-4fb6-93e9-30dfd1353257",
   "metadata": {},
   "outputs": [
    {
     "name": "stderr",
     "output_type": "stream",
     "text": [
      "Extracting Features: 100%|███████████████████████| 2/2 [00:00<00:00,  3.28it/s]\n",
      "Extracting Features: 100%|███████████████████████| 2/2 [00:00<00:00,  6.77it/s]\n",
      "Extracting Features: 100%|███████████████████████| 2/2 [00:00<00:00,  6.64it/s]\n",
      "Extracting Features: 100%|███████████████████████| 2/2 [00:00<00:00,  6.18it/s]\n",
      "Extracting Features: 100%|███████████████████████| 2/2 [00:00<00:00,  6.20it/s]\n"
     ]
    },
    {
     "data": {
      "image/png": "[encoded data removed]",
      "text/plain": [
       "<Figure size 1000x800 with 1 Axes>"
      ]
     },
     "metadata": {},
     "output_type": "display_data"
    }
   ],
   "source": [
    "import matplotlib.pyplot as plt\n",
    "from sklearn.metrics import roc_curve, auc\n",
    "\n",
    "# Plot ROC Curve for all folds\n",
    "plt.figure(figsize=(10, 8))\n",
    "colors = ['blue', 'orange', 'green', 'red', 'purple']\n",
    "mean_fpr = np.linspace(0, 1, 100)\n",
    "tprs = []\n",
    "aucs = []\n",
    "\n",
    "for i, (train_idx, val_idx) in enumerate(kf.split(all_images)):\n",
    "    # Reuse previously calculated predictions and true labels\n",
    "    X_val, y_val = extract_features_for_rf(val_loader, resnet50, device)\n",
    "    X_val = scaler.transform(X_val)\n",
    "    \n",
    "    val_probs = best_xgb_model.predict_proba(X_val)[:, 1]\n",
    "    fpr, tpr, _ = roc_curve(y_val, val_probs)\n",
    "    roc_auc = auc(fpr, tpr)\n",
    "    \n",
    "    plt.plot(fpr, tpr, color=colors[i], lw=2, label=f'Fold {i+1} (AUC = {roc_auc:.2f})')\n",
    "    \n",
    "    # Interpolate to calculate the mean ROC\n",
    "    tprs.append(np.interp(mean_fpr, fpr, tpr))\n",
    "    tprs[-1][0] = 0.0\n",
    "    aucs.append(roc_auc)\n",
    "\n",
    "# Plotting the random guess line\n",
    "plt.plot([0, 1], [0, 1], linestyle='--', lw=2, color='r', label='Random Guess (AUC = 0.5)', alpha=0.8)\n",
    "\n",
    "# Plotting the mean ROC curve\n",
    "mean_tpr = np.mean(tprs, axis=0)\n",
    "mean_tpr[-1] = 1.0\n",
    "mean_auc = auc(mean_fpr, mean_tpr)\n",
    "std_auc = np.std(aucs)\n",
    "plt.plot(mean_fpr, mean_tpr, color='black', linestyle='-', lw=2,\n",
    "         label=f'Mean ROC (AUC = {mean_auc:.2f} ± {std_auc:.2f})')\n",
    "\n",
    "# Plot settings\n",
    "plt.title('ROC Curve - XGBoost with ResNet50 Features', fontsize=16)\n",
    "plt.xlabel('False Positive Rate', fontsize=14)\n",
    "plt.ylabel('True Positive Rate', fontsize=14)\n",
    "plt.legend(loc='lower right')\n",
    "plt.grid(True)\n",
    "plt.show()\n"
   ]
  },
  {
   "cell_type": "code",
   "execution_count": null,
   "id": "a4b5deb4-575c-49c3-879c-4d3ba95f5dcf",
   "metadata": {},
   "outputs": [],
   "source": []
  },
  {
   "cell_type": "code",
   "execution_count": null,
   "id": "bbc6118d-6ced-452f-9875-f925d3da73d7",
   "metadata": {},
   "outputs": [],
   "source": []
  },
  {
   "cell_type": "code",
   "execution_count": null,
   "id": "5bb737c7-b774-4db0-b143-bac08d698882",
   "metadata": {},
   "outputs": [],
   "source": []
  },
  {
   "cell_type": "code",
   "execution_count": 23,
   "id": "02761fb3-d94b-49e5-93b6-0d333a5dd66d",
   "metadata": {
    "scrolled": true
   },
   "outputs": [
    {
     "name": "stdout",
     "output_type": "stream",
     "text": [
      "Fitting 3 folds for each of 72 candidates, totalling 216 fits\n",
      "[LightGBM] [Info] Number of positive: 56, number of negative: 118\n",
      "[LightGBM] [Info] Auto-choosing col-wise multi-threading, the overhead of testing was 0.007880 seconds.\n",
      "You can set `force_col_wise=true` to remove the overhead.\n",
      "[LightGBM] [Info] Total Bins 122171\n",
      "[LightGBM] [Info] Number of data points in the train set: 174, number of used features: 2048\n",
      "[LightGBM] [Info] [binary:BoostFromScore]: pavg=0.321839 -> initscore=-0.745333\n",
      "[LightGBM] [Info] Start training from score -0.745333\n",
      "[LightGBM] [Warning] No further splits with positive gain, best gain: -inf\n",
      "[LightGBM] [Warning] No further splits with positive gain, best gain: -inf\n",
      "[LightGBM] [Warning] No further splits with positive gain, best gain: -inf\n",
      "[LightGBM] [Warning] No further splits with positive gain, best gain: -inf\n",
      "[LightGBM] [Warning] No further splits with positive gain, best gain: -inf\n",
      "[LightGBM] [Warning] No further splits with positive gain, best gain: -inf\n",
      "[LightGBM] [Warning] No further splits with positive gain, best gain: -inf\n",
      "[LightGBM] [Warning] No further splits with positive gain, best gain: -inf\n",
      "[LightGBM] [Warning] No further splits with positive gain, best gain: -inf\n",
      "[LightGBM] [Warning] No further splits with positive gain, best gain: -inf\n",
      "[LightGBM] [Warning] No further splits with positive gain, best gain: -inf\n",
      "[LightGBM] [Warning] No further splits with positive gain, best gain: -inf\n",
      "[LightGBM] [Warning] No further splits with positive gain, best gain: -inf\n",
      "[LightGBM] [Warning] No further splits with positive gain, best gain: -inf\n",
      "[LightGBM] [Warning] No further splits with positive gain, best gain: -inf\n",
      "[LightGBM] [Warning] No further splits with positive gain, best gain: -inf\n",
      "[LightGBM] [Warning] No further splits with positive gain, best gain: -inf\n",
      "[LightGBM] [Warning] No further splits with positive gain, best gain: -inf\n",
      "[LightGBM] [Warning] No further splits with positive gain, best gain: -inf\n",
      "[LightGBM] [Warning] No further splits with positive gain, best gain: -inf\n",
      "[LightGBM] [Warning] No further splits with positive gain, best gain: -inf\n",
      "[LightGBM] [Warning] No further splits with positive gain, best gain: -inf\n",
      "[LightGBM] [Warning] No further splits with positive gain, best gain: -inf\n",
      "[LightGBM] [Warning] No further splits with positive gain, best gain: -inf\n",
      "[LightGBM] [Warning] No further splits with positive gain, best gain: -inf\n",
      "[LightGBM] [Warning] No further splits with positive gain, best gain: -inf\n",
      "[LightGBM] [Warning] No further splits with positive gain, best gain: -inf\n",
      "[LightGBM] [Warning] No further splits with positive gain, best gain: -inf\n",
      "[LightGBM] [Warning] No further splits with positive gain, best gain: -inf\n",
      "[LightGBM] [Warning] No further splits with positive gain, best gain: -inf\n",
      "[LightGBM] [Warning] No further splits with positive gain, best gain: -inf\n",
      "[LightGBM] [Warning] No further splits with positive gain, best gain: -inf\n",
      "[LightGBM] [Warning] No further splits with positive gain, best gain: -inf\n",
      "[LightGBM] [Warning] No further splits with positive gain, best gain: -inf\n",
      "[LightGBM] [Warning] No further splits with positive gain, best gain: -inf\n",
      "[LightGBM] [Warning] No further splits with positive gain, best gain: -inf\n",
      "[LightGBM] [Warning] No further splits with positive gain, best gain: -inf\n",
      "[LightGBM] [Warning] No further splits with positive gain, best gain: -inf\n",
      "[LightGBM] [Warning] No further splits with positive gain, best gain: -inf\n",
      "[LightGBM] [Warning] No further splits with positive gain, best gain: -inf\n",
      "[LightGBM] [Warning] No further splits with positive gain, best gain: -inf\n",
      "[LightGBM] [Warning] No further splits with positive gain, best gain: -inf\n",
      "[LightGBM] [Warning] No further splits with positive gain, best gain: -inf\n",
      "[LightGBM] [Warning] No further splits with positive gain, best gain: -inf\n",
      "[LightGBM] [Warning] No further splits with positive gain, best gain: -inf\n",
      "[LightGBM] [Warning] No further splits with positive gain, best gain: -inf\n",
      "[LightGBM] [Warning] No further splits with positive gain, best gain: -inf\n",
      "[LightGBM] [Warning] No further splits with positive gain, best gain: -inf\n",
      "[LightGBM] [Warning] No further splits with positive gain, best gain: -inf\n",
      "[LightGBM] [Warning] No further splits with positive gain, best gain: -inf\n",
      "[LightGBM] [Warning] No further splits with positive gain, best gain: -inf\n",
      "[LightGBM] [Warning] No further splits with positive gain, best gain: -inf\n",
      "[LightGBM] [Warning] No further splits with positive gain, best gain: -inf\n",
      "[LightGBM] [Warning] No further splits with positive gain, best gain: -inf\n",
      "[LightGBM] [Warning] No further splits with positive gain, best gain: -inf\n",
      "[LightGBM] [Warning] No further splits with positive gain, best gain: -inf\n",
      "[LightGBM] [Warning] No further splits with positive gain, best gain: -inf\n",
      "[LightGBM] [Warning] No further splits with positive gain, best gain: -inf\n",
      "[LightGBM] [Warning] No further splits with positive gain, best gain: -inf\n",
      "[LightGBM] [Warning] No further splits with positive gain, best gain: -inf\n",
      "[LightGBM] [Warning] No further splits with positive gain, best gain: -inf\n",
      "[LightGBM] [Warning] No further splits with positive gain, best gain: -inf\n",
      "[LightGBM] [Warning] No further splits with positive gain, best gain: -inf\n",
      "[LightGBM] [Warning] No further splits with positive gain, best gain: -inf\n",
      "[LightGBM] [Warning] No further splits with positive gain, best gain: -inf\n",
      "[LightGBM] [Warning] No further splits with positive gain, best gain: -inf\n",
      "[LightGBM] [Warning] No further splits with positive gain, best gain: -inf\n",
      "[LightGBM] [Warning] No further splits with positive gain, best gain: -inf\n",
      "[LightGBM] [Warning] No further splits with positive gain, best gain: -inf\n",
      "[LightGBM] [Warning] No further splits with positive gain, best gain: -inf\n",
      "[LightGBM] [Warning] No further splits with positive gain, best gain: -inf\n",
      "[LightGBM] [Warning] No further splits with positive gain, best gain: -inf\n",
      "[LightGBM] [Warning] No further splits with positive gain, best gain: -inf\n",
      "[LightGBM] [Warning] No further splits with positive gain, best gain: -inf\n",
      "[LightGBM] [Warning] No further splits with positive gain, best gain: -inf\n",
      "[LightGBM] [Warning] No further splits with positive gain, best gain: -inf\n",
      "[LightGBM] [Warning] No further splits with positive gain, best gain: -inf\n",
      "[LightGBM] [Warning] No further splits with positive gain, best gain: -inf\n",
      "[LightGBM] [Warning] No further splits with positive gain, best gain: -inf\n",
      "[LightGBM] [Warning] No further splits with positive gain, best gain: -inf\n",
      "[LightGBM] [Warning] No further splits with positive gain, best gain: -inf\n",
      "[LightGBM] [Warning] No further splits with positive gain, best gain: -inf\n",
      "[LightGBM] [Warning] No further splits with positive gain, best gain: -inf\n",
      "[LightGBM] [Warning] No further splits with positive gain, best gain: -inf\n",
      "[LightGBM] [Warning] No further splits with positive gain, best gain: -inf\n",
      "[LightGBM] [Warning] No further splits with positive gain, best gain: -inf\n",
      "[LightGBM] [Warning] No further splits with positive gain, best gain: -inf\n",
      "[LightGBM] [Warning] No further splits with positive gain, best gain: -inf\n",
      "[LightGBM] [Warning] No further splits with positive gain, best gain: -inf\n",
      "[LightGBM] [Warning] No further splits with positive gain, best gain: -inf\n",
      "[LightGBM] [Warning] No further splits with positive gain, best gain: -inf\n",
      "[LightGBM] [Warning] No further splits with positive gain, best gain: -inf\n",
      "[LightGBM] [Warning] No further splits with positive gain, best gain: -inf\n",
      "[LightGBM] [Warning] No further splits with positive gain, best gain: -inf\n",
      "[LightGBM] [Warning] No further splits with positive gain, best gain: -inf\n",
      "[LightGBM] [Warning] No further splits with positive gain, best gain: -inf\n",
      "[LightGBM] [Warning] No further splits with positive gain, best gain: -inf\n",
      "[LightGBM] [Warning] No further splits with positive gain, best gain: -inf\n",
      "[LightGBM] [Warning] No further splits with positive gain, best gain: -inf\n",
      "[LightGBM] [Warning] No further splits with positive gain, best gain: -inf\n",
      "[LightGBM] [Warning] No further splits with positive gain, best gain: -inf\n",
      "[LightGBM] [Warning] No further splits with positive gain, best gain: -inf\n",
      "[LightGBM] [Warning] No further splits with positive gain, best gain: -inf\n",
      "[LightGBM] [Warning] No further splits with positive gain, best gain: -inf\n",
      "[LightGBM] [Warning] No further splits with positive gain, best gain: -inf\n",
      "[LightGBM] [Warning] No further splits with positive gain, best gain: -inf\n",
      "[LightGBM] [Warning] No further splits with positive gain, best gain: -inf\n",
      "[LightGBM] [Warning] No further splits with positive gain, best gain: -inf\n",
      "[LightGBM] [Warning] No further splits with positive gain, best gain: -inf\n",
      "[LightGBM] [Warning] No further splits with positive gain, best gain: -inf\n",
      "[LightGBM] [Warning] No further splits with positive gain, best gain: -inf\n",
      "[LightGBM] [Warning] No further splits with positive gain, best gain: -inf\n",
      "[LightGBM] [Warning] No further splits with positive gain, best gain: -inf\n",
      "[LightGBM] [Warning] No further splits with positive gain, best gain: -inf\n",
      "[LightGBM] [Warning] No further splits with positive gain, best gain: -inf\n",
      "[LightGBM] [Warning] No further splits with positive gain, best gain: -inf\n",
      "[LightGBM] [Warning] No further splits with positive gain, best gain: -inf\n",
      "[LightGBM] [Warning] No further splits with positive gain, best gain: -inf\n",
      "[LightGBM] [Warning] No further splits with positive gain, best gain: -inf\n",
      "[LightGBM] [Warning] No further splits with positive gain, best gain: -inf\n",
      "[LightGBM] [Warning] No further splits with positive gain, best gain: -inf\n",
      "[LightGBM] [Warning] No further splits with positive gain, best gain: -inf\n",
      "[LightGBM] [Warning] No further splits with positive gain, best gain: -inf\n",
      "[LightGBM] [Warning] No further splits with positive gain, best gain: -inf\n",
      "[LightGBM] [Warning] No further splits with positive gain, best gain: -inf\n",
      "[LightGBM] [Warning] No further splits with positive gain, best gain: -inf\n",
      "[LightGBM] [Warning] No further splits with positive gain, best gain: -inf\n",
      "[LightGBM] [Warning] No further splits with positive gain, best gain: -inf\n",
      "[LightGBM] [Warning] No further splits with positive gain, best gain: -inf\n",
      "[LightGBM] [Warning] No further splits with positive gain, best gain: -inf\n",
      "[LightGBM] [Warning] No further splits with positive gain, best gain: -inf\n",
      "[LightGBM] [Warning] No further splits with positive gain, best gain: -inf\n",
      "[LightGBM] [Warning] No further splits with positive gain, best gain: -inf\n",
      "[LightGBM] [Warning] No further splits with positive gain, best gain: -inf\n",
      "[LightGBM] [Warning] No further splits with positive gain, best gain: -inf\n",
      "[LightGBM] [Warning] No further splits with positive gain, best gain: -inf\n",
      "[LightGBM] [Warning] No further splits with positive gain, best gain: -inf\n",
      "[LightGBM] [Warning] No further splits with positive gain, best gain: -inf\n",
      "[LightGBM] [Warning] No further splits with positive gain, best gain: -inf\n",
      "[LightGBM] [Warning] No further splits with positive gain, best gain: -inf\n",
      "[LightGBM] [Warning] No further splits with positive gain, best gain: -inf\n",
      "[LightGBM] [Warning] No further splits with positive gain, best gain: -inf\n",
      "[LightGBM] [Warning] No further splits with positive gain, best gain: -inf\n",
      "[LightGBM] [Warning] No further splits with positive gain, best gain: -inf\n",
      "[LightGBM] [Warning] No further splits with positive gain, best gain: -inf\n",
      "[LightGBM] [Warning] No further splits with positive gain, best gain: -inf\n",
      "[LightGBM] [Warning] No further splits with positive gain, best gain: -inf\n",
      "[LightGBM] [Warning] No further splits with positive gain, best gain: -inf\n",
      "[LightGBM] [Warning] No further splits with positive gain, best gain: -inf\n",
      "[LightGBM] [Warning] No further splits with positive gain, best gain: -inf\n",
      "[LightGBM] [Warning] No further splits with positive gain, best gain: -inf\n",
      "[LightGBM] [Warning] No further splits with positive gain, best gain: -inf\n",
      "[LightGBM] [Warning] No further splits with positive gain, best gain: -inf\n",
      "[LightGBM] [Warning] No further splits with positive gain, best gain: -inf\n",
      "[LightGBM] [Warning] No further splits with positive gain, best gain: -inf\n",
      "[LightGBM] [Warning] No further splits with positive gain, best gain: -inf\n",
      "[LightGBM] [Warning] No further splits with positive gain, best gain: -inf\n",
      "[LightGBM] [Warning] No further splits with positive gain, best gain: -inf\n",
      "[LightGBM] [Warning] No further splits with positive gain, best gain: -inf\n",
      "[LightGBM] [Warning] No further splits with positive gain, best gain: -inf\n",
      "[LightGBM] [Warning] No further splits with positive gain, best gain: -inf\n",
      "[LightGBM] [Warning] No further splits with positive gain, best gain: -inf\n",
      "[LightGBM] [Warning] No further splits with positive gain, best gain: -inf\n",
      "[LightGBM] [Warning] No further splits with positive gain, best gain: -inf\n",
      "[LightGBM] [Warning] No further splits with positive gain, best gain: -inf\n",
      "[LightGBM] [Warning] No further splits with positive gain, best gain: -inf\n",
      "[LightGBM] [Warning] No further splits with positive gain, best gain: -inf\n",
      "[LightGBM] [Warning] No further splits with positive gain, best gain: -inf\n",
      "[LightGBM] [Warning] No further splits with positive gain, best gain: -inf\n",
      "[LightGBM] [Warning] No further splits with positive gain, best gain: -inf\n",
      "[LightGBM] [Warning] No further splits with positive gain, best gain: -inf\n",
      "[LightGBM] [Warning] No further splits with positive gain, best gain: -inf\n",
      "[LightGBM] [Warning] No further splits with positive gain, best gain: -inf\n",
      "[LightGBM] [Warning] No further splits with positive gain, best gain: -inf\n",
      "[LightGBM] [Warning] No further splits with positive gain, best gain: -inf\n",
      "[LightGBM] [Warning] No further splits with positive gain, best gain: -inf\n",
      "[LightGBM] [Warning] No further splits with positive gain, best gain: -inf\n",
      "[LightGBM] [Warning] No further splits with positive gain, best gain: -inf\n",
      "[LightGBM] [Warning] No further splits with positive gain, best gain: -inf\n",
      "[LightGBM] [Warning] No further splits with positive gain, best gain: -inf\n",
      "[LightGBM] [Warning] No further splits with positive gain, best gain: -inf\n",
      "[LightGBM] [Warning] No further splits with positive gain, best gain: -inf\n",
      "[LightGBM] [Warning] No further splits with positive gain, best gain: -inf\n",
      "[LightGBM] [Warning] No further splits with positive gain, best gain: -inf\n",
      "[LightGBM] [Warning] No further splits with positive gain, best gain: -inf\n",
      "[LightGBM] [Warning] No further splits with positive gain, best gain: -inf\n",
      "[LightGBM] [Warning] No further splits with positive gain, best gain: -inf\n",
      "[LightGBM] [Warning] No further splits with positive gain, best gain: -inf\n",
      "[LightGBM] [Warning] No further splits with positive gain, best gain: -inf\n",
      "[LightGBM] [Warning] No further splits with positive gain, best gain: -inf\n",
      "[LightGBM] [Warning] No further splits with positive gain, best gain: -inf\n",
      "[LightGBM] [Warning] No further splits with positive gain, best gain: -inf\n",
      "[LightGBM] [Warning] No further splits with positive gain, best gain: -inf\n",
      "[LightGBM] [Warning] No further splits with positive gain, best gain: -inf\n",
      "[LightGBM] [Warning] No further splits with positive gain, best gain: -inf\n",
      "[LightGBM] [Warning] No further splits with positive gain, best gain: -inf\n",
      "[LightGBM] [Warning] No further splits with positive gain, best gain: -inf\n",
      "[LightGBM] [Warning] No further splits with positive gain, best gain: -inf\n",
      "[LightGBM] [Warning] No further splits with positive gain, best gain: -inf\n",
      "[LightGBM] [Warning] No further splits with positive gain, best gain: -inf\n"
     ]
    },
    {
     "name": "stderr",
     "output_type": "stream",
     "text": [
      "Extracting Features: 100%|███████████████████████| 6/6 [00:01<00:00,  3.14it/s]"
     ]
    },
    {
     "name": "stdout",
     "output_type": "stream",
     "text": [
      "{'Accuracy': 98.85057471264368, 'Precision': 0.9821428571428571, 'Recall': 0.9821428571428571, 'F1-Score': 0.9821428571428571, 'AUC-ROC': np.float64(0.9868341404358354), 'Confusion Matrix': [[117, 1], [1, 55]]}\n"
     ]
    },
    {
     "name": "stderr",
     "output_type": "stream",
     "text": [
      "\n",
      "D:\\ProjectML2 - Glaucoma\\pytorchGlaucoma\\Lib\\site-packages\\sklearn\\utils\\validation.py:2739: UserWarning: X does not have valid feature names, but LGBMClassifier was fitted with feature names\n",
      "  warnings.warn(\n"
     ]
    }
   ],
   "source": [
    "import lightgbm as lgb\n",
    "from sklearn.model_selection import GridSearchCV\n",
    "\n",
    "# Hyperparameters for tuning LightGBM\n",
    "param_grid_lgb = {\n",
    "    'learning_rate': [0.01, 0.1],\n",
    "    'num_leaves': [31, 50, 100],\n",
    "    'n_estimators': [50, 100, 200],\n",
    "    'subsample': [0.7, 0.8],\n",
    "    'colsample_bytree': [0.7, 0.8]\n",
    "}\n",
    "\n",
    "lgb_model = lgb.LGBMClassifier(random_state=42)\n",
    "grid_search_lgb = GridSearchCV(lgb_model, param_grid_lgb, cv=3, scoring='accuracy', n_jobs=-1, verbose=2)\n",
    "grid_search_lgb.fit(X_train, y_train)\n",
    "\n",
    "# Get the best model\n",
    "best_lgb_model = grid_search_lgb.best_estimator_\n",
    "\n",
    "# Evaluate the best LightGBM model\n",
    "lgb_results = evaluate_random_forest(best_lgb_model, external_test_loader, scaler, device)\n",
    "print(lgb_results)\n"
   ]
  },
  {
   "cell_type": "code",
   "execution_count": 47,
   "id": "1f99547e-a1ad-4f19-abbb-ca91959ef9b8",
   "metadata": {},
   "outputs": [
    {
     "name": "stderr",
     "output_type": "stream",
     "text": [
      "Extracting Features: 100%|███████████████████████| 2/2 [00:00<00:00,  6.55it/s]\n",
      "D:\\ProjectML2 - Glaucoma\\pytorchGlaucoma\\Lib\\site-packages\\sklearn\\utils\\validation.py:2739: UserWarning: X does not have valid feature names, but LGBMClassifier was fitted with feature names\n",
      "  warnings.warn(\n",
      "Extracting Features: 100%|███████████████████████| 2/2 [00:00<00:00,  6.66it/s]\n",
      "D:\\ProjectML2 - Glaucoma\\pytorchGlaucoma\\Lib\\site-packages\\sklearn\\utils\\validation.py:2739: UserWarning: X does not have valid feature names, but LGBMClassifier was fitted with feature names\n",
      "  warnings.warn(\n",
      "Extracting Features: 100%|███████████████████████| 2/2 [00:00<00:00,  6.61it/s]\n",
      "D:\\ProjectML2 - Glaucoma\\pytorchGlaucoma\\Lib\\site-packages\\sklearn\\utils\\validation.py:2739: UserWarning: X does not have valid feature names, but LGBMClassifier was fitted with feature names\n",
      "  warnings.warn(\n",
      "Extracting Features: 100%|███████████████████████| 2/2 [00:00<00:00,  6.46it/s]\n",
      "D:\\ProjectML2 - Glaucoma\\pytorchGlaucoma\\Lib\\site-packages\\sklearn\\utils\\validation.py:2739: UserWarning: X does not have valid feature names, but LGBMClassifier was fitted with feature names\n",
      "  warnings.warn(\n",
      "Extracting Features: 100%|███████████████████████| 2/2 [00:00<00:00,  6.37it/s]\n",
      "D:\\ProjectML2 - Glaucoma\\pytorchGlaucoma\\Lib\\site-packages\\sklearn\\utils\\validation.py:2739: UserWarning: X does not have valid feature names, but LGBMClassifier was fitted with feature names\n",
      "  warnings.warn(\n"
     ]
    },
    {
     "data": {
      "image/png": "[encoded data removed]",
      "text/plain": [
       "<Figure size 1000x800 with 1 Axes>"
      ]
     },
     "metadata": {},
     "output_type": "display_data"
    }
   ],
   "source": [
    "import matplotlib.pyplot as plt\n",
    "from sklearn.metrics import roc_curve, auc\n",
    "\n",
    "# Plot ROC Curve for all folds\n",
    "plt.figure(figsize=(10, 8))\n",
    "colors = ['blue', 'orange', 'green', 'red', 'purple']\n",
    "mean_fpr = np.linspace(0, 1, 100)\n",
    "tprs = []\n",
    "aucs = []\n",
    "\n",
    "for i, (train_idx, val_idx) in enumerate(kf.split(all_images)):\n",
    "    # Reuse previously calculated predictions and true labels\n",
    "    X_val, y_val = extract_features_for_rf(val_loader, resnet50, device)\n",
    "    X_val = scaler.transform(X_val)\n",
    "    \n",
    "    val_probs = best_lgb_model.predict_proba(X_val)[:, 1]\n",
    "    fpr, tpr, _ = roc_curve(y_val, val_probs)\n",
    "    roc_auc = auc(fpr, tpr)\n",
    "    \n",
    "    plt.plot(fpr, tpr, color=colors[i], lw=2, label=f'Fold {i+1} (AUC = {roc_auc:.2f})')\n",
    "    \n",
    "    # Interpolate to calculate the mean ROC\n",
    "    tprs.append(np.interp(mean_fpr, fpr, tpr))\n",
    "    tprs[-1][0] = 0.0\n",
    "    aucs.append(roc_auc)\n",
    "\n",
    "# Plotting the random guess line\n",
    "plt.plot([0, 1], [0, 1], linestyle='--', lw=2, color='r', label='Random Guess (AUC = 0.5)', alpha=0.8)\n",
    "\n",
    "# Plotting the mean ROC curve\n",
    "mean_tpr = np.mean(tprs, axis=0)\n",
    "mean_tpr[-1] = 1.0\n",
    "mean_auc = auc(mean_fpr, mean_tpr)\n",
    "std_auc = np.std(aucs)\n",
    "plt.plot(mean_fpr, mean_tpr, color='black', linestyle='-', lw=2,\n",
    "         label=f'Mean ROC (AUC = {mean_auc:.2f} ± {std_auc:.2f})')\n",
    "\n",
    "# Plot settings\n",
    "plt.title('ROC Curve - LightGBM with ResNet50 Features', fontsize=16)\n",
    "plt.xlabel('False Positive Rate', fontsize=14)\n",
    "plt.ylabel('True Positive Rate', fontsize=14)\n",
    "plt.legend(loc='lower right')\n",
    "plt.grid(True)\n",
    "plt.show()\n"
   ]
  },
  {
   "cell_type": "code",
   "execution_count": null,
   "id": "3d78c885-20c7-4535-a02b-13ce12db1ff2",
   "metadata": {},
   "outputs": [],
   "source": []
  },
  {
   "cell_type": "code",
   "execution_count": null,
   "id": "d11f5bbd-80b7-4d56-a81f-adc92a1dbaa9",
   "metadata": {},
   "outputs": [],
   "source": []
  },
  {
   "cell_type": "code",
   "execution_count": null,
   "id": "57a4d61f-a984-4f8d-80f8-523795ede169",
   "metadata": {},
   "outputs": [],
   "source": []
  },
  {
   "cell_type": "code",
   "execution_count": null,
   "id": "5f54a2d8-5442-4a6b-b7b3-f8f75c90c6ef",
   "metadata": {},
   "outputs": [],
   "source": []
  },
  {
   "cell_type": "code",
   "execution_count": null,
   "id": "22f61c67-5286-4e5a-bcaf-df47f977cb3e",
   "metadata": {},
   "outputs": [],
   "source": []
  },
  {
   "cell_type": "code",
   "execution_count": null,
   "id": "0b3fc189-2df0-4f79-badb-97742164031b",
   "metadata": {},
   "outputs": [],
   "source": []
  },
  {
   "cell_type": "code",
   "execution_count": null,
   "id": "09294bac-f34d-4979-ba6b-aff7587fe13d",
   "metadata": {},
   "outputs": [],
   "source": []
  },
  {
   "cell_type": "code",
   "execution_count": null,
   "id": "ed406c7b-aa8e-4098-8e74-d117669211b5",
   "metadata": {},
   "outputs": [],
   "source": []
  },
  {
   "cell_type": "code",
   "execution_count": null,
   "id": "656d6a3e-a09b-4b6e-8ab1-e330b4b8315f",
   "metadata": {},
   "outputs": [],
   "source": []
  },
  {
   "cell_type": "code",
   "execution_count": null,
   "id": "5e071db3-5346-4bd3-99d1-316dea4c1fa7",
   "metadata": {},
   "outputs": [],
   "source": []
  }
 ],
 "metadata": {
  "kernelspec": {
   "display_name": "Python 3 (ipykernel)",
   "language": "python",
   "name": "python3"
  },
  "language_info": {
   "codemirror_mode": {
    "name": "ipython",
    "version": 3
   },
   "file_extension": ".py",
   "mimetype": "text/x-python",
   "name": "python",
   "nbconvert_exporter": "python",
   "pygments_lexer": "ipython3",
   "version": "3.11.0"
  }
 },
 "nbformat": 4,
 "nbformat_minor": 5
}
